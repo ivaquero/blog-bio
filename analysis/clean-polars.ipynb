{
 "cells": [
  {
   "attachments": {},
   "cell_type": "markdown",
   "metadata": {},
   "source": [
    "# 读写和过滤"
   ]
  },
  {
   "cell_type": "code",
   "execution_count": 1,
   "metadata": {
    "tags": []
   },
   "outputs": [],
   "source": [
    "import polars as pl"
   ]
  },
  {
   "attachments": {},
   "cell_type": "markdown",
   "metadata": {},
   "source": [
    "## Read & Info\n",
    "\n",
    "### Read tabular data\n"
   ]
  },
  {
   "cell_type": "code",
   "execution_count": 2,
   "metadata": {},
   "outputs": [],
   "source": [
    "user_cols = [\"user_id\", \"age\", \"gender\", \"occupation\", \"zip_code\"]\n",
    "users = pl.read_csv(\"data/movie.user\", separator=\"|\", has_header=False)\n",
    "users.columns = user_cols"
   ]
  },
  {
   "cell_type": "code",
   "execution_count": 3,
   "metadata": {
    "collapsed": false,
    "jupyter": {
     "outputs_hidden": false
    }
   },
   "outputs": [
    {
     "data": {
      "text/html": [
       "<div><style>\n",
       ".dataframe > thead > tr,\n",
       ".dataframe > tbody > tr {\n",
       "  text-align: right;\n",
       "  white-space: pre-wrap;\n",
       "}\n",
       "</style>\n",
       "<small>shape: (5, 5)</small><table border=\"1\" class=\"dataframe\"><thead><tr><th>user_id</th><th>age</th><th>gender</th><th>occupation</th><th>zip_code</th></tr><tr><td>i64</td><td>i64</td><td>str</td><td>str</td><td>str</td></tr></thead><tbody><tr><td>1</td><td>24</td><td>&quot;M&quot;</td><td>&quot;technician&quot;</td><td>&quot;85711&quot;</td></tr><tr><td>2</td><td>53</td><td>&quot;F&quot;</td><td>&quot;other&quot;</td><td>&quot;94043&quot;</td></tr><tr><td>3</td><td>23</td><td>&quot;M&quot;</td><td>&quot;writer&quot;</td><td>&quot;32067&quot;</td></tr><tr><td>4</td><td>24</td><td>&quot;M&quot;</td><td>&quot;technician&quot;</td><td>&quot;43537&quot;</td></tr><tr><td>5</td><td>33</td><td>&quot;F&quot;</td><td>&quot;other&quot;</td><td>&quot;15213&quot;</td></tr></tbody></table></div>"
      ],
      "text/plain": [
       "shape: (5, 5)\n",
       "┌─────────┬─────┬────────┬────────────┬──────────┐\n",
       "│ user_id ┆ age ┆ gender ┆ occupation ┆ zip_code │\n",
       "│ ---     ┆ --- ┆ ---    ┆ ---        ┆ ---      │\n",
       "│ i64     ┆ i64 ┆ str    ┆ str        ┆ str      │\n",
       "╞═════════╪═════╪════════╪════════════╪══════════╡\n",
       "│ 1       ┆ 24  ┆ M      ┆ technician ┆ 85711    │\n",
       "│ 2       ┆ 53  ┆ F      ┆ other      ┆ 94043    │\n",
       "│ 3       ┆ 23  ┆ M      ┆ writer     ┆ 32067    │\n",
       "│ 4       ┆ 24  ┆ M      ┆ technician ┆ 43537    │\n",
       "│ 5       ┆ 33  ┆ F      ┆ other      ┆ 15213    │\n",
       "└─────────┴─────┴────────┴────────────┴──────────┘"
      ]
     },
     "execution_count": 3,
     "metadata": {},
     "output_type": "execute_result"
    }
   ],
   "source": [
    "# examine the first 5 rows\n",
    "users.head()"
   ]
  },
  {
   "cell_type": "code",
   "execution_count": 4,
   "metadata": {},
   "outputs": [
    {
     "data": {
      "text/html": [
       "<div><style>\n",
       ".dataframe > thead > tr,\n",
       ".dataframe > tbody > tr {\n",
       "  text-align: right;\n",
       "  white-space: pre-wrap;\n",
       "}\n",
       "</style>\n",
       "<small>shape: (5, 2)</small><table border=\"1\" class=\"dataframe\"><thead><tr><th>City</th><th>State</th></tr><tr><td>str</td><td>str</td></tr></thead><tbody><tr><td>&quot;Ithaca&quot;</td><td>&quot;NY&quot;</td></tr><tr><td>&quot;Willingboro&quot;</td><td>&quot;NJ&quot;</td></tr><tr><td>&quot;Holyoke&quot;</td><td>&quot;CO&quot;</td></tr><tr><td>&quot;Abilene&quot;</td><td>&quot;KS&quot;</td></tr><tr><td>&quot;New York Worlds Fair&quot;</td><td>&quot;NY&quot;</td></tr></tbody></table></div>"
      ],
      "text/plain": [
       "shape: (5, 2)\n",
       "┌──────────────────────┬───────┐\n",
       "│ City                 ┆ State │\n",
       "│ ---                  ┆ ---   │\n",
       "│ str                  ┆ str   │\n",
       "╞══════════════════════╪═══════╡\n",
       "│ Ithaca               ┆ NY    │\n",
       "│ Willingboro          ┆ NJ    │\n",
       "│ Holyoke              ┆ CO    │\n",
       "│ Abilene              ┆ KS    │\n",
       "│ New York Worlds Fair ┆ NY    │\n",
       "└──────────────────────┴───────┘"
      ]
     },
     "execution_count": 4,
     "metadata": {},
     "output_type": "execute_result"
    }
   ],
   "source": [
    "# specify which columns to include by name\n",
    "pl.read_csv(\"data/ufo.csv\")[\"City\", \"State\"].head()"
   ]
  },
  {
   "cell_type": "code",
   "execution_count": 5,
   "metadata": {},
   "outputs": [
    {
     "data": {
      "text/html": [
       "<div><style>\n",
       ".dataframe > thead > tr,\n",
       ".dataframe > tbody > tr {\n",
       "  text-align: right;\n",
       "  white-space: pre-wrap;\n",
       "}\n",
       "</style>\n",
       "<small>shape: (5, 2)</small><table border=\"1\" class=\"dataframe\"><thead><tr><th>City</th><th>Time</th></tr><tr><td>str</td><td>str</td></tr></thead><tbody><tr><td>&quot;Ithaca&quot;</td><td>&quot;6/1/1930 22:00&quot;</td></tr><tr><td>&quot;Willingboro&quot;</td><td>&quot;6/30/1930 20:00&quot;</td></tr><tr><td>&quot;Holyoke&quot;</td><td>&quot;2/15/1931 14:00&quot;</td></tr><tr><td>&quot;Abilene&quot;</td><td>&quot;6/1/1931 13:00&quot;</td></tr><tr><td>&quot;New York Worlds Fair&quot;</td><td>&quot;4/18/1933 19:00&quot;</td></tr></tbody></table></div>"
      ],
      "text/plain": [
       "shape: (5, 2)\n",
       "┌──────────────────────┬─────────────────┐\n",
       "│ City                 ┆ Time            │\n",
       "│ ---                  ┆ ---             │\n",
       "│ str                  ┆ str             │\n",
       "╞══════════════════════╪═════════════════╡\n",
       "│ Ithaca               ┆ 6/1/1930 22:00  │\n",
       "│ Willingboro          ┆ 6/30/1930 20:00 │\n",
       "│ Holyoke              ┆ 2/15/1931 14:00 │\n",
       "│ Abilene              ┆ 6/1/1931 13:00  │\n",
       "│ New York Worlds Fair ┆ 4/18/1933 19:00 │\n",
       "└──────────────────────┴─────────────────┘"
      ]
     },
     "execution_count": 5,
     "metadata": {},
     "output_type": "execute_result"
    }
   ],
   "source": [
    "# specify columns by position\n",
    "ufo = pl.read_csv(\"data/ufo.csv\")\n",
    "ufo[:, [0, 4]].head()"
   ]
  },
  {
   "attachments": {},
   "cell_type": "markdown",
   "metadata": {},
   "source": [
    "### Describe data\n"
   ]
  },
  {
   "cell_type": "code",
   "execution_count": 6,
   "metadata": {},
   "outputs": [
    {
     "data": {
      "text/html": [
       "<div><style>\n",
       ".dataframe > thead > tr,\n",
       ".dataframe > tbody > tr {\n",
       "  text-align: right;\n",
       "  white-space: pre-wrap;\n",
       "}\n",
       "</style>\n",
       "<small>shape: (5, 6)</small><table border=\"1\" class=\"dataframe\"><thead><tr><th>star_rating</th><th>title</th><th>content_rating</th><th>genre</th><th>duration</th><th>actors_list</th></tr><tr><td>f64</td><td>str</td><td>str</td><td>str</td><td>i64</td><td>str</td></tr></thead><tbody><tr><td>9.3</td><td>&quot;The Shawshank Redemption&quot;</td><td>&quot;R&quot;</td><td>&quot;Crime&quot;</td><td>142</td><td>&quot;[u&#x27;Tim Robbins&#x27;, u&#x27;Morgan Free…</td></tr><tr><td>9.2</td><td>&quot;The Godfather&quot;</td><td>&quot;R&quot;</td><td>&quot;Crime&quot;</td><td>175</td><td>&quot;[u&#x27;Marlon Brando&#x27;, u&#x27;Al Pacino…</td></tr><tr><td>9.1</td><td>&quot;The Godfather: Part II&quot;</td><td>&quot;R&quot;</td><td>&quot;Crime&quot;</td><td>200</td><td>&quot;[u&#x27;Al Pacino&#x27;, u&#x27;Robert De Nir…</td></tr><tr><td>9.0</td><td>&quot;The Dark Knight&quot;</td><td>&quot;PG-13&quot;</td><td>&quot;Action&quot;</td><td>152</td><td>&quot;[u&#x27;Christian Bale&#x27;, u&#x27;Heath Le…</td></tr><tr><td>8.9</td><td>&quot;Pulp Fiction&quot;</td><td>&quot;R&quot;</td><td>&quot;Crime&quot;</td><td>154</td><td>&quot;[u&#x27;John Travolta&#x27;, u&#x27;Uma Thurm…</td></tr></tbody></table></div>"
      ],
      "text/plain": [
       "shape: (5, 6)\n",
       "┌─────────────┬───────────────────────┬────────────────┬────────┬──────────┬───────────────────────┐\n",
       "│ star_rating ┆ title                 ┆ content_rating ┆ genre  ┆ duration ┆ actors_list           │\n",
       "│ ---         ┆ ---                   ┆ ---            ┆ ---    ┆ ---      ┆ ---                   │\n",
       "│ f64         ┆ str                   ┆ str            ┆ str    ┆ i64      ┆ str                   │\n",
       "╞═════════════╪═══════════════════════╪════════════════╪════════╪══════════╪═══════════════════════╡\n",
       "│ 9.3         ┆ The Shawshank         ┆ R              ┆ Crime  ┆ 142      ┆ [u'Tim Robbins',      │\n",
       "│             ┆ Redemption            ┆                ┆        ┆          ┆ u'Morgan Free…        │\n",
       "│ 9.2         ┆ The Godfather         ┆ R              ┆ Crime  ┆ 175      ┆ [u'Marlon Brando',    │\n",
       "│             ┆                       ┆                ┆        ┆          ┆ u'Al Pacino…          │\n",
       "│ 9.1         ┆ The Godfather: Part   ┆ R              ┆ Crime  ┆ 200      ┆ [u'Al Pacino',        │\n",
       "│             ┆ II                    ┆                ┆        ┆          ┆ u'Robert De Nir…      │\n",
       "│ 9.0         ┆ The Dark Knight       ┆ PG-13          ┆ Action ┆ 152      ┆ [u'Christian Bale',   │\n",
       "│             ┆                       ┆                ┆        ┆          ┆ u'Heath Le…           │\n",
       "│ 8.9         ┆ Pulp Fiction          ┆ R              ┆ Crime  ┆ 154      ┆ [u'John Travolta',    │\n",
       "│             ┆                       ┆                ┆        ┆          ┆ u'Uma Thurm…          │\n",
       "└─────────────┴───────────────────────┴────────────────┴────────┴──────────┴───────────────────────┘"
      ]
     },
     "execution_count": 6,
     "metadata": {},
     "output_type": "execute_result"
    }
   ],
   "source": [
    "movies = pl.read_csv(\"data/imdb_1000.csv\")\n",
    "movies.head()"
   ]
  },
  {
   "cell_type": "code",
   "execution_count": 7,
   "metadata": {
    "collapsed": false,
    "jupyter": {
     "outputs_hidden": false
    }
   },
   "outputs": [
    {
     "data": {
      "text/plain": [
       "(979, 6)"
      ]
     },
     "execution_count": 7,
     "metadata": {},
     "output_type": "execute_result"
    }
   ],
   "source": [
    "# example attribute: number of rows and columns\n",
    "movies.shape"
   ]
  },
  {
   "cell_type": "code",
   "execution_count": 8,
   "metadata": {
    "collapsed": false,
    "jupyter": {
     "outputs_hidden": false
    },
    "scrolled": true
   },
   "outputs": [
    {
     "data": {
      "text/plain": [
       "[Float64, String, String, String, Int64, String]"
      ]
     },
     "execution_count": 8,
     "metadata": {},
     "output_type": "execute_result"
    }
   ],
   "source": [
    "# example attribute: data type of each column\n",
    "movies.dtypes"
   ]
  },
  {
   "cell_type": "code",
   "execution_count": 9,
   "metadata": {
    "collapsed": false,
    "jupyter": {
     "outputs_hidden": false
    }
   },
   "outputs": [
    {
     "data": {
      "text/html": [
       "<div><style>\n",
       ".dataframe > thead > tr,\n",
       ".dataframe > tbody > tr {\n",
       "  text-align: right;\n",
       "  white-space: pre-wrap;\n",
       "}\n",
       "</style>\n",
       "<small>shape: (9, 7)</small><table border=\"1\" class=\"dataframe\"><thead><tr><th>statistic</th><th>star_rating</th><th>title</th><th>content_rating</th><th>genre</th><th>duration</th><th>actors_list</th></tr><tr><td>str</td><td>f64</td><td>str</td><td>str</td><td>str</td><td>f64</td><td>str</td></tr></thead><tbody><tr><td>&quot;count&quot;</td><td>979.0</td><td>&quot;979&quot;</td><td>&quot;976&quot;</td><td>&quot;979&quot;</td><td>979.0</td><td>&quot;979&quot;</td></tr><tr><td>&quot;null_count&quot;</td><td>0.0</td><td>&quot;0&quot;</td><td>&quot;3&quot;</td><td>&quot;0&quot;</td><td>0.0</td><td>&quot;0&quot;</td></tr><tr><td>&quot;mean&quot;</td><td>7.889785</td><td>null</td><td>null</td><td>null</td><td>120.979571</td><td>null</td></tr><tr><td>&quot;std&quot;</td><td>0.336069</td><td>null</td><td>null</td><td>null</td><td>26.21801</td><td>null</td></tr><tr><td>&quot;min&quot;</td><td>7.4</td><td>&quot;(500) Days of Summer&quot;</td><td>&quot;APPROVED&quot;</td><td>&quot;Action&quot;</td><td>64.0</td><td>&quot;[u&quot;Brian O&#x27;Halloran&quot;, u&#x27;Jeff A…</td></tr><tr><td>&quot;25%&quot;</td><td>7.6</td><td>null</td><td>null</td><td>null</td><td>102.0</td><td>null</td></tr><tr><td>&quot;50%&quot;</td><td>7.8</td><td>null</td><td>null</td><td>null</td><td>117.0</td><td>null</td></tr><tr><td>&quot;75%&quot;</td><td>8.1</td><td>null</td><td>null</td><td>null</td><td>134.0</td><td>null</td></tr><tr><td>&quot;max&quot;</td><td>9.3</td><td>&quot;[Rec]&quot;</td><td>&quot;X&quot;</td><td>&quot;Western&quot;</td><td>242.0</td><td>&quot;[u&#x27;Zooey Deschanel&#x27;, u&#x27;Joseph …</td></tr></tbody></table></div>"
      ],
      "text/plain": [
       "shape: (9, 7)\n",
       "┌────────────┬─────────────┬────────────────┬───────────────┬─────────┬────────────┬───────────────┐\n",
       "│ statistic  ┆ star_rating ┆ title          ┆ content_ratin ┆ genre   ┆ duration   ┆ actors_list   │\n",
       "│ ---        ┆ ---         ┆ ---            ┆ g             ┆ ---     ┆ ---        ┆ ---           │\n",
       "│ str        ┆ f64         ┆ str            ┆ ---           ┆ str     ┆ f64        ┆ str           │\n",
       "│            ┆             ┆                ┆ str           ┆         ┆            ┆               │\n",
       "╞════════════╪═════════════╪════════════════╪═══════════════╪═════════╪════════════╪═══════════════╡\n",
       "│ count      ┆ 979.0       ┆ 979            ┆ 976           ┆ 979     ┆ 979.0      ┆ 979           │\n",
       "│ null_count ┆ 0.0         ┆ 0              ┆ 3             ┆ 0       ┆ 0.0        ┆ 0             │\n",
       "│ mean       ┆ 7.889785    ┆ null           ┆ null          ┆ null    ┆ 120.979571 ┆ null          │\n",
       "│ std        ┆ 0.336069    ┆ null           ┆ null          ┆ null    ┆ 26.21801   ┆ null          │\n",
       "│ min        ┆ 7.4         ┆ (500) Days of  ┆ APPROVED      ┆ Action  ┆ 64.0       ┆ [u\"Brian      │\n",
       "│            ┆             ┆ Summer         ┆               ┆         ┆            ┆ O'Halloran\",  │\n",
       "│            ┆             ┆                ┆               ┆         ┆            ┆ u'Jeff A…     │\n",
       "│ 25%        ┆ 7.6         ┆ null           ┆ null          ┆ null    ┆ 102.0      ┆ null          │\n",
       "│ 50%        ┆ 7.8         ┆ null           ┆ null          ┆ null    ┆ 117.0      ┆ null          │\n",
       "│ 75%        ┆ 8.1         ┆ null           ┆ null          ┆ null    ┆ 134.0      ┆ null          │\n",
       "│ max        ┆ 9.3         ┆ [Rec]          ┆ X             ┆ Western ┆ 242.0      ┆ [u'Zooey      │\n",
       "│            ┆             ┆                ┆               ┆         ┆            ┆ Deschanel',   │\n",
       "│            ┆             ┆                ┆               ┆         ┆            ┆ u'Joseph …    │\n",
       "└────────────┴─────────────┴────────────────┴───────────────┴─────────┴────────────┴───────────────┘"
      ]
     },
     "execution_count": 9,
     "metadata": {},
     "output_type": "execute_result"
    }
   ],
   "source": [
    "# example method: calculate summary statistics\n",
    "movies.describe()"
   ]
  },
  {
   "cell_type": "code",
   "execution_count": 10,
   "metadata": {},
   "outputs": [
    {
     "data": {
      "text/html": [
       "<div><style>\n",
       ".dataframe > thead > tr,\n",
       ".dataframe > tbody > tr {\n",
       "  text-align: right;\n",
       "  white-space: pre-wrap;\n",
       "}\n",
       "</style>\n",
       "<small>shape: (9, 3)</small><table border=\"1\" class=\"dataframe\"><thead><tr><th>statistic</th><th>star_rating</th><th>duration</th></tr><tr><td>str</td><td>f64</td><td>f64</td></tr></thead><tbody><tr><td>&quot;count&quot;</td><td>979.0</td><td>979.0</td></tr><tr><td>&quot;null_count&quot;</td><td>0.0</td><td>0.0</td></tr><tr><td>&quot;mean&quot;</td><td>7.889785</td><td>120.979571</td></tr><tr><td>&quot;std&quot;</td><td>0.336069</td><td>26.21801</td></tr><tr><td>&quot;min&quot;</td><td>7.4</td><td>64.0</td></tr><tr><td>&quot;25%&quot;</td><td>7.6</td><td>102.0</td></tr><tr><td>&quot;50%&quot;</td><td>7.8</td><td>117.0</td></tr><tr><td>&quot;75%&quot;</td><td>8.1</td><td>134.0</td></tr><tr><td>&quot;max&quot;</td><td>9.3</td><td>242.0</td></tr></tbody></table></div>"
      ],
      "text/plain": [
       "shape: (9, 3)\n",
       "┌────────────┬─────────────┬────────────┐\n",
       "│ statistic  ┆ star_rating ┆ duration   │\n",
       "│ ---        ┆ ---         ┆ ---        │\n",
       "│ str        ┆ f64         ┆ f64        │\n",
       "╞════════════╪═════════════╪════════════╡\n",
       "│ count      ┆ 979.0       ┆ 979.0      │\n",
       "│ null_count ┆ 0.0         ┆ 0.0        │\n",
       "│ mean       ┆ 7.889785    ┆ 120.979571 │\n",
       "│ std        ┆ 0.336069    ┆ 26.21801   │\n",
       "│ min        ┆ 7.4         ┆ 64.0       │\n",
       "│ 25%        ┆ 7.6         ┆ 102.0      │\n",
       "│ 50%        ┆ 7.8         ┆ 117.0      │\n",
       "│ 75%        ┆ 8.1         ┆ 134.0      │\n",
       "│ max        ┆ 9.3         ┆ 242.0      │\n",
       "└────────────┴─────────────┴────────────┘"
      ]
     },
     "execution_count": 10,
     "metadata": {},
     "output_type": "execute_result"
    }
   ],
   "source": [
    "movies.select(pl.selectors.numeric()).describe()"
   ]
  },
  {
   "attachments": {},
   "cell_type": "markdown",
   "metadata": {},
   "source": [
    "## Column Manipulation\n"
   ]
  },
  {
   "attachments": {},
   "cell_type": "markdown",
   "metadata": {},
   "source": [
    "### Create a new column\n"
   ]
  },
  {
   "cell_type": "code",
   "execution_count": 11,
   "metadata": {
    "collapsed": false,
    "jupyter": {
     "outputs_hidden": false
    }
   },
   "outputs": [
    {
     "data": {
      "text/html": [
       "<div><style>\n",
       ".dataframe > thead > tr,\n",
       ".dataframe > tbody > tr {\n",
       "  text-align: right;\n",
       "  white-space: pre-wrap;\n",
       "}\n",
       "</style>\n",
       "<small>shape: (5, 6)</small><table border=\"1\" class=\"dataframe\"><thead><tr><th>City</th><th>Colors Reported</th><th>Shape Reported</th><th>State</th><th>Time</th><th>Location</th></tr><tr><td>str</td><td>str</td><td>str</td><td>str</td><td>str</td><td>str</td></tr></thead><tbody><tr><td>&quot;Ithaca&quot;</td><td>null</td><td>&quot;TRIANGLE&quot;</td><td>&quot;NY&quot;</td><td>&quot;6/1/1930 22:00&quot;</td><td>&quot;Ithaca, NY&quot;</td></tr><tr><td>&quot;Willingboro&quot;</td><td>null</td><td>&quot;OTHER&quot;</td><td>&quot;NJ&quot;</td><td>&quot;6/30/1930 20:00&quot;</td><td>&quot;Willingboro, NJ&quot;</td></tr><tr><td>&quot;Holyoke&quot;</td><td>null</td><td>&quot;OVAL&quot;</td><td>&quot;CO&quot;</td><td>&quot;2/15/1931 14:00&quot;</td><td>&quot;Holyoke, CO&quot;</td></tr><tr><td>&quot;Abilene&quot;</td><td>null</td><td>&quot;DISK&quot;</td><td>&quot;KS&quot;</td><td>&quot;6/1/1931 13:00&quot;</td><td>&quot;Abilene, KS&quot;</td></tr><tr><td>&quot;New York Worlds Fair&quot;</td><td>null</td><td>&quot;LIGHT&quot;</td><td>&quot;NY&quot;</td><td>&quot;4/18/1933 19:00&quot;</td><td>&quot;New York Worlds Fair, NY&quot;</td></tr></tbody></table></div>"
      ],
      "text/plain": [
       "shape: (5, 6)\n",
       "┌──────────────────┬─────────────────┬────────────────┬───────┬─────────────────┬──────────────────┐\n",
       "│ City             ┆ Colors Reported ┆ Shape Reported ┆ State ┆ Time            ┆ Location         │\n",
       "│ ---              ┆ ---             ┆ ---            ┆ ---   ┆ ---             ┆ ---              │\n",
       "│ str              ┆ str             ┆ str            ┆ str   ┆ str             ┆ str              │\n",
       "╞══════════════════╪═════════════════╪════════════════╪═══════╪═════════════════╪══════════════════╡\n",
       "│ Ithaca           ┆ null            ┆ TRIANGLE       ┆ NY    ┆ 6/1/1930 22:00  ┆ Ithaca, NY       │\n",
       "│ Willingboro      ┆ null            ┆ OTHER          ┆ NJ    ┆ 6/30/1930 20:00 ┆ Willingboro, NJ  │\n",
       "│ Holyoke          ┆ null            ┆ OVAL           ┆ CO    ┆ 2/15/1931 14:00 ┆ Holyoke, CO      │\n",
       "│ Abilene          ┆ null            ┆ DISK           ┆ KS    ┆ 6/1/1931 13:00  ┆ Abilene, KS      │\n",
       "│ New York Worlds  ┆ null            ┆ LIGHT          ┆ NY    ┆ 4/18/1933 19:00 ┆ New York Worlds  │\n",
       "│ Fair             ┆                 ┆                ┆       ┆                 ┆ Fair, NY         │\n",
       "└──────────────────┴─────────────────┴────────────────┴───────┴─────────────────┴──────────────────┘"
      ]
     },
     "execution_count": 11,
     "metadata": {},
     "output_type": "execute_result"
    }
   ],
   "source": [
    "# create a new 'Location' Series (must use bracket notation to define the Series name)\n",
    "ufo2 = ufo.with_columns(Location=(pl.col(\"City\") + \", \" + pl.col(\"State\")))\n",
    "ufo2.head()"
   ]
  },
  {
   "attachments": {},
   "cell_type": "markdown",
   "metadata": {},
   "source": [
    "### Rename columns\n"
   ]
  },
  {
   "cell_type": "code",
   "execution_count": 12,
   "metadata": {},
   "outputs": [],
   "source": [
    "ufo = pl.read_csv(\"data/ufo.csv\")"
   ]
  },
  {
   "cell_type": "code",
   "execution_count": 13,
   "metadata": {
    "collapsed": false,
    "jupyter": {
     "outputs_hidden": false
    }
   },
   "outputs": [
    {
     "data": {
      "text/plain": [
       "['City', 'Colors Reported', 'Shape Reported', 'State', 'Time']"
      ]
     },
     "execution_count": 13,
     "metadata": {},
     "output_type": "execute_result"
    }
   ],
   "source": [
    "# examine the column names\n",
    "ufo.columns"
   ]
  },
  {
   "cell_type": "code",
   "execution_count": 14,
   "metadata": {
    "collapsed": false,
    "jupyter": {
     "outputs_hidden": false
    }
   },
   "outputs": [
    {
     "data": {
      "text/plain": [
       "['City', 'Colors_Reported', 'Shape_Reported', 'State', 'Time']"
      ]
     },
     "execution_count": 14,
     "metadata": {},
     "output_type": "execute_result"
    }
   ],
   "source": [
    "# rename two of the columns by using the 'rename' method\n",
    "ufo = ufo.rename({\n",
    "    \"Colors Reported\": \"Colors_Reported\",\n",
    "    \"Shape Reported\": \"Shape_Reported\",\n",
    "})\n",
    "ufo.columns"
   ]
  },
  {
   "cell_type": "code",
   "execution_count": 15,
   "metadata": {
    "collapsed": false,
    "jupyter": {
     "outputs_hidden": false
    }
   },
   "outputs": [
    {
     "data": {
      "text/plain": [
       "['city', 'colors reported', 'shape reported', 'state', 'time']"
      ]
     },
     "execution_count": 15,
     "metadata": {},
     "output_type": "execute_result"
    }
   ],
   "source": [
    "# replace all of the column names by overwriting the 'columns' attribute\n",
    "ufo_cols = [\"city\", \"colors reported\", \"shape reported\", \"state\", \"time\"]\n",
    "ufo.columns = ufo_cols\n",
    "ufo.columns"
   ]
  },
  {
   "cell_type": "code",
   "execution_count": 16,
   "metadata": {
    "collapsed": false,
    "jupyter": {
     "outputs_hidden": false
    }
   },
   "outputs": [
    {
     "data": {
      "text/plain": [
       "['city', 'colors reported', 'shape reported', 'state', 'time']"
      ]
     },
     "execution_count": 16,
     "metadata": {},
     "output_type": "execute_result"
    }
   ],
   "source": [
    "# replace the column names during the file reading process by using the 'names' parameter\n",
    "ufo = pl.read_csv(\"data/ufo.csv\", has_header=False)\n",
    "ufo.columns = ufo_cols\n",
    "ufo.columns"
   ]
  },
  {
   "cell_type": "code",
   "execution_count": 17,
   "metadata": {
    "collapsed": false,
    "jupyter": {
     "outputs_hidden": false
    }
   },
   "outputs": [
    {
     "data": {
      "text/plain": [
       "['city', 'colors_reported', 'shape_reported', 'state', 'time']"
      ]
     },
     "execution_count": 17,
     "metadata": {},
     "output_type": "execute_result"
    }
   ],
   "source": [
    "# replace all spaces with underscores in the column names by using the 'str.replace' method\n",
    "ufo.columns = pl.Series(ufo.columns).str.replace(\" \", \"_\").to_list()\n",
    "ufo.columns"
   ]
  },
  {
   "attachments": {},
   "cell_type": "markdown",
   "metadata": {},
   "source": [
    "### Remove columns\n"
   ]
  },
  {
   "cell_type": "code",
   "execution_count": 18,
   "metadata": {
    "collapsed": false,
    "jupyter": {
     "outputs_hidden": false
    }
   },
   "outputs": [
    {
     "data": {
      "text/html": [
       "<div><style>\n",
       ".dataframe > thead > tr,\n",
       ".dataframe > tbody > tr {\n",
       "  text-align: right;\n",
       "  white-space: pre-wrap;\n",
       "}\n",
       "</style>\n",
       "<small>shape: (5, 5)</small><table border=\"1\" class=\"dataframe\"><thead><tr><th>City</th><th>Colors Reported</th><th>Shape Reported</th><th>State</th><th>Time</th></tr><tr><td>str</td><td>str</td><td>str</td><td>str</td><td>str</td></tr></thead><tbody><tr><td>&quot;Ithaca&quot;</td><td>null</td><td>&quot;TRIANGLE&quot;</td><td>&quot;NY&quot;</td><td>&quot;6/1/1930 22:00&quot;</td></tr><tr><td>&quot;Willingboro&quot;</td><td>null</td><td>&quot;OTHER&quot;</td><td>&quot;NJ&quot;</td><td>&quot;6/30/1930 20:00&quot;</td></tr><tr><td>&quot;Holyoke&quot;</td><td>null</td><td>&quot;OVAL&quot;</td><td>&quot;CO&quot;</td><td>&quot;2/15/1931 14:00&quot;</td></tr><tr><td>&quot;Abilene&quot;</td><td>null</td><td>&quot;DISK&quot;</td><td>&quot;KS&quot;</td><td>&quot;6/1/1931 13:00&quot;</td></tr><tr><td>&quot;New York Worlds Fair&quot;</td><td>null</td><td>&quot;LIGHT&quot;</td><td>&quot;NY&quot;</td><td>&quot;4/18/1933 19:00&quot;</td></tr></tbody></table></div>"
      ],
      "text/plain": [
       "shape: (5, 5)\n",
       "┌──────────────────────┬─────────────────┬────────────────┬───────┬─────────────────┐\n",
       "│ City                 ┆ Colors Reported ┆ Shape Reported ┆ State ┆ Time            │\n",
       "│ ---                  ┆ ---             ┆ ---            ┆ ---   ┆ ---             │\n",
       "│ str                  ┆ str             ┆ str            ┆ str   ┆ str             │\n",
       "╞══════════════════════╪═════════════════╪════════════════╪═══════╪═════════════════╡\n",
       "│ Ithaca               ┆ null            ┆ TRIANGLE       ┆ NY    ┆ 6/1/1930 22:00  │\n",
       "│ Willingboro          ┆ null            ┆ OTHER          ┆ NJ    ┆ 6/30/1930 20:00 │\n",
       "│ Holyoke              ┆ null            ┆ OVAL           ┆ CO    ┆ 2/15/1931 14:00 │\n",
       "│ Abilene              ┆ null            ┆ DISK           ┆ KS    ┆ 6/1/1931 13:00  │\n",
       "│ New York Worlds Fair ┆ null            ┆ LIGHT          ┆ NY    ┆ 4/18/1933 19:00 │\n",
       "└──────────────────────┴─────────────────┴────────────────┴───────┴─────────────────┘"
      ]
     },
     "execution_count": 18,
     "metadata": {},
     "output_type": "execute_result"
    }
   ],
   "source": [
    "ufo = pl.read_csv(\"data/ufo.csv\")\n",
    "ufo.head()"
   ]
  },
  {
   "cell_type": "code",
   "execution_count": 19,
   "metadata": {
    "collapsed": false,
    "jupyter": {
     "outputs_hidden": false
    }
   },
   "outputs": [
    {
     "data": {
      "text/html": [
       "<div><style>\n",
       ".dataframe > thead > tr,\n",
       ".dataframe > tbody > tr {\n",
       "  text-align: right;\n",
       "  white-space: pre-wrap;\n",
       "}\n",
       "</style>\n",
       "<small>shape: (5, 4)</small><table border=\"1\" class=\"dataframe\"><thead><tr><th>City</th><th>Shape Reported</th><th>State</th><th>Time</th></tr><tr><td>str</td><td>str</td><td>str</td><td>str</td></tr></thead><tbody><tr><td>&quot;Ithaca&quot;</td><td>&quot;TRIANGLE&quot;</td><td>&quot;NY&quot;</td><td>&quot;6/1/1930 22:00&quot;</td></tr><tr><td>&quot;Willingboro&quot;</td><td>&quot;OTHER&quot;</td><td>&quot;NJ&quot;</td><td>&quot;6/30/1930 20:00&quot;</td></tr><tr><td>&quot;Holyoke&quot;</td><td>&quot;OVAL&quot;</td><td>&quot;CO&quot;</td><td>&quot;2/15/1931 14:00&quot;</td></tr><tr><td>&quot;Abilene&quot;</td><td>&quot;DISK&quot;</td><td>&quot;KS&quot;</td><td>&quot;6/1/1931 13:00&quot;</td></tr><tr><td>&quot;New York Worlds Fair&quot;</td><td>&quot;LIGHT&quot;</td><td>&quot;NY&quot;</td><td>&quot;4/18/1933 19:00&quot;</td></tr></tbody></table></div>"
      ],
      "text/plain": [
       "shape: (5, 4)\n",
       "┌──────────────────────┬────────────────┬───────┬─────────────────┐\n",
       "│ City                 ┆ Shape Reported ┆ State ┆ Time            │\n",
       "│ ---                  ┆ ---            ┆ ---   ┆ ---             │\n",
       "│ str                  ┆ str            ┆ str   ┆ str             │\n",
       "╞══════════════════════╪════════════════╪═══════╪═════════════════╡\n",
       "│ Ithaca               ┆ TRIANGLE       ┆ NY    ┆ 6/1/1930 22:00  │\n",
       "│ Willingboro          ┆ OTHER          ┆ NJ    ┆ 6/30/1930 20:00 │\n",
       "│ Holyoke              ┆ OVAL           ┆ CO    ┆ 2/15/1931 14:00 │\n",
       "│ Abilene              ┆ DISK           ┆ KS    ┆ 6/1/1931 13:00  │\n",
       "│ New York Worlds Fair ┆ LIGHT          ┆ NY    ┆ 4/18/1933 19:00 │\n",
       "└──────────────────────┴────────────────┴───────┴─────────────────┘"
      ]
     },
     "execution_count": 19,
     "metadata": {},
     "output_type": "execute_result"
    }
   ],
   "source": [
    "# remove a single column (axis=1 refers to columns)\n",
    "ufo = ufo.drop(\"Colors Reported\")\n",
    "ufo.head()"
   ]
  },
  {
   "cell_type": "code",
   "execution_count": 20,
   "metadata": {
    "collapsed": false,
    "jupyter": {
     "outputs_hidden": false
    }
   },
   "outputs": [
    {
     "data": {
      "text/html": [
       "<div><style>\n",
       ".dataframe > thead > tr,\n",
       ".dataframe > tbody > tr {\n",
       "  text-align: right;\n",
       "  white-space: pre-wrap;\n",
       "}\n",
       "</style>\n",
       "<small>shape: (5, 2)</small><table border=\"1\" class=\"dataframe\"><thead><tr><th>Shape Reported</th><th>Time</th></tr><tr><td>str</td><td>str</td></tr></thead><tbody><tr><td>&quot;TRIANGLE&quot;</td><td>&quot;6/1/1930 22:00&quot;</td></tr><tr><td>&quot;OTHER&quot;</td><td>&quot;6/30/1930 20:00&quot;</td></tr><tr><td>&quot;OVAL&quot;</td><td>&quot;2/15/1931 14:00&quot;</td></tr><tr><td>&quot;DISK&quot;</td><td>&quot;6/1/1931 13:00&quot;</td></tr><tr><td>&quot;LIGHT&quot;</td><td>&quot;4/18/1933 19:00&quot;</td></tr></tbody></table></div>"
      ],
      "text/plain": [
       "shape: (5, 2)\n",
       "┌────────────────┬─────────────────┐\n",
       "│ Shape Reported ┆ Time            │\n",
       "│ ---            ┆ ---             │\n",
       "│ str            ┆ str             │\n",
       "╞════════════════╪═════════════════╡\n",
       "│ TRIANGLE       ┆ 6/1/1930 22:00  │\n",
       "│ OTHER          ┆ 6/30/1930 20:00 │\n",
       "│ OVAL           ┆ 2/15/1931 14:00 │\n",
       "│ DISK           ┆ 6/1/1931 13:00  │\n",
       "│ LIGHT          ┆ 4/18/1933 19:00 │\n",
       "└────────────────┴─────────────────┘"
      ]
     },
     "execution_count": 20,
     "metadata": {},
     "output_type": "execute_result"
    }
   ],
   "source": [
    "# remove multiple columns at once\n",
    "ufo.drop([\"City\", \"State\"]).head()"
   ]
  },
  {
   "attachments": {},
   "cell_type": "markdown",
   "metadata": {},
   "source": [
    "### Remove rows\n"
   ]
  },
  {
   "cell_type": "code",
   "execution_count": 21,
   "metadata": {},
   "outputs": [],
   "source": [
    "# new way to drop rows: specify index\n",
    "# ufo.drop(index=[0, 1]).head()"
   ]
  },
  {
   "attachments": {},
   "cell_type": "markdown",
   "metadata": {},
   "source": [
    "## Select\n"
   ]
  },
  {
   "attachments": {},
   "cell_type": "markdown",
   "metadata": {},
   "source": [
    "### Iterate\n"
   ]
  },
  {
   "cell_type": "code",
   "execution_count": 22,
   "metadata": {},
   "outputs": [
    {
     "data": {
      "text/html": [
       "<div><style>\n",
       ".dataframe > thead > tr,\n",
       ".dataframe > tbody > tr {\n",
       "  text-align: right;\n",
       "  white-space: pre-wrap;\n",
       "}\n",
       "</style>\n",
       "<small>shape: (5, 5)</small><table border=\"1\" class=\"dataframe\"><thead><tr><th>City</th><th>Colors Reported</th><th>Shape Reported</th><th>State</th><th>Time</th></tr><tr><td>str</td><td>str</td><td>str</td><td>str</td><td>str</td></tr></thead><tbody><tr><td>&quot;Ithaca&quot;</td><td>null</td><td>&quot;TRIANGLE&quot;</td><td>&quot;NY&quot;</td><td>&quot;6/1/1930 22:00&quot;</td></tr><tr><td>&quot;Willingboro&quot;</td><td>null</td><td>&quot;OTHER&quot;</td><td>&quot;NJ&quot;</td><td>&quot;6/30/1930 20:00&quot;</td></tr><tr><td>&quot;Holyoke&quot;</td><td>null</td><td>&quot;OVAL&quot;</td><td>&quot;CO&quot;</td><td>&quot;2/15/1931 14:00&quot;</td></tr><tr><td>&quot;Abilene&quot;</td><td>null</td><td>&quot;DISK&quot;</td><td>&quot;KS&quot;</td><td>&quot;6/1/1931 13:00&quot;</td></tr><tr><td>&quot;New York Worlds Fair&quot;</td><td>null</td><td>&quot;LIGHT&quot;</td><td>&quot;NY&quot;</td><td>&quot;4/18/1933 19:00&quot;</td></tr></tbody></table></div>"
      ],
      "text/plain": [
       "shape: (5, 5)\n",
       "┌──────────────────────┬─────────────────┬────────────────┬───────┬─────────────────┐\n",
       "│ City                 ┆ Colors Reported ┆ Shape Reported ┆ State ┆ Time            │\n",
       "│ ---                  ┆ ---             ┆ ---            ┆ ---   ┆ ---             │\n",
       "│ str                  ┆ str             ┆ str            ┆ str   ┆ str             │\n",
       "╞══════════════════════╪═════════════════╪════════════════╪═══════╪═════════════════╡\n",
       "│ Ithaca               ┆ null            ┆ TRIANGLE       ┆ NY    ┆ 6/1/1930 22:00  │\n",
       "│ Willingboro          ┆ null            ┆ OTHER          ┆ NJ    ┆ 6/30/1930 20:00 │\n",
       "│ Holyoke              ┆ null            ┆ OVAL           ┆ CO    ┆ 2/15/1931 14:00 │\n",
       "│ Abilene              ┆ null            ┆ DISK           ┆ KS    ┆ 6/1/1931 13:00  │\n",
       "│ New York Worlds Fair ┆ null            ┆ LIGHT          ┆ NY    ┆ 4/18/1933 19:00 │\n",
       "└──────────────────────┴─────────────────┴────────────────┴───────┴─────────────────┘"
      ]
     },
     "execution_count": 22,
     "metadata": {},
     "output_type": "execute_result"
    }
   ],
   "source": [
    "ufo = pl.read_csv(\"data/ufo.csv\")\n",
    "ufo.head()"
   ]
  },
  {
   "cell_type": "code",
   "execution_count": 23,
   "metadata": {
    "collapsed": false,
    "jupyter": {
     "outputs_hidden": false
    }
   },
   "outputs": [
    {
     "name": "stdout",
     "output_type": "stream",
     "text": [
      "Ithaca NY\n",
      "Willingboro NJ\n",
      "Holyoke CO\n",
      "Abilene KS\n",
      "New York Worlds Fair NY\n",
      "Valley City ND\n",
      "Crater Lake CA\n",
      "Alma MI\n",
      "Eklutna AK\n",
      "Hubbard OR\n"
     ]
    }
   ],
   "source": [
    "# various methods are available to iterate through a DataFrame\n",
    "for row in ufo[:10].iter_rows(named=True):\n",
    "    print(row[\"City\"], row[\"State\"])"
   ]
  },
  {
   "attachments": {},
   "cell_type": "markdown",
   "metadata": {},
   "source": [
    "### Index\n"
   ]
  },
  {
   "cell_type": "code",
   "execution_count": 24,
   "metadata": {
    "collapsed": false,
    "jupyter": {
     "outputs_hidden": false
    }
   },
   "outputs": [
    {
     "data": {
      "text/html": [
       "<div><style>\n",
       ".dataframe > thead > tr,\n",
       ".dataframe > tbody > tr {\n",
       "  text-align: right;\n",
       "  white-space: pre-wrap;\n",
       "}\n",
       "</style>\n",
       "<small>shape: (5, 6)</small><table border=\"1\" class=\"dataframe\"><thead><tr><th>country</th><th>beer_servings</th><th>spirit_servings</th><th>wine_servings</th><th>total_litres_of_pure_alcohol</th><th>continent</th></tr><tr><td>str</td><td>i64</td><td>i64</td><td>i64</td><td>f64</td><td>str</td></tr></thead><tbody><tr><td>&quot;Afghanistan&quot;</td><td>0</td><td>0</td><td>0</td><td>0.0</td><td>&quot;Asia&quot;</td></tr><tr><td>&quot;Albania&quot;</td><td>89</td><td>132</td><td>54</td><td>4.9</td><td>&quot;Europe&quot;</td></tr><tr><td>&quot;Algeria&quot;</td><td>25</td><td>0</td><td>14</td><td>0.7</td><td>&quot;Africa&quot;</td></tr><tr><td>&quot;Andorra&quot;</td><td>245</td><td>138</td><td>312</td><td>12.4</td><td>&quot;Europe&quot;</td></tr><tr><td>&quot;Angola&quot;</td><td>217</td><td>57</td><td>45</td><td>5.9</td><td>&quot;Africa&quot;</td></tr></tbody></table></div>"
      ],
      "text/plain": [
       "shape: (5, 6)\n",
       "┌─────────────┬───────────────┬─────────────────┬───────────────┬──────────────────────┬───────────┐\n",
       "│ country     ┆ beer_servings ┆ spirit_servings ┆ wine_servings ┆ total_litres_of_pure ┆ continent │\n",
       "│ ---         ┆ ---           ┆ ---             ┆ ---           ┆ _alcohol             ┆ ---       │\n",
       "│ str         ┆ i64           ┆ i64             ┆ i64           ┆ ---                  ┆ str       │\n",
       "│             ┆               ┆                 ┆               ┆ f64                  ┆           │\n",
       "╞═════════════╪═══════════════╪═════════════════╪═══════════════╪══════════════════════╪═══════════╡\n",
       "│ Afghanistan ┆ 0             ┆ 0               ┆ 0             ┆ 0.0                  ┆ Asia      │\n",
       "│ Albania     ┆ 89            ┆ 132             ┆ 54            ┆ 4.9                  ┆ Europe    │\n",
       "│ Algeria     ┆ 25            ┆ 0               ┆ 14            ┆ 0.7                  ┆ Africa    │\n",
       "│ Andorra     ┆ 245           ┆ 138             ┆ 312           ┆ 12.4                 ┆ Europe    │\n",
       "│ Angola      ┆ 217           ┆ 57              ┆ 45            ┆ 5.9                  ┆ Africa    │\n",
       "└─────────────┴───────────────┴─────────────────┴───────────────┴──────────────────────┴───────────┘"
      ]
     },
     "execution_count": 24,
     "metadata": {},
     "output_type": "execute_result"
    }
   ],
   "source": [
    "drinks = pl.read_csv(\"data/drinks.csv\")\n",
    "drinks.head()"
   ]
  },
  {
   "cell_type": "code",
   "execution_count": 25,
   "metadata": {
    "collapsed": false,
    "jupyter": {
     "outputs_hidden": false
    }
   },
   "outputs": [
    {
     "data": {
      "text/html": [
       "<div><style>\n",
       ".dataframe > thead > tr,\n",
       ".dataframe > tbody > tr {\n",
       "  text-align: right;\n",
       "  white-space: pre-wrap;\n",
       "}\n",
       "</style>\n",
       "<small>shape: (193,)</small><table border=\"1\" class=\"dataframe\"><thead><tr><th>index</th></tr><tr><td>u32</td></tr></thead><tbody><tr><td>0</td></tr><tr><td>1</td></tr><tr><td>2</td></tr><tr><td>3</td></tr><tr><td>4</td></tr><tr><td>&hellip;</td></tr><tr><td>188</td></tr><tr><td>189</td></tr><tr><td>190</td></tr><tr><td>191</td></tr><tr><td>192</td></tr></tbody></table></div>"
      ],
      "text/plain": [
       "shape: (193,)\n",
       "Series: 'index' [u32]\n",
       "[\n",
       "\t0\n",
       "\t1\n",
       "\t2\n",
       "\t3\n",
       "\t4\n",
       "\t…\n",
       "\t188\n",
       "\t189\n",
       "\t190\n",
       "\t191\n",
       "\t192\n",
       "]"
      ]
     },
     "execution_count": 25,
     "metadata": {},
     "output_type": "execute_result"
    }
   ],
   "source": [
    "# every DataFrame has an index (sometimes called the \"row labels\")\n",
    "drinks.with_row_index()[\"index\"]"
   ]
  },
  {
   "attachments": {},
   "cell_type": "markdown",
   "metadata": {},
   "source": [
    "### Select a column\n"
   ]
  },
  {
   "cell_type": "code",
   "execution_count": 26,
   "metadata": {
    "collapsed": false,
    "jupyter": {
     "outputs_hidden": false
    }
   },
   "outputs": [
    {
     "data": {
      "text/html": [
       "<div><style>\n",
       ".dataframe > thead > tr,\n",
       ".dataframe > tbody > tr {\n",
       "  text-align: right;\n",
       "  white-space: pre-wrap;\n",
       "}\n",
       "</style>\n",
       "<small>shape: (193,)</small><table border=\"1\" class=\"dataframe\"><thead><tr><th>country</th></tr><tr><td>str</td></tr></thead><tbody><tr><td>&quot;Afghanistan&quot;</td></tr><tr><td>&quot;Albania&quot;</td></tr><tr><td>&quot;Algeria&quot;</td></tr><tr><td>&quot;Andorra&quot;</td></tr><tr><td>&quot;Angola&quot;</td></tr><tr><td>&hellip;</td></tr><tr><td>&quot;Venezuela&quot;</td></tr><tr><td>&quot;Vietnam&quot;</td></tr><tr><td>&quot;Yemen&quot;</td></tr><tr><td>&quot;Zambia&quot;</td></tr><tr><td>&quot;Zimbabwe&quot;</td></tr></tbody></table></div>"
      ],
      "text/plain": [
       "shape: (193,)\n",
       "Series: 'country' [str]\n",
       "[\n",
       "\t\"Afghanistan\"\n",
       "\t\"Albania\"\n",
       "\t\"Algeria\"\n",
       "\t\"Andorra\"\n",
       "\t\"Angola\"\n",
       "\t…\n",
       "\t\"Venezuela\"\n",
       "\t\"Vietnam\"\n",
       "\t\"Yemen\"\n",
       "\t\"Zambia\"\n",
       "\t\"Zimbabwe\"\n",
       "]"
      ]
     },
     "execution_count": 26,
     "metadata": {},
     "output_type": "execute_result"
    }
   ],
   "source": [
    "# select the 'City' Series using bracket notation\n",
    "drinks[\"country\"]"
   ]
  },
  {
   "attachments": {},
   "cell_type": "markdown",
   "metadata": {},
   "source": [
    "### Select numeric columns\n"
   ]
  },
  {
   "cell_type": "code",
   "execution_count": 27,
   "metadata": {},
   "outputs": [
    {
     "data": {
      "text/plain": [
       "[String, Int64, Int64, Int64, Float64, String]"
      ]
     },
     "execution_count": 27,
     "metadata": {},
     "output_type": "execute_result"
    }
   ],
   "source": [
    "drinks.dtypes"
   ]
  },
  {
   "cell_type": "code",
   "execution_count": 28,
   "metadata": {
    "collapsed": false,
    "jupyter": {
     "outputs_hidden": false
    }
   },
   "outputs": [
    {
     "data": {
      "text/plain": [
       "[Int64, Int64, Int64, Float64]"
      ]
     },
     "execution_count": 28,
     "metadata": {},
     "output_type": "execute_result"
    }
   ],
   "source": [
    "drinks.select(pl.selectors.numeric()).dtypes"
   ]
  },
  {
   "attachments": {},
   "cell_type": "markdown",
   "metadata": {},
   "source": [
    "### Select rows and columns\n"
   ]
  },
  {
   "cell_type": "code",
   "execution_count": 29,
   "metadata": {
    "collapsed": false,
    "jupyter": {
     "outputs_hidden": false
    }
   },
   "outputs": [
    {
     "data": {
      "text/html": [
       "<div><style>\n",
       ".dataframe > thead > tr,\n",
       ".dataframe > tbody > tr {\n",
       "  text-align: right;\n",
       "  white-space: pre-wrap;\n",
       "}\n",
       "</style>\n",
       "<small>shape: (1, 6)</small><table border=\"1\" class=\"dataframe\"><thead><tr><th>country</th><th>beer_servings</th><th>spirit_servings</th><th>wine_servings</th><th>total_litres_of_pure_alcohol</th><th>continent</th></tr><tr><td>str</td><td>i64</td><td>i64</td><td>i64</td><td>f64</td><td>str</td></tr></thead><tbody><tr><td>&quot;Afghanistan&quot;</td><td>0</td><td>0</td><td>0</td><td>0.0</td><td>&quot;Asia&quot;</td></tr></tbody></table></div>"
      ],
      "text/plain": [
       "shape: (1, 6)\n",
       "┌─────────────┬───────────────┬─────────────────┬───────────────┬──────────────────────┬───────────┐\n",
       "│ country     ┆ beer_servings ┆ spirit_servings ┆ wine_servings ┆ total_litres_of_pure ┆ continent │\n",
       "│ ---         ┆ ---           ┆ ---             ┆ ---           ┆ _alcohol             ┆ ---       │\n",
       "│ str         ┆ i64           ┆ i64             ┆ i64           ┆ ---                  ┆ str       │\n",
       "│             ┆               ┆                 ┆               ┆ f64                  ┆           │\n",
       "╞═════════════╪═══════════════╪═════════════════╪═══════════════╪══════════════════════╪═══════════╡\n",
       "│ Afghanistan ┆ 0             ┆ 0               ┆ 0             ┆ 0.0                  ┆ Asia      │\n",
       "└─────────────┴───────────────┴─────────────────┴───────────────┴──────────────────────┴───────────┘"
      ]
     },
     "execution_count": 29,
     "metadata": {},
     "output_type": "execute_result"
    }
   ],
   "source": [
    "# row 0, all columns\n",
    "drinks[0, :]"
   ]
  },
  {
   "cell_type": "code",
   "execution_count": 30,
   "metadata": {
    "collapsed": false,
    "jupyter": {
     "outputs_hidden": false
    }
   },
   "outputs": [
    {
     "data": {
      "text/html": [
       "<div><style>\n",
       ".dataframe > thead > tr,\n",
       ".dataframe > tbody > tr {\n",
       "  text-align: right;\n",
       "  white-space: pre-wrap;\n",
       "}\n",
       "</style>\n",
       "<small>shape: (3, 6)</small><table border=\"1\" class=\"dataframe\"><thead><tr><th>country</th><th>beer_servings</th><th>spirit_servings</th><th>wine_servings</th><th>total_litres_of_pure_alcohol</th><th>continent</th></tr><tr><td>str</td><td>i64</td><td>i64</td><td>i64</td><td>f64</td><td>str</td></tr></thead><tbody><tr><td>&quot;Afghanistan&quot;</td><td>0</td><td>0</td><td>0</td><td>0.0</td><td>&quot;Asia&quot;</td></tr><tr><td>&quot;Albania&quot;</td><td>89</td><td>132</td><td>54</td><td>4.9</td><td>&quot;Europe&quot;</td></tr><tr><td>&quot;Algeria&quot;</td><td>25</td><td>0</td><td>14</td><td>0.7</td><td>&quot;Africa&quot;</td></tr></tbody></table></div>"
      ],
      "text/plain": [
       "shape: (3, 6)\n",
       "┌─────────────┬───────────────┬─────────────────┬───────────────┬──────────────────────┬───────────┐\n",
       "│ country     ┆ beer_servings ┆ spirit_servings ┆ wine_servings ┆ total_litres_of_pure ┆ continent │\n",
       "│ ---         ┆ ---           ┆ ---             ┆ ---           ┆ _alcohol             ┆ ---       │\n",
       "│ str         ┆ i64           ┆ i64             ┆ i64           ┆ ---                  ┆ str       │\n",
       "│             ┆               ┆                 ┆               ┆ f64                  ┆           │\n",
       "╞═════════════╪═══════════════╪═════════════════╪═══════════════╪══════════════════════╪═══════════╡\n",
       "│ Afghanistan ┆ 0             ┆ 0               ┆ 0             ┆ 0.0                  ┆ Asia      │\n",
       "│ Albania     ┆ 89            ┆ 132             ┆ 54            ┆ 4.9                  ┆ Europe    │\n",
       "│ Algeria     ┆ 25            ┆ 0               ┆ 14            ┆ 0.7                  ┆ Africa    │\n",
       "└─────────────┴───────────────┴─────────────────┴───────────────┴──────────────────────┴───────────┘"
      ]
     },
     "execution_count": 30,
     "metadata": {},
     "output_type": "execute_result"
    }
   ],
   "source": [
    "# rows 0 and 1 and 2, all columns\n",
    "drinks[[0, 1, 2], :]"
   ]
  },
  {
   "cell_type": "code",
   "execution_count": 31,
   "metadata": {
    "collapsed": false,
    "jupyter": {
     "outputs_hidden": false
    }
   },
   "outputs": [
    {
     "data": {
      "text/html": [
       "<div><style>\n",
       ".dataframe > thead > tr,\n",
       ".dataframe > tbody > tr {\n",
       "  text-align: right;\n",
       "  white-space: pre-wrap;\n",
       "}\n",
       "</style>\n",
       "<small>shape: (2, 6)</small><table border=\"1\" class=\"dataframe\"><thead><tr><th>country</th><th>beer_servings</th><th>spirit_servings</th><th>wine_servings</th><th>total_litres_of_pure_alcohol</th><th>continent</th></tr><tr><td>str</td><td>i64</td><td>i64</td><td>i64</td><td>f64</td><td>str</td></tr></thead><tbody><tr><td>&quot;Afghanistan&quot;</td><td>0</td><td>0</td><td>0</td><td>0.0</td><td>&quot;Asia&quot;</td></tr><tr><td>&quot;Albania&quot;</td><td>89</td><td>132</td><td>54</td><td>4.9</td><td>&quot;Europe&quot;</td></tr></tbody></table></div>"
      ],
      "text/plain": [
       "shape: (2, 6)\n",
       "┌─────────────┬───────────────┬─────────────────┬───────────────┬──────────────────────┬───────────┐\n",
       "│ country     ┆ beer_servings ┆ spirit_servings ┆ wine_servings ┆ total_litres_of_pure ┆ continent │\n",
       "│ ---         ┆ ---           ┆ ---             ┆ ---           ┆ _alcohol             ┆ ---       │\n",
       "│ str         ┆ i64           ┆ i64             ┆ i64           ┆ ---                  ┆ str       │\n",
       "│             ┆               ┆                 ┆               ┆ f64                  ┆           │\n",
       "╞═════════════╪═══════════════╪═════════════════╪═══════════════╪══════════════════════╪═══════════╡\n",
       "│ Afghanistan ┆ 0             ┆ 0               ┆ 0             ┆ 0.0                  ┆ Asia      │\n",
       "│ Albania     ┆ 89            ┆ 132             ┆ 54            ┆ 4.9                  ┆ Europe    │\n",
       "└─────────────┴───────────────┴─────────────────┴───────────────┴──────────────────────┴───────────┘"
      ]
     },
     "execution_count": 31,
     "metadata": {},
     "output_type": "execute_result"
    }
   ],
   "source": [
    "# rows 0 through 2 (inclusive), all columns\n",
    "drinks[0:2, :]"
   ]
  },
  {
   "cell_type": "code",
   "execution_count": 32,
   "metadata": {
    "collapsed": false,
    "jupyter": {
     "outputs_hidden": false
    }
   },
   "outputs": [
    {
     "data": {
      "text/html": [
       "<div><style>\n",
       ".dataframe > thead > tr,\n",
       ".dataframe > tbody > tr {\n",
       "  text-align: right;\n",
       "  white-space: pre-wrap;\n",
       "}\n",
       "</style>\n",
       "<small>shape: (2,)</small><table border=\"1\" class=\"dataframe\"><thead><tr><th>country</th></tr><tr><td>str</td></tr></thead><tbody><tr><td>&quot;Afghanistan&quot;</td></tr><tr><td>&quot;Albania&quot;</td></tr></tbody></table></div>"
      ],
      "text/plain": [
       "shape: (2,)\n",
       "Series: 'country' [str]\n",
       "[\n",
       "\t\"Afghanistan\"\n",
       "\t\"Albania\"\n",
       "]"
      ]
     },
     "execution_count": 32,
     "metadata": {},
     "output_type": "execute_result"
    }
   ],
   "source": [
    "# rows 0 through 2 (inclusive), column 'City'\n",
    "drinks[0:2, \"country\"]"
   ]
  },
  {
   "cell_type": "code",
   "execution_count": 33,
   "metadata": {
    "collapsed": false,
    "jupyter": {
     "outputs_hidden": false
    }
   },
   "outputs": [
    {
     "data": {
      "text/html": [
       "<div><style>\n",
       ".dataframe > thead > tr,\n",
       ".dataframe > tbody > tr {\n",
       "  text-align: right;\n",
       "  white-space: pre-wrap;\n",
       "}\n",
       "</style>\n",
       "<small>shape: (2, 2)</small><table border=\"1\" class=\"dataframe\"><thead><tr><th>country</th><th>continent</th></tr><tr><td>str</td><td>str</td></tr></thead><tbody><tr><td>&quot;Afghanistan&quot;</td><td>&quot;Asia&quot;</td></tr><tr><td>&quot;Albania&quot;</td><td>&quot;Europe&quot;</td></tr></tbody></table></div>"
      ],
      "text/plain": [
       "shape: (2, 2)\n",
       "┌─────────────┬───────────┐\n",
       "│ country     ┆ continent │\n",
       "│ ---         ┆ ---       │\n",
       "│ str         ┆ str       │\n",
       "╞═════════════╪═══════════╡\n",
       "│ Afghanistan ┆ Asia      │\n",
       "│ Albania     ┆ Europe    │\n",
       "└─────────────┴───────────┘"
      ]
     },
     "execution_count": 33,
     "metadata": {},
     "output_type": "execute_result"
    }
   ],
   "source": [
    "# rows 0 through 2 (inclusive), columns 'City' and 'State'\n",
    "drinks[0:2, [\"country\", \"continent\"]]"
   ]
  },
  {
   "cell_type": "code",
   "execution_count": 34,
   "metadata": {
    "collapsed": false,
    "jupyter": {
     "outputs_hidden": false
    }
   },
   "outputs": [
    {
     "data": {
      "text/html": [
       "<div><style>\n",
       ".dataframe > thead > tr,\n",
       ".dataframe > tbody > tr {\n",
       "  text-align: right;\n",
       "  white-space: pre-wrap;\n",
       "}\n",
       "</style>\n",
       "<small>shape: (2, 6)</small><table border=\"1\" class=\"dataframe\"><thead><tr><th>country</th><th>beer_servings</th><th>spirit_servings</th><th>wine_servings</th><th>total_litres_of_pure_alcohol</th><th>continent</th></tr><tr><td>str</td><td>i64</td><td>i64</td><td>i64</td><td>f64</td><td>str</td></tr></thead><tbody><tr><td>&quot;Afghanistan&quot;</td><td>0</td><td>0</td><td>0</td><td>0.0</td><td>&quot;Asia&quot;</td></tr><tr><td>&quot;Albania&quot;</td><td>89</td><td>132</td><td>54</td><td>4.9</td><td>&quot;Europe&quot;</td></tr></tbody></table></div>"
      ],
      "text/plain": [
       "shape: (2, 6)\n",
       "┌─────────────┬───────────────┬─────────────────┬───────────────┬──────────────────────┬───────────┐\n",
       "│ country     ┆ beer_servings ┆ spirit_servings ┆ wine_servings ┆ total_litres_of_pure ┆ continent │\n",
       "│ ---         ┆ ---           ┆ ---             ┆ ---           ┆ _alcohol             ┆ ---       │\n",
       "│ str         ┆ i64           ┆ i64             ┆ i64           ┆ ---                  ┆ str       │\n",
       "│             ┆               ┆                 ┆               ┆ f64                  ┆           │\n",
       "╞═════════════╪═══════════════╪═════════════════╪═══════════════╪══════════════════════╪═══════════╡\n",
       "│ Afghanistan ┆ 0             ┆ 0               ┆ 0             ┆ 0.0                  ┆ Asia      │\n",
       "│ Albania     ┆ 89            ┆ 132             ┆ 54            ┆ 4.9                  ┆ Europe    │\n",
       "└─────────────┴───────────────┴─────────────────┴───────────────┴──────────────────────┴───────────┘"
      ]
     },
     "execution_count": 34,
     "metadata": {},
     "output_type": "execute_result"
    }
   ],
   "source": [
    "# rows 0 through 2 (inclusive), columns 'City' through 'State' (inclusive)\n",
    "drinks[0:2, \"country\":\"continent\"]"
   ]
  },
  {
   "cell_type": "code",
   "execution_count": 35,
   "metadata": {
    "collapsed": false,
    "jupyter": {
     "outputs_hidden": false
    }
   },
   "outputs": [
    {
     "data": {
      "text/html": [
       "<div><style>\n",
       ".dataframe > thead > tr,\n",
       ".dataframe > tbody > tr {\n",
       "  text-align: right;\n",
       "  white-space: pre-wrap;\n",
       "}\n",
       "</style>\n",
       "<small>shape: (2, 2)</small><table border=\"1\" class=\"dataframe\"><thead><tr><th>country</th><th>wine_servings</th></tr><tr><td>str</td><td>i64</td></tr></thead><tbody><tr><td>&quot;Afghanistan&quot;</td><td>0</td></tr><tr><td>&quot;Albania&quot;</td><td>54</td></tr></tbody></table></div>"
      ],
      "text/plain": [
       "shape: (2, 2)\n",
       "┌─────────────┬───────────────┐\n",
       "│ country     ┆ wine_servings │\n",
       "│ ---         ┆ ---           │\n",
       "│ str         ┆ i64           │\n",
       "╞═════════════╪═══════════════╡\n",
       "│ Afghanistan ┆ 0             │\n",
       "│ Albania     ┆ 54            │\n",
       "└─────────────┴───────────────┘"
      ]
     },
     "execution_count": 35,
     "metadata": {},
     "output_type": "execute_result"
    }
   ],
   "source": [
    "# rows in positions 0 and 1, columns in positions 0 and 3\n",
    "drinks[[0, 1], [0, 3]]"
   ]
  },
  {
   "cell_type": "code",
   "execution_count": 36,
   "metadata": {
    "collapsed": false,
    "jupyter": {
     "outputs_hidden": false
    }
   },
   "outputs": [
    {
     "data": {
      "text/html": [
       "<div><style>\n",
       ".dataframe > thead > tr,\n",
       ".dataframe > tbody > tr {\n",
       "  text-align: right;\n",
       "  white-space: pre-wrap;\n",
       "}\n",
       "</style>\n",
       "<small>shape: (2, 4)</small><table border=\"1\" class=\"dataframe\"><thead><tr><th>country</th><th>beer_servings</th><th>spirit_servings</th><th>wine_servings</th></tr><tr><td>str</td><td>i64</td><td>i64</td><td>i64</td></tr></thead><tbody><tr><td>&quot;Afghanistan&quot;</td><td>0</td><td>0</td><td>0</td></tr><tr><td>&quot;Albania&quot;</td><td>89</td><td>132</td><td>54</td></tr></tbody></table></div>"
      ],
      "text/plain": [
       "shape: (2, 4)\n",
       "┌─────────────┬───────────────┬─────────────────┬───────────────┐\n",
       "│ country     ┆ beer_servings ┆ spirit_servings ┆ wine_servings │\n",
       "│ ---         ┆ ---           ┆ ---             ┆ ---           │\n",
       "│ str         ┆ i64           ┆ i64             ┆ i64           │\n",
       "╞═════════════╪═══════════════╪═════════════════╪═══════════════╡\n",
       "│ Afghanistan ┆ 0             ┆ 0               ┆ 0             │\n",
       "│ Albania     ┆ 89            ┆ 132             ┆ 54            │\n",
       "└─────────────┴───────────────┴─────────────────┴───────────────┘"
      ]
     },
     "execution_count": 36,
     "metadata": {},
     "output_type": "execute_result"
    }
   ],
   "source": [
    "# rows in positions 0 through 2 (exclusive), columns in positions 0 through 4 (exclusive)\n",
    "drinks[0:2, 0:4]"
   ]
  },
  {
   "cell_type": "code",
   "execution_count": 37,
   "metadata": {
    "collapsed": false,
    "jupyter": {
     "outputs_hidden": false
    },
    "scrolled": true
   },
   "outputs": [
    {
     "data": {
      "text/html": [
       "<div><style>\n",
       ".dataframe > thead > tr,\n",
       ".dataframe > tbody > tr {\n",
       "  text-align: right;\n",
       "  white-space: pre-wrap;\n",
       "}\n",
       "</style>\n",
       "<small>shape: (2, 6)</small><table border=\"1\" class=\"dataframe\"><thead><tr><th>country</th><th>beer_servings</th><th>spirit_servings</th><th>wine_servings</th><th>total_litres_of_pure_alcohol</th><th>continent</th></tr><tr><td>str</td><td>i64</td><td>i64</td><td>i64</td><td>f64</td><td>str</td></tr></thead><tbody><tr><td>&quot;Afghanistan&quot;</td><td>0</td><td>0</td><td>0</td><td>0.0</td><td>&quot;Asia&quot;</td></tr><tr><td>&quot;Albania&quot;</td><td>89</td><td>132</td><td>54</td><td>4.9</td><td>&quot;Europe&quot;</td></tr></tbody></table></div>"
      ],
      "text/plain": [
       "shape: (2, 6)\n",
       "┌─────────────┬───────────────┬─────────────────┬───────────────┬──────────────────────┬───────────┐\n",
       "│ country     ┆ beer_servings ┆ spirit_servings ┆ wine_servings ┆ total_litres_of_pure ┆ continent │\n",
       "│ ---         ┆ ---           ┆ ---             ┆ ---           ┆ _alcohol             ┆ ---       │\n",
       "│ str         ┆ i64           ┆ i64             ┆ i64           ┆ ---                  ┆ str       │\n",
       "│             ┆               ┆                 ┆               ┆ f64                  ┆           │\n",
       "╞═════════════╪═══════════════╪═════════════════╪═══════════════╪══════════════════════╪═══════════╡\n",
       "│ Afghanistan ┆ 0             ┆ 0               ┆ 0             ┆ 0.0                  ┆ Asia      │\n",
       "│ Albania     ┆ 89            ┆ 132             ┆ 54            ┆ 4.9                  ┆ Europe    │\n",
       "└─────────────┴───────────────┴─────────────────┴───────────────┴──────────────────────┴───────────┘"
      ]
     },
     "execution_count": 37,
     "metadata": {},
     "output_type": "execute_result"
    }
   ],
   "source": [
    "# rows in positions 0 through 2 (exclusive), all columns\n",
    "drinks[0:2, :]"
   ]
  },
  {
   "attachments": {},
   "cell_type": "markdown",
   "metadata": {},
   "source": [
    "## Filter\n"
   ]
  },
  {
   "attachments": {},
   "cell_type": "markdown",
   "metadata": {},
   "source": [
    "### Column filter\n"
   ]
  },
  {
   "cell_type": "code",
   "execution_count": 38,
   "metadata": {},
   "outputs": [
    {
     "data": {
      "text/html": [
       "<div><style>\n",
       ".dataframe > thead > tr,\n",
       ".dataframe > tbody > tr {\n",
       "  text-align: right;\n",
       "  white-space: pre-wrap;\n",
       "}\n",
       "</style>\n",
       "<small>shape: (193, 2)</small><table border=\"1\" class=\"dataframe\"><thead><tr><th>beer_servings</th><th>continent</th></tr><tr><td>i64</td><td>str</td></tr></thead><tbody><tr><td>0</td><td>&quot;Asia&quot;</td></tr><tr><td>89</td><td>&quot;Europe&quot;</td></tr><tr><td>25</td><td>&quot;Africa&quot;</td></tr><tr><td>245</td><td>&quot;Europe&quot;</td></tr><tr><td>217</td><td>&quot;Africa&quot;</td></tr><tr><td>&hellip;</td><td>&hellip;</td></tr><tr><td>333</td><td>&quot;South America&quot;</td></tr><tr><td>111</td><td>&quot;Asia&quot;</td></tr><tr><td>6</td><td>&quot;Asia&quot;</td></tr><tr><td>32</td><td>&quot;Africa&quot;</td></tr><tr><td>64</td><td>&quot;Africa&quot;</td></tr></tbody></table></div>"
      ],
      "text/plain": [
       "shape: (193, 2)\n",
       "┌───────────────┬───────────────┐\n",
       "│ beer_servings ┆ continent     │\n",
       "│ ---           ┆ ---           │\n",
       "│ i64           ┆ str           │\n",
       "╞═══════════════╪═══════════════╡\n",
       "│ 0             ┆ Asia          │\n",
       "│ 89            ┆ Europe        │\n",
       "│ 25            ┆ Africa        │\n",
       "│ 245           ┆ Europe        │\n",
       "│ 217           ┆ Africa        │\n",
       "│ …             ┆ …             │\n",
       "│ 333           ┆ South America │\n",
       "│ 111           ┆ Asia          │\n",
       "│ 6             ┆ Asia          │\n",
       "│ 32            ┆ Africa        │\n",
       "│ 64            ┆ Africa        │\n",
       "└───────────────┴───────────────┘"
      ]
     },
     "execution_count": 38,
     "metadata": {},
     "output_type": "execute_result"
    }
   ],
   "source": [
    "drinks.select([\"beer_servings\", \"continent\"])"
   ]
  },
  {
   "cell_type": "code",
   "execution_count": 39,
   "metadata": {},
   "outputs": [
    {
     "data": {
      "text/html": [
       "<div><style>\n",
       ".dataframe > thead > tr,\n",
       ".dataframe > tbody > tr {\n",
       "  text-align: right;\n",
       "  white-space: pre-wrap;\n",
       "}\n",
       "</style>\n",
       "<small>shape: (193, 3)</small><table border=\"1\" class=\"dataframe\"><thead><tr><th>beer_servings</th><th>spirit_servings</th><th>wine_servings</th></tr><tr><td>i64</td><td>i64</td><td>i64</td></tr></thead><tbody><tr><td>0</td><td>0</td><td>0</td></tr><tr><td>89</td><td>132</td><td>54</td></tr><tr><td>25</td><td>0</td><td>14</td></tr><tr><td>245</td><td>138</td><td>312</td></tr><tr><td>217</td><td>57</td><td>45</td></tr><tr><td>&hellip;</td><td>&hellip;</td><td>&hellip;</td></tr><tr><td>333</td><td>100</td><td>3</td></tr><tr><td>111</td><td>2</td><td>1</td></tr><tr><td>6</td><td>0</td><td>0</td></tr><tr><td>32</td><td>19</td><td>4</td></tr><tr><td>64</td><td>18</td><td>4</td></tr></tbody></table></div>"
      ],
      "text/plain": [
       "shape: (193, 3)\n",
       "┌───────────────┬─────────────────┬───────────────┐\n",
       "│ beer_servings ┆ spirit_servings ┆ wine_servings │\n",
       "│ ---           ┆ ---             ┆ ---           │\n",
       "│ i64           ┆ i64             ┆ i64           │\n",
       "╞═══════════════╪═════════════════╪═══════════════╡\n",
       "│ 0             ┆ 0               ┆ 0             │\n",
       "│ 89            ┆ 132             ┆ 54            │\n",
       "│ 25            ┆ 0               ┆ 14            │\n",
       "│ 245           ┆ 138             ┆ 312           │\n",
       "│ 217           ┆ 57              ┆ 45            │\n",
       "│ …             ┆ …               ┆ …             │\n",
       "│ 333           ┆ 100             ┆ 3             │\n",
       "│ 111           ┆ 2               ┆ 1             │\n",
       "│ 6             ┆ 0               ┆ 0             │\n",
       "│ 32            ┆ 19              ┆ 4             │\n",
       "│ 64            ┆ 18              ┆ 4             │\n",
       "└───────────────┴─────────────────┴───────────────┘"
      ]
     },
     "execution_count": 39,
     "metadata": {},
     "output_type": "execute_result"
    }
   ],
   "source": [
    "drinks.select(pl.selectors.contains(\"servings\"))"
   ]
  },
  {
   "attachments": {},
   "cell_type": "markdown",
   "metadata": {},
   "source": [
    "### Index filter\n"
   ]
  },
  {
   "cell_type": "code",
   "execution_count": 40,
   "metadata": {},
   "outputs": [
    {
     "data": {
      "text/html": [
       "<div><style>\n",
       ".dataframe > thead > tr,\n",
       ".dataframe > tbody > tr {\n",
       "  text-align: right;\n",
       "  white-space: pre-wrap;\n",
       "}\n",
       "</style>\n",
       "<small>shape: (97, 7)</small><table border=\"1\" class=\"dataframe\"><thead><tr><th>index</th><th>country</th><th>beer_servings</th><th>spirit_servings</th><th>wine_servings</th><th>total_litres_of_pure_alcohol</th><th>continent</th></tr><tr><td>u32</td><td>str</td><td>i64</td><td>i64</td><td>i64</td><td>f64</td><td>str</td></tr></thead><tbody><tr><td>0</td><td>&quot;Afghanistan&quot;</td><td>0</td><td>0</td><td>0</td><td>0.0</td><td>&quot;Asia&quot;</td></tr><tr><td>2</td><td>&quot;Algeria&quot;</td><td>25</td><td>0</td><td>14</td><td>0.7</td><td>&quot;Africa&quot;</td></tr><tr><td>4</td><td>&quot;Angola&quot;</td><td>217</td><td>57</td><td>45</td><td>5.9</td><td>&quot;Africa&quot;</td></tr><tr><td>6</td><td>&quot;Argentina&quot;</td><td>193</td><td>25</td><td>221</td><td>8.3</td><td>&quot;South America&quot;</td></tr><tr><td>8</td><td>&quot;Australia&quot;</td><td>261</td><td>72</td><td>212</td><td>10.4</td><td>&quot;Oceania&quot;</td></tr><tr><td>&hellip;</td><td>&hellip;</td><td>&hellip;</td><td>&hellip;</td><td>&hellip;</td><td>&hellip;</td><td>&hellip;</td></tr><tr><td>184</td><td>&quot;USA&quot;</td><td>249</td><td>158</td><td>84</td><td>8.7</td><td>&quot;North America&quot;</td></tr><tr><td>186</td><td>&quot;Uzbekistan&quot;</td><td>25</td><td>101</td><td>8</td><td>2.4</td><td>&quot;Asia&quot;</td></tr><tr><td>188</td><td>&quot;Venezuela&quot;</td><td>333</td><td>100</td><td>3</td><td>7.7</td><td>&quot;South America&quot;</td></tr><tr><td>190</td><td>&quot;Yemen&quot;</td><td>6</td><td>0</td><td>0</td><td>0.1</td><td>&quot;Asia&quot;</td></tr><tr><td>192</td><td>&quot;Zimbabwe&quot;</td><td>64</td><td>18</td><td>4</td><td>4.7</td><td>&quot;Africa&quot;</td></tr></tbody></table></div>"
      ],
      "text/plain": [
       "shape: (97, 7)\n",
       "┌───────┬─────────────┬────────────────┬───────────────┬───────────────┬───────────────┬───────────┐\n",
       "│ index ┆ country     ┆ beer_servings  ┆ spirit_servin ┆ wine_servings ┆ total_litres_ ┆ continent │\n",
       "│ ---   ┆ ---         ┆ ---            ┆ gs            ┆ ---           ┆ of_pure_alcoh ┆ ---       │\n",
       "│ u32   ┆ str         ┆ i64            ┆ ---           ┆ i64           ┆ ol            ┆ str       │\n",
       "│       ┆             ┆                ┆ i64           ┆               ┆ ---           ┆           │\n",
       "│       ┆             ┆                ┆               ┆               ┆ f64           ┆           │\n",
       "╞═══════╪═════════════╪════════════════╪═══════════════╪═══════════════╪═══════════════╪═══════════╡\n",
       "│ 0     ┆ Afghanistan ┆ 0              ┆ 0             ┆ 0             ┆ 0.0           ┆ Asia      │\n",
       "│ 2     ┆ Algeria     ┆ 25             ┆ 0             ┆ 14            ┆ 0.7           ┆ Africa    │\n",
       "│ 4     ┆ Angola      ┆ 217            ┆ 57            ┆ 45            ┆ 5.9           ┆ Africa    │\n",
       "│ 6     ┆ Argentina   ┆ 193            ┆ 25            ┆ 221           ┆ 8.3           ┆ South     │\n",
       "│       ┆             ┆                ┆               ┆               ┆               ┆ America   │\n",
       "│ 8     ┆ Australia   ┆ 261            ┆ 72            ┆ 212           ┆ 10.4          ┆ Oceania   │\n",
       "│ …     ┆ …           ┆ …              ┆ …             ┆ …             ┆ …             ┆ …         │\n",
       "│ 184   ┆ USA         ┆ 249            ┆ 158           ┆ 84            ┆ 8.7           ┆ North     │\n",
       "│       ┆             ┆                ┆               ┆               ┆               ┆ America   │\n",
       "│ 186   ┆ Uzbekistan  ┆ 25             ┆ 101           ┆ 8             ┆ 2.4           ┆ Asia      │\n",
       "│ 188   ┆ Venezuela   ┆ 333            ┆ 100           ┆ 3             ┆ 7.7           ┆ South     │\n",
       "│       ┆             ┆                ┆               ┆               ┆               ┆ America   │\n",
       "│ 190   ┆ Yemen       ┆ 6              ┆ 0             ┆ 0             ┆ 0.1           ┆ Asia      │\n",
       "│ 192   ┆ Zimbabwe    ┆ 64             ┆ 18            ┆ 4             ┆ 4.7           ┆ Africa    │\n",
       "└───────┴─────────────┴────────────────┴───────────────┴───────────────┴───────────────┴───────────┘"
      ]
     },
     "execution_count": 40,
     "metadata": {},
     "output_type": "execute_result"
    }
   ],
   "source": [
    "drinks.with_row_index().filter(pl.col(\"index\") % 2 == 0)"
   ]
  },
  {
   "attachments": {},
   "cell_type": "markdown",
   "metadata": {},
   "source": [
    "### Value filter\n"
   ]
  },
  {
   "cell_type": "code",
   "execution_count": 41,
   "metadata": {
    "collapsed": false,
    "jupyter": {
     "outputs_hidden": false
    }
   },
   "outputs": [
    {
     "data": {
      "text/html": [
       "<div><style>\n",
       ".dataframe > thead > tr,\n",
       ".dataframe > tbody > tr {\n",
       "  text-align: right;\n",
       "  white-space: pre-wrap;\n",
       "}\n",
       "</style>\n",
       "<small>shape: (12, 6)</small><table border=\"1\" class=\"dataframe\"><thead><tr><th>country</th><th>beer_servings</th><th>spirit_servings</th><th>wine_servings</th><th>total_litres_of_pure_alcohol</th><th>continent</th></tr><tr><td>str</td><td>i64</td><td>i64</td><td>i64</td><td>f64</td><td>str</td></tr></thead><tbody><tr><td>&quot;Argentina&quot;</td><td>193</td><td>25</td><td>221</td><td>8.3</td><td>&quot;South America&quot;</td></tr><tr><td>&quot;Bolivia&quot;</td><td>167</td><td>41</td><td>8</td><td>3.8</td><td>&quot;South America&quot;</td></tr><tr><td>&quot;Brazil&quot;</td><td>245</td><td>145</td><td>16</td><td>7.2</td><td>&quot;South America&quot;</td></tr><tr><td>&quot;Chile&quot;</td><td>130</td><td>124</td><td>172</td><td>7.6</td><td>&quot;South America&quot;</td></tr><tr><td>&quot;Colombia&quot;</td><td>159</td><td>76</td><td>3</td><td>4.2</td><td>&quot;South America&quot;</td></tr><tr><td>&hellip;</td><td>&hellip;</td><td>&hellip;</td><td>&hellip;</td><td>&hellip;</td><td>&hellip;</td></tr><tr><td>&quot;Paraguay&quot;</td><td>213</td><td>117</td><td>74</td><td>7.3</td><td>&quot;South America&quot;</td></tr><tr><td>&quot;Peru&quot;</td><td>163</td><td>160</td><td>21</td><td>6.1</td><td>&quot;South America&quot;</td></tr><tr><td>&quot;Suriname&quot;</td><td>128</td><td>178</td><td>7</td><td>5.6</td><td>&quot;South America&quot;</td></tr><tr><td>&quot;Uruguay&quot;</td><td>115</td><td>35</td><td>220</td><td>6.6</td><td>&quot;South America&quot;</td></tr><tr><td>&quot;Venezuela&quot;</td><td>333</td><td>100</td><td>3</td><td>7.7</td><td>&quot;South America&quot;</td></tr></tbody></table></div>"
      ],
      "text/plain": [
       "shape: (12, 6)\n",
       "┌───────────┬───────────────┬─────────────────┬───────────────┬────────────────────┬───────────────┐\n",
       "│ country   ┆ beer_servings ┆ spirit_servings ┆ wine_servings ┆ total_litres_of_pu ┆ continent     │\n",
       "│ ---       ┆ ---           ┆ ---             ┆ ---           ┆ re_alcohol         ┆ ---           │\n",
       "│ str       ┆ i64           ┆ i64             ┆ i64           ┆ ---                ┆ str           │\n",
       "│           ┆               ┆                 ┆               ┆ f64                ┆               │\n",
       "╞═══════════╪═══════════════╪═════════════════╪═══════════════╪════════════════════╪═══════════════╡\n",
       "│ Argentina ┆ 193           ┆ 25              ┆ 221           ┆ 8.3                ┆ South America │\n",
       "│ Bolivia   ┆ 167           ┆ 41              ┆ 8             ┆ 3.8                ┆ South America │\n",
       "│ Brazil    ┆ 245           ┆ 145             ┆ 16            ┆ 7.2                ┆ South America │\n",
       "│ Chile     ┆ 130           ┆ 124             ┆ 172           ┆ 7.6                ┆ South America │\n",
       "│ Colombia  ┆ 159           ┆ 76              ┆ 3             ┆ 4.2                ┆ South America │\n",
       "│ …         ┆ …             ┆ …               ┆ …             ┆ …                  ┆ …             │\n",
       "│ Paraguay  ┆ 213           ┆ 117             ┆ 74            ┆ 7.3                ┆ South America │\n",
       "│ Peru      ┆ 163           ┆ 160             ┆ 21            ┆ 6.1                ┆ South America │\n",
       "│ Suriname  ┆ 128           ┆ 178             ┆ 7             ┆ 5.6                ┆ South America │\n",
       "│ Uruguay   ┆ 115           ┆ 35              ┆ 220           ┆ 6.6                ┆ South America │\n",
       "│ Venezuela ┆ 333           ┆ 100             ┆ 3             ┆ 7.7                ┆ South America │\n",
       "└───────────┴───────────────┴─────────────────┴───────────────┴────────────────────┴───────────────┘"
      ]
     },
     "execution_count": 41,
     "metadata": {},
     "output_type": "execute_result"
    }
   ],
   "source": [
    "drinks.filter(pl.col(\"continent\") == \"South America\")"
   ]
  },
  {
   "cell_type": "code",
   "execution_count": 42,
   "metadata": {
    "jupyter": {
     "outputs_hidden": false
    }
   },
   "outputs": [
    {
     "data": {
      "text/html": [
       "<div><style>\n",
       ".dataframe > thead > tr,\n",
       ".dataframe > tbody > tr {\n",
       "  text-align: right;\n",
       "  white-space: pre-wrap;\n",
       "}\n",
       "</style>\n",
       "<small>shape: (5, 6)</small><table border=\"1\" class=\"dataframe\"><thead><tr><th>star_rating</th><th>title</th><th>content_rating</th><th>genre</th><th>duration</th><th>actors_list</th></tr><tr><td>f64</td><td>str</td><td>str</td><td>str</td><td>i64</td><td>str</td></tr></thead><tbody><tr><td>9.3</td><td>&quot;The Shawshank Redemption&quot;</td><td>&quot;R&quot;</td><td>&quot;Crime&quot;</td><td>142</td><td>&quot;[u&#x27;Tim Robbins&#x27;, u&#x27;Morgan Free…</td></tr><tr><td>9.2</td><td>&quot;The Godfather&quot;</td><td>&quot;R&quot;</td><td>&quot;Crime&quot;</td><td>175</td><td>&quot;[u&#x27;Marlon Brando&#x27;, u&#x27;Al Pacino…</td></tr><tr><td>9.1</td><td>&quot;The Godfather: Part II&quot;</td><td>&quot;R&quot;</td><td>&quot;Crime&quot;</td><td>200</td><td>&quot;[u&#x27;Al Pacino&#x27;, u&#x27;Robert De Nir…</td></tr><tr><td>9.0</td><td>&quot;The Dark Knight&quot;</td><td>&quot;PG-13&quot;</td><td>&quot;Action&quot;</td><td>152</td><td>&quot;[u&#x27;Christian Bale&#x27;, u&#x27;Heath Le…</td></tr><tr><td>8.9</td><td>&quot;Pulp Fiction&quot;</td><td>&quot;R&quot;</td><td>&quot;Crime&quot;</td><td>154</td><td>&quot;[u&#x27;John Travolta&#x27;, u&#x27;Uma Thurm…</td></tr></tbody></table></div>"
      ],
      "text/plain": [
       "shape: (5, 6)\n",
       "┌─────────────┬───────────────────────┬────────────────┬────────┬──────────┬───────────────────────┐\n",
       "│ star_rating ┆ title                 ┆ content_rating ┆ genre  ┆ duration ┆ actors_list           │\n",
       "│ ---         ┆ ---                   ┆ ---            ┆ ---    ┆ ---      ┆ ---                   │\n",
       "│ f64         ┆ str                   ┆ str            ┆ str    ┆ i64      ┆ str                   │\n",
       "╞═════════════╪═══════════════════════╪════════════════╪════════╪══════════╪═══════════════════════╡\n",
       "│ 9.3         ┆ The Shawshank         ┆ R              ┆ Crime  ┆ 142      ┆ [u'Tim Robbins',      │\n",
       "│             ┆ Redemption            ┆                ┆        ┆          ┆ u'Morgan Free…        │\n",
       "│ 9.2         ┆ The Godfather         ┆ R              ┆ Crime  ┆ 175      ┆ [u'Marlon Brando',    │\n",
       "│             ┆                       ┆                ┆        ┆          ┆ u'Al Pacino…          │\n",
       "│ 9.1         ┆ The Godfather: Part   ┆ R              ┆ Crime  ┆ 200      ┆ [u'Al Pacino',        │\n",
       "│             ┆ II                    ┆                ┆        ┆          ┆ u'Robert De Nir…      │\n",
       "│ 9.0         ┆ The Dark Knight       ┆ PG-13          ┆ Action ┆ 152      ┆ [u'Christian Bale',   │\n",
       "│             ┆                       ┆                ┆        ┆          ┆ u'Heath Le…           │\n",
       "│ 8.9         ┆ Pulp Fiction          ┆ R              ┆ Crime  ┆ 154      ┆ [u'John Travolta',    │\n",
       "│             ┆                       ┆                ┆        ┆          ┆ u'Uma Thurm…          │\n",
       "└─────────────┴───────────────────────┴────────────────┴────────┴──────────┴───────────────────────┘"
      ]
     },
     "execution_count": 42,
     "metadata": {},
     "output_type": "execute_result"
    }
   ],
   "source": [
    "movies = pl.read_csv(\"data/imdb_1000.csv\")\n",
    "movies.head()"
   ]
  },
  {
   "cell_type": "code",
   "execution_count": 43,
   "metadata": {
    "jupyter": {
     "outputs_hidden": false
    }
   },
   "outputs": [
    {
     "data": {
      "text/html": [
       "<div><style>\n",
       ".dataframe > thead > tr,\n",
       ".dataframe > tbody > tr {\n",
       "  text-align: right;\n",
       "  white-space: pre-wrap;\n",
       "}\n",
       "</style>\n",
       "<small>shape: (3, 6)</small><table border=\"1\" class=\"dataframe\"><thead><tr><th>star_rating</th><th>title</th><th>content_rating</th><th>genre</th><th>duration</th><th>actors_list</th></tr><tr><td>f64</td><td>str</td><td>str</td><td>str</td><td>i64</td><td>str</td></tr></thead><tbody><tr><td>8.7</td><td>&quot;Seven Samurai&quot;</td><td>&quot;UNRATED&quot;</td><td>&quot;Drama&quot;</td><td>207</td><td>&quot;[u&#x27;Toshir\\xf4 Mifune&#x27;, u&#x27;Takas…</td></tr><tr><td>8.2</td><td>&quot;Gone with the Wind&quot;</td><td>&quot;G&quot;</td><td>&quot;Drama&quot;</td><td>238</td><td>&quot;[u&#x27;Clark Gable&#x27;, u&#x27;Vivien Leig…</td></tr><tr><td>7.8</td><td>&quot;Hamlet&quot;</td><td>&quot;PG-13&quot;</td><td>&quot;Drama&quot;</td><td>242</td><td>&quot;[u&#x27;Kenneth Branagh&#x27;, u&#x27;Julie C…</td></tr></tbody></table></div>"
      ],
      "text/plain": [
       "shape: (3, 6)\n",
       "┌─────────────┬────────────────────┬────────────────┬───────┬──────────┬───────────────────────────┐\n",
       "│ star_rating ┆ title              ┆ content_rating ┆ genre ┆ duration ┆ actors_list               │\n",
       "│ ---         ┆ ---                ┆ ---            ┆ ---   ┆ ---      ┆ ---                       │\n",
       "│ f64         ┆ str                ┆ str            ┆ str   ┆ i64      ┆ str                       │\n",
       "╞═════════════╪════════════════════╪════════════════╪═══════╪══════════╪═══════════════════════════╡\n",
       "│ 8.7         ┆ Seven Samurai      ┆ UNRATED        ┆ Drama ┆ 207      ┆ [u'Toshir\\xf4 Mifune',    │\n",
       "│             ┆                    ┆                ┆       ┆          ┆ u'Takas…                  │\n",
       "│ 8.2         ┆ Gone with the Wind ┆ G              ┆ Drama ┆ 238      ┆ [u'Clark Gable', u'Vivien │\n",
       "│             ┆                    ┆                ┆       ┆          ┆ Leig…                     │\n",
       "│ 7.8         ┆ Hamlet             ┆ PG-13          ┆ Drama ┆ 242      ┆ [u'Kenneth Branagh',      │\n",
       "│             ┆                    ┆                ┆       ┆          ┆ u'Julie C…                │\n",
       "└─────────────┴────────────────────┴────────────────┴───────┴──────────┴───────────────────────────┘"
      ]
     },
     "execution_count": 43,
     "metadata": {},
     "output_type": "execute_result"
    }
   ],
   "source": [
    "# use the '&' operator to specify that both conditions are required\n",
    "movies.filter((pl.col(\"duration\") >= 200) & (pl.col(\"genre\") == \"Drama\"))"
   ]
  },
  {
   "cell_type": "code",
   "execution_count": 44,
   "metadata": {
    "jupyter": {
     "outputs_hidden": false
    }
   },
   "outputs": [
    {
     "data": {
      "text/html": [
       "<div><style>\n",
       ".dataframe > thead > tr,\n",
       ".dataframe > tbody > tr {\n",
       "  text-align: right;\n",
       "  white-space: pre-wrap;\n",
       "}\n",
       "</style>\n",
       "<small>shape: (287, 6)</small><table border=\"1\" class=\"dataframe\"><thead><tr><th>star_rating</th><th>title</th><th>content_rating</th><th>genre</th><th>duration</th><th>actors_list</th></tr><tr><td>f64</td><td>str</td><td>str</td><td>str</td><td>i64</td><td>str</td></tr></thead><tbody><tr><td>9.1</td><td>&quot;The Godfather: Part II&quot;</td><td>&quot;R&quot;</td><td>&quot;Crime&quot;</td><td>200</td><td>&quot;[u&#x27;Al Pacino&#x27;, u&#x27;Robert De Nir…</td></tr><tr><td>8.9</td><td>&quot;12 Angry Men&quot;</td><td>&quot;NOT RATED&quot;</td><td>&quot;Drama&quot;</td><td>96</td><td>&quot;[u&#x27;Henry Fonda&#x27;, u&#x27;Lee J. Cobb…</td></tr><tr><td>8.9</td><td>&quot;The Lord of the Rings: The Ret…</td><td>&quot;PG-13&quot;</td><td>&quot;Adventure&quot;</td><td>201</td><td>&quot;[u&#x27;Elijah Wood&#x27;, u&#x27;Viggo Morte…</td></tr><tr><td>8.9</td><td>&quot;Fight Club&quot;</td><td>&quot;R&quot;</td><td>&quot;Drama&quot;</td><td>139</td><td>&quot;[u&#x27;Brad Pitt&#x27;, u&#x27;Edward Norton…</td></tr><tr><td>8.8</td><td>&quot;Forrest Gump&quot;</td><td>&quot;PG-13&quot;</td><td>&quot;Drama&quot;</td><td>142</td><td>&quot;[u&#x27;Tom Hanks&#x27;, u&#x27;Robin Wright&#x27;…</td></tr><tr><td>&hellip;</td><td>&hellip;</td><td>&hellip;</td><td>&hellip;</td><td>&hellip;</td><td>&hellip;</td></tr><tr><td>7.4</td><td>&quot;My Sister&#x27;s Keeper&quot;</td><td>&quot;PG-13&quot;</td><td>&quot;Drama&quot;</td><td>109</td><td>&quot;[u&#x27;Cameron Diaz&#x27;, u&#x27;Abigail Br…</td></tr><tr><td>7.4</td><td>&quot;The English Patient&quot;</td><td>&quot;R&quot;</td><td>&quot;Drama&quot;</td><td>162</td><td>&quot;[u&#x27;Ralph Fiennes&#x27;, u&#x27;Juliette …</td></tr><tr><td>7.4</td><td>&quot;Wonder Boys&quot;</td><td>&quot;R&quot;</td><td>&quot;Drama&quot;</td><td>107</td><td>&quot;[u&#x27;Michael Douglas&#x27;, u&#x27;Tobey M…</td></tr><tr><td>7.4</td><td>&quot;Blue Valentine&quot;</td><td>&quot;NC-17&quot;</td><td>&quot;Drama&quot;</td><td>112</td><td>&quot;[u&#x27;Ryan Gosling&#x27;, u&#x27;Michelle W…</td></tr><tr><td>7.4</td><td>&quot;The Cider House Rules&quot;</td><td>&quot;PG-13&quot;</td><td>&quot;Drama&quot;</td><td>126</td><td>&quot;[u&#x27;Tobey Maguire&#x27;, u&#x27;Charlize …</td></tr></tbody></table></div>"
      ],
      "text/plain": [
       "shape: (287, 6)\n",
       "┌─────────────┬──────────────────────┬────────────────┬───────────┬──────────┬─────────────────────┐\n",
       "│ star_rating ┆ title                ┆ content_rating ┆ genre     ┆ duration ┆ actors_list         │\n",
       "│ ---         ┆ ---                  ┆ ---            ┆ ---       ┆ ---      ┆ ---                 │\n",
       "│ f64         ┆ str                  ┆ str            ┆ str       ┆ i64      ┆ str                 │\n",
       "╞═════════════╪══════════════════════╪════════════════╪═══════════╪══════════╪═════════════════════╡\n",
       "│ 9.1         ┆ The Godfather: Part  ┆ R              ┆ Crime     ┆ 200      ┆ [u'Al Pacino',      │\n",
       "│             ┆ II                   ┆                ┆           ┆          ┆ u'Robert De Nir…    │\n",
       "│ 8.9         ┆ 12 Angry Men         ┆ NOT RATED      ┆ Drama     ┆ 96       ┆ [u'Henry Fonda',    │\n",
       "│             ┆                      ┆                ┆           ┆          ┆ u'Lee J. Cobb…      │\n",
       "│ 8.9         ┆ The Lord of the      ┆ PG-13          ┆ Adventure ┆ 201      ┆ [u'Elijah Wood',    │\n",
       "│             ┆ Rings: The Ret…      ┆                ┆           ┆          ┆ u'Viggo Morte…      │\n",
       "│ 8.9         ┆ Fight Club           ┆ R              ┆ Drama     ┆ 139      ┆ [u'Brad Pitt',      │\n",
       "│             ┆                      ┆                ┆           ┆          ┆ u'Edward Norton…    │\n",
       "│ 8.8         ┆ Forrest Gump         ┆ PG-13          ┆ Drama     ┆ 142      ┆ [u'Tom Hanks',      │\n",
       "│             ┆                      ┆                ┆           ┆          ┆ u'Robin Wright'…    │\n",
       "│ …           ┆ …                    ┆ …              ┆ …         ┆ …        ┆ …                   │\n",
       "│ 7.4         ┆ My Sister's Keeper   ┆ PG-13          ┆ Drama     ┆ 109      ┆ [u'Cameron Diaz',   │\n",
       "│             ┆                      ┆                ┆           ┆          ┆ u'Abigail Br…       │\n",
       "│ 7.4         ┆ The English Patient  ┆ R              ┆ Drama     ┆ 162      ┆ [u'Ralph Fiennes',  │\n",
       "│             ┆                      ┆                ┆           ┆          ┆ u'Juliette …        │\n",
       "│ 7.4         ┆ Wonder Boys          ┆ R              ┆ Drama     ┆ 107      ┆ [u'Michael          │\n",
       "│             ┆                      ┆                ┆           ┆          ┆ Douglas', u'Tobey   │\n",
       "│             ┆                      ┆                ┆           ┆          ┆ M…                  │\n",
       "│ 7.4         ┆ Blue Valentine       ┆ NC-17          ┆ Drama     ┆ 112      ┆ [u'Ryan Gosling',   │\n",
       "│             ┆                      ┆                ┆           ┆          ┆ u'Michelle W…       │\n",
       "│ 7.4         ┆ The Cider House      ┆ PG-13          ┆ Drama     ┆ 126      ┆ [u'Tobey Maguire',  │\n",
       "│             ┆ Rules                ┆                ┆           ┆          ┆ u'Charlize …        │\n",
       "└─────────────┴──────────────────────┴────────────────┴───────────┴──────────┴─────────────────────┘"
      ]
     },
     "execution_count": 44,
     "metadata": {},
     "output_type": "execute_result"
    }
   ],
   "source": [
    "# using the '|' operator would have shown movies that are either long or dramas (or both)\n",
    "movies.filter((pl.col(\"duration\") >= 200) | (pl.col(\"genre\") == \"Drama\"))"
   ]
  },
  {
   "attachments": {},
   "cell_type": "markdown",
   "metadata": {},
   "source": [
    "### Range filter\n"
   ]
  },
  {
   "cell_type": "code",
   "execution_count": 45,
   "metadata": {
    "jupyter": {
     "outputs_hidden": false
    }
   },
   "outputs": [
    {
     "data": {
      "text/html": [
       "<div><style>\n",
       ".dataframe > thead > tr,\n",
       ".dataframe > tbody > tr {\n",
       "  text-align: right;\n",
       "  white-space: pre-wrap;\n",
       "}\n",
       "</style>\n",
       "<small>shape: (5, 6)</small><table border=\"1\" class=\"dataframe\"><thead><tr><th>star_rating</th><th>title</th><th>content_rating</th><th>genre</th><th>duration</th><th>actors_list</th></tr><tr><td>f64</td><td>str</td><td>str</td><td>str</td><td>i64</td><td>str</td></tr></thead><tbody><tr><td>9.3</td><td>&quot;The Shawshank Redemption&quot;</td><td>&quot;R&quot;</td><td>&quot;Crime&quot;</td><td>142</td><td>&quot;[u&#x27;Tim Robbins&#x27;, u&#x27;Morgan Free…</td></tr><tr><td>9.2</td><td>&quot;The Godfather&quot;</td><td>&quot;R&quot;</td><td>&quot;Crime&quot;</td><td>175</td><td>&quot;[u&#x27;Marlon Brando&#x27;, u&#x27;Al Pacino…</td></tr><tr><td>9.1</td><td>&quot;The Godfather: Part II&quot;</td><td>&quot;R&quot;</td><td>&quot;Crime&quot;</td><td>200</td><td>&quot;[u&#x27;Al Pacino&#x27;, u&#x27;Robert De Nir…</td></tr><tr><td>9.0</td><td>&quot;The Dark Knight&quot;</td><td>&quot;PG-13&quot;</td><td>&quot;Action&quot;</td><td>152</td><td>&quot;[u&#x27;Christian Bale&#x27;, u&#x27;Heath Le…</td></tr><tr><td>8.9</td><td>&quot;Pulp Fiction&quot;</td><td>&quot;R&quot;</td><td>&quot;Crime&quot;</td><td>154</td><td>&quot;[u&#x27;John Travolta&#x27;, u&#x27;Uma Thurm…</td></tr></tbody></table></div>"
      ],
      "text/plain": [
       "shape: (5, 6)\n",
       "┌─────────────┬───────────────────────┬────────────────┬────────┬──────────┬───────────────────────┐\n",
       "│ star_rating ┆ title                 ┆ content_rating ┆ genre  ┆ duration ┆ actors_list           │\n",
       "│ ---         ┆ ---                   ┆ ---            ┆ ---    ┆ ---      ┆ ---                   │\n",
       "│ f64         ┆ str                   ┆ str            ┆ str    ┆ i64      ┆ str                   │\n",
       "╞═════════════╪═══════════════════════╪════════════════╪════════╪══════════╪═══════════════════════╡\n",
       "│ 9.3         ┆ The Shawshank         ┆ R              ┆ Crime  ┆ 142      ┆ [u'Tim Robbins',      │\n",
       "│             ┆ Redemption            ┆                ┆        ┆          ┆ u'Morgan Free…        │\n",
       "│ 9.2         ┆ The Godfather         ┆ R              ┆ Crime  ┆ 175      ┆ [u'Marlon Brando',    │\n",
       "│             ┆                       ┆                ┆        ┆          ┆ u'Al Pacino…          │\n",
       "│ 9.1         ┆ The Godfather: Part   ┆ R              ┆ Crime  ┆ 200      ┆ [u'Al Pacino',        │\n",
       "│             ┆ II                    ┆                ┆        ┆          ┆ u'Robert De Nir…      │\n",
       "│ 9.0         ┆ The Dark Knight       ┆ PG-13          ┆ Action ┆ 152      ┆ [u'Christian Bale',   │\n",
       "│             ┆                       ┆                ┆        ┆          ┆ u'Heath Le…           │\n",
       "│ 8.9         ┆ Pulp Fiction          ┆ R              ┆ Crime  ┆ 154      ┆ [u'John Travolta',    │\n",
       "│             ┆                       ┆                ┆        ┆          ┆ u'Uma Thurm…          │\n",
       "└─────────────┴───────────────────────┴────────────────┴────────┴──────────┴───────────────────────┘"
      ]
     },
     "execution_count": 45,
     "metadata": {},
     "output_type": "execute_result"
    }
   ],
   "source": [
    "movies.filter(pl.col(\"genre\").is_in([\"Crime\", \"Drama\", \"Action\"])).head()"
   ]
  },
  {
   "cell_type": "code",
   "execution_count": 46,
   "metadata": {},
   "outputs": [
    {
     "data": {
      "text/html": [
       "<div><style>\n",
       ".dataframe > thead > tr,\n",
       ".dataframe > tbody > tr {\n",
       "  text-align: right;\n",
       "  white-space: pre-wrap;\n",
       "}\n",
       "</style>\n",
       "<small>shape: (5, 6)</small><table border=\"1\" class=\"dataframe\"><thead><tr><th>star_rating</th><th>title</th><th>content_rating</th><th>genre</th><th>duration</th><th>actors_list</th></tr><tr><td>f64</td><td>str</td><td>str</td><td>str</td><td>i64</td><td>str</td></tr></thead><tbody><tr><td>9.3</td><td>&quot;The Shawshank Redemption&quot;</td><td>&quot;R&quot;</td><td>&quot;Crime&quot;</td><td>142</td><td>&quot;[u&#x27;Tim Robbins&#x27;, u&#x27;Morgan Free…</td></tr><tr><td>9.2</td><td>&quot;The Godfather&quot;</td><td>&quot;R&quot;</td><td>&quot;Crime&quot;</td><td>175</td><td>&quot;[u&#x27;Marlon Brando&#x27;, u&#x27;Al Pacino…</td></tr><tr><td>9.0</td><td>&quot;The Dark Knight&quot;</td><td>&quot;PG-13&quot;</td><td>&quot;Action&quot;</td><td>152</td><td>&quot;[u&#x27;Christian Bale&#x27;, u&#x27;Heath Le…</td></tr><tr><td>8.9</td><td>&quot;Pulp Fiction&quot;</td><td>&quot;R&quot;</td><td>&quot;Crime&quot;</td><td>154</td><td>&quot;[u&#x27;John Travolta&#x27;, u&#x27;Uma Thurm…</td></tr><tr><td>8.9</td><td>&quot;The Good, the Bad and the Ugly&quot;</td><td>&quot;NOT RATED&quot;</td><td>&quot;Western&quot;</td><td>161</td><td>&quot;[u&#x27;Clint Eastwood&#x27;, u&#x27;Eli Wall…</td></tr></tbody></table></div>"
      ],
      "text/plain": [
       "shape: (5, 6)\n",
       "┌─────────────┬───────────────────┬────────────────┬─────────┬──────────┬──────────────────────────┐\n",
       "│ star_rating ┆ title             ┆ content_rating ┆ genre   ┆ duration ┆ actors_list              │\n",
       "│ ---         ┆ ---               ┆ ---            ┆ ---     ┆ ---      ┆ ---                      │\n",
       "│ f64         ┆ str               ┆ str            ┆ str     ┆ i64      ┆ str                      │\n",
       "╞═════════════╪═══════════════════╪════════════════╪═════════╪══════════╪══════════════════════════╡\n",
       "│ 9.3         ┆ The Shawshank     ┆ R              ┆ Crime   ┆ 142      ┆ [u'Tim Robbins',         │\n",
       "│             ┆ Redemption        ┆                ┆         ┆          ┆ u'Morgan Free…           │\n",
       "│ 9.2         ┆ The Godfather     ┆ R              ┆ Crime   ┆ 175      ┆ [u'Marlon Brando', u'Al  │\n",
       "│             ┆                   ┆                ┆         ┆          ┆ Pacino…                  │\n",
       "│ 9.0         ┆ The Dark Knight   ┆ PG-13          ┆ Action  ┆ 152      ┆ [u'Christian Bale',      │\n",
       "│             ┆                   ┆                ┆         ┆          ┆ u'Heath Le…              │\n",
       "│ 8.9         ┆ Pulp Fiction      ┆ R              ┆ Crime   ┆ 154      ┆ [u'John Travolta', u'Uma │\n",
       "│             ┆                   ┆                ┆         ┆          ┆ Thurm…                   │\n",
       "│ 8.9         ┆ The Good, the Bad ┆ NOT RATED      ┆ Western ┆ 161      ┆ [u'Clint Eastwood',      │\n",
       "│             ┆ and the Ugly      ┆                ┆         ┆          ┆ u'Eli Wall…              │\n",
       "└─────────────┴───────────────────┴────────────────┴─────────┴──────────┴──────────────────────────┘"
      ]
     },
     "execution_count": 46,
     "metadata": {},
     "output_type": "execute_result"
    }
   ],
   "source": [
    "movies.filter(pl.col(\"duration\").is_between(100, 200, closed=\"none\")).head()"
   ]
  },
  {
   "attachments": {},
   "cell_type": "markdown",
   "metadata": {},
   "source": [
    "## Reshape\n"
   ]
  },
  {
   "cell_type": "code",
   "execution_count": 47,
   "metadata": {},
   "outputs": [
    {
     "data": {
      "text/html": [
       "<div><style>\n",
       ".dataframe > thead > tr,\n",
       ".dataframe > tbody > tr {\n",
       "  text-align: right;\n",
       "  white-space: pre-wrap;\n",
       "}\n",
       "</style>\n",
       "<small>shape: (5, 6)</small><table border=\"1\" class=\"dataframe\"><thead><tr><th>country</th><th>beer_servings</th><th>spirit_servings</th><th>wine_servings</th><th>total_litres_of_pure_alcohol</th><th>continent</th></tr><tr><td>str</td><td>i64</td><td>i64</td><td>i64</td><td>f64</td><td>str</td></tr></thead><tbody><tr><td>&quot;Afghanistan&quot;</td><td>0</td><td>0</td><td>0</td><td>0.0</td><td>&quot;Asia&quot;</td></tr><tr><td>&quot;Albania&quot;</td><td>89</td><td>132</td><td>54</td><td>4.9</td><td>&quot;Europe&quot;</td></tr><tr><td>&quot;Algeria&quot;</td><td>25</td><td>0</td><td>14</td><td>0.7</td><td>&quot;Africa&quot;</td></tr><tr><td>&quot;Andorra&quot;</td><td>245</td><td>138</td><td>312</td><td>12.4</td><td>&quot;Europe&quot;</td></tr><tr><td>&quot;Angola&quot;</td><td>217</td><td>57</td><td>45</td><td>5.9</td><td>&quot;Africa&quot;</td></tr></tbody></table></div>"
      ],
      "text/plain": [
       "shape: (5, 6)\n",
       "┌─────────────┬───────────────┬─────────────────┬───────────────┬──────────────────────┬───────────┐\n",
       "│ country     ┆ beer_servings ┆ spirit_servings ┆ wine_servings ┆ total_litres_of_pure ┆ continent │\n",
       "│ ---         ┆ ---           ┆ ---             ┆ ---           ┆ _alcohol             ┆ ---       │\n",
       "│ str         ┆ i64           ┆ i64             ┆ i64           ┆ ---                  ┆ str       │\n",
       "│             ┆               ┆                 ┆               ┆ f64                  ┆           │\n",
       "╞═════════════╪═══════════════╪═════════════════╪═══════════════╪══════════════════════╪═══════════╡\n",
       "│ Afghanistan ┆ 0             ┆ 0               ┆ 0             ┆ 0.0                  ┆ Asia      │\n",
       "│ Albania     ┆ 89            ┆ 132             ┆ 54            ┆ 4.9                  ┆ Europe    │\n",
       "│ Algeria     ┆ 25            ┆ 0               ┆ 14            ┆ 0.7                  ┆ Africa    │\n",
       "│ Andorra     ┆ 245           ┆ 138             ┆ 312           ┆ 12.4                 ┆ Europe    │\n",
       "│ Angola      ┆ 217           ┆ 57              ┆ 45            ┆ 5.9                  ┆ Africa    │\n",
       "└─────────────┴───────────────┴─────────────────┴───────────────┴──────────────────────┴───────────┘"
      ]
     },
     "execution_count": 47,
     "metadata": {},
     "output_type": "execute_result"
    }
   ],
   "source": [
    "drinks = pl.read_csv(\"data/drinks.csv\")\n",
    "drinks.head()"
   ]
  },
  {
   "cell_type": "code",
   "execution_count": 48,
   "metadata": {},
   "outputs": [
    {
     "data": {
      "text/html": [
       "<div><style>\n",
       ".dataframe > thead > tr,\n",
       ".dataframe > tbody > tr {\n",
       "  text-align: right;\n",
       "  white-space: pre-wrap;\n",
       "}\n",
       "</style>\n",
       "<small>shape: (1, 3)</small><table border=\"1\" class=\"dataframe\"><thead><tr><th>beer_servings</th><th>spirit_servings</th><th>wine_servings</th></tr><tr><td>i64</td><td>i64</td><td>i64</td></tr></thead><tbody><tr><td>376</td><td>438</td><td>370</td></tr></tbody></table></div>"
      ],
      "text/plain": [
       "shape: (1, 3)\n",
       "┌───────────────┬─────────────────┬───────────────┐\n",
       "│ beer_servings ┆ spirit_servings ┆ wine_servings │\n",
       "│ ---           ┆ ---             ┆ ---           │\n",
       "│ i64           ┆ i64             ┆ i64           │\n",
       "╞═══════════════╪═════════════════╪═══════════════╡\n",
       "│ 376           ┆ 438             ┆ 370           │\n",
       "└───────────────┴─────────────────┴───────────────┘"
      ]
     },
     "execution_count": 48,
     "metadata": {},
     "output_type": "execute_result"
    }
   ],
   "source": [
    "# apply the 'max' function along axis 0 to calculate the maximum value in each column\n",
    "drinks[:, \"beer_servings\":\"wine_servings\"].max()"
   ]
  },
  {
   "cell_type": "code",
   "execution_count": 49,
   "metadata": {},
   "outputs": [
    {
     "data": {
      "text/html": [
       "<div><style>\n",
       ".dataframe > thead > tr,\n",
       ".dataframe > tbody > tr {\n",
       "  text-align: right;\n",
       "  white-space: pre-wrap;\n",
       "}\n",
       "</style>\n",
       "<small>shape: (5, 3)</small><table border=\"1\" class=\"dataframe\"><thead><tr><th>beer_servings</th><th>spirit_servings</th><th>wine_servings</th></tr><tr><td>f64</td><td>f64</td><td>f64</td></tr></thead><tbody><tr><td>0.0</td><td>0.0</td><td>0.0</td></tr><tr><td>89.0</td><td>132.0</td><td>54.0</td></tr><tr><td>25.0</td><td>0.0</td><td>14.0</td></tr><tr><td>245.0</td><td>138.0</td><td>312.0</td></tr><tr><td>217.0</td><td>57.0</td><td>45.0</td></tr></tbody></table></div>"
      ],
      "text/plain": [
       "shape: (5, 3)\n",
       "┌───────────────┬─────────────────┬───────────────┐\n",
       "│ beer_servings ┆ spirit_servings ┆ wine_servings │\n",
       "│ ---           ┆ ---             ┆ ---           │\n",
       "│ f64           ┆ f64             ┆ f64           │\n",
       "╞═══════════════╪═════════════════╪═══════════════╡\n",
       "│ 0.0           ┆ 0.0             ┆ 0.0           │\n",
       "│ 89.0          ┆ 132.0           ┆ 54.0          │\n",
       "│ 25.0          ┆ 0.0             ┆ 14.0          │\n",
       "│ 245.0         ┆ 138.0           ┆ 312.0         │\n",
       "│ 217.0         ┆ 57.0            ┆ 45.0          │\n",
       "└───────────────┴─────────────────┴───────────────┘"
      ]
     },
     "execution_count": 49,
     "metadata": {},
     "output_type": "execute_result"
    }
   ],
   "source": [
    "# convert every DataFrame element into a float\n",
    "drinks[:, \"beer_servings\":\"wine_servings\"].cast(float).head()"
   ]
  },
  {
   "attachments": {},
   "cell_type": "markdown",
   "metadata": {},
   "source": [
    "### Concat\n"
   ]
  },
  {
   "cell_type": "code",
   "execution_count": 50,
   "metadata": {},
   "outputs": [],
   "source": [
    "df1 = pl.DataFrame({\n",
    "    \"name\": [\"A\", \"B\", \"C\", \"D\"],\n",
    "    \"math\": [60, 89, 82, 70],\n",
    "    \"physics\": [66, 95, 83, 66],\n",
    "    \"chemistry\": [61, 91, 77, 70],\n",
    "})\n",
    "\n",
    "df2 = pl.DataFrame({\n",
    "    \"name\": [\"E\", \"F\", \"G\", \"H\"],\n",
    "    \"math\": [66, 95, 83, 66],\n",
    "    \"physics\": [60, 89, 82, 70],\n",
    "    \"chemistry\": [90, 81, 78, 90],\n",
    "})"
   ]
  },
  {
   "cell_type": "code",
   "execution_count": 51,
   "metadata": {},
   "outputs": [
    {
     "data": {
      "text/html": [
       "<div><style>\n",
       ".dataframe > thead > tr,\n",
       ".dataframe > tbody > tr {\n",
       "  text-align: right;\n",
       "  white-space: pre-wrap;\n",
       "}\n",
       "</style>\n",
       "<small>shape: (8, 4)</small><table border=\"1\" class=\"dataframe\"><thead><tr><th>name</th><th>math</th><th>physics</th><th>chemistry</th></tr><tr><td>str</td><td>i64</td><td>i64</td><td>i64</td></tr></thead><tbody><tr><td>&quot;A&quot;</td><td>60</td><td>66</td><td>61</td></tr><tr><td>&quot;B&quot;</td><td>89</td><td>95</td><td>91</td></tr><tr><td>&quot;C&quot;</td><td>82</td><td>83</td><td>77</td></tr><tr><td>&quot;D&quot;</td><td>70</td><td>66</td><td>70</td></tr><tr><td>&quot;E&quot;</td><td>66</td><td>60</td><td>90</td></tr><tr><td>&quot;F&quot;</td><td>95</td><td>89</td><td>81</td></tr><tr><td>&quot;G&quot;</td><td>83</td><td>82</td><td>78</td></tr><tr><td>&quot;H&quot;</td><td>66</td><td>70</td><td>90</td></tr></tbody></table></div>"
      ],
      "text/plain": [
       "shape: (8, 4)\n",
       "┌──────┬──────┬─────────┬───────────┐\n",
       "│ name ┆ math ┆ physics ┆ chemistry │\n",
       "│ ---  ┆ ---  ┆ ---     ┆ ---       │\n",
       "│ str  ┆ i64  ┆ i64     ┆ i64       │\n",
       "╞══════╪══════╪═════════╪═══════════╡\n",
       "│ A    ┆ 60   ┆ 66      ┆ 61        │\n",
       "│ B    ┆ 89   ┆ 95      ┆ 91        │\n",
       "│ C    ┆ 82   ┆ 83      ┆ 77        │\n",
       "│ D    ┆ 70   ┆ 66      ┆ 70        │\n",
       "│ E    ┆ 66   ┆ 60      ┆ 90        │\n",
       "│ F    ┆ 95   ┆ 89      ┆ 81        │\n",
       "│ G    ┆ 83   ┆ 82      ┆ 78        │\n",
       "│ H    ┆ 66   ┆ 70      ┆ 90        │\n",
       "└──────┴──────┴─────────┴───────────┘"
      ]
     },
     "execution_count": 51,
     "metadata": {},
     "output_type": "execute_result"
    }
   ],
   "source": [
    "df12 = pl.concat([df1, df2])\n",
    "df12"
   ]
  },
  {
   "cell_type": "code",
   "execution_count": 52,
   "metadata": {},
   "outputs": [
    {
     "data": {
      "text/html": [
       "<div><style>\n",
       ".dataframe > thead > tr,\n",
       ".dataframe > tbody > tr {\n",
       "  text-align: right;\n",
       "  white-space: pre-wrap;\n",
       "}\n",
       "</style>\n",
       "<small>shape: (8, 4)</small><table border=\"1\" class=\"dataframe\"><thead><tr><th>chemistry</th><th>math</th><th>name</th><th>physics</th></tr><tr><td>i64</td><td>i64</td><td>str</td><td>i64</td></tr></thead><tbody><tr><td>61</td><td>60</td><td>&quot;A&quot;</td><td>66</td></tr><tr><td>91</td><td>89</td><td>&quot;B&quot;</td><td>95</td></tr><tr><td>77</td><td>82</td><td>&quot;C&quot;</td><td>83</td></tr><tr><td>70</td><td>70</td><td>&quot;D&quot;</td><td>66</td></tr><tr><td>90</td><td>66</td><td>&quot;E&quot;</td><td>60</td></tr><tr><td>81</td><td>95</td><td>&quot;F&quot;</td><td>89</td></tr><tr><td>78</td><td>83</td><td>&quot;G&quot;</td><td>82</td></tr><tr><td>90</td><td>66</td><td>&quot;H&quot;</td><td>70</td></tr></tbody></table></div>"
      ],
      "text/plain": [
       "shape: (8, 4)\n",
       "┌───────────┬──────┬──────┬─────────┐\n",
       "│ chemistry ┆ math ┆ name ┆ physics │\n",
       "│ ---       ┆ ---  ┆ ---  ┆ ---     │\n",
       "│ i64       ┆ i64  ┆ str  ┆ i64     │\n",
       "╞═══════════╪══════╪══════╪═════════╡\n",
       "│ 61        ┆ 60   ┆ A    ┆ 66      │\n",
       "│ 91        ┆ 89   ┆ B    ┆ 95      │\n",
       "│ 77        ┆ 82   ┆ C    ┆ 83      │\n",
       "│ 70        ┆ 70   ┆ D    ┆ 66      │\n",
       "│ 90        ┆ 66   ┆ E    ┆ 60      │\n",
       "│ 81        ┆ 95   ┆ F    ┆ 89      │\n",
       "│ 78        ┆ 83   ┆ G    ┆ 82      │\n",
       "│ 90        ┆ 66   ┆ H    ┆ 70      │\n",
       "└───────────┴──────┴──────┴─────────┘"
      ]
     },
     "execution_count": 52,
     "metadata": {},
     "output_type": "execute_result"
    }
   ],
   "source": [
    "df12.select(sorted(df12.columns))"
   ]
  },
  {
   "attachments": {},
   "cell_type": "markdown",
   "metadata": {},
   "source": [
    "### Join"
   ]
  },
  {
   "cell_type": "code",
   "execution_count": 53,
   "metadata": {},
   "outputs": [
    {
     "data": {
      "text/html": [
       "<div><style>\n",
       ".dataframe > thead > tr,\n",
       ".dataframe > tbody > tr {\n",
       "  text-align: right;\n",
       "  white-space: pre-wrap;\n",
       "}\n",
       "</style>\n",
       "<small>shape: (5, 3)</small><table border=\"1\" class=\"dataframe\"><thead><tr><th>movie_id</th><th>title</th><th>date</th></tr><tr><td>i64</td><td>str</td><td>str</td></tr></thead><tbody><tr><td>1</td><td>&quot;Toy Story (1995)&quot;</td><td>&quot;01-Jan-1995&quot;</td></tr><tr><td>2</td><td>&quot;GoldenEye (1995)&quot;</td><td>&quot;01-Jan-1995&quot;</td></tr><tr><td>3</td><td>&quot;Four Rooms (1995)&quot;</td><td>&quot;01-Jan-1995&quot;</td></tr><tr><td>4</td><td>&quot;Get Shorty (1995)&quot;</td><td>&quot;01-Jan-1995&quot;</td></tr><tr><td>5</td><td>&quot;Copycat (1995)&quot;</td><td>&quot;01-Jan-1995&quot;</td></tr></tbody></table></div>"
      ],
      "text/plain": [
       "shape: (5, 3)\n",
       "┌──────────┬───────────────────┬─────────────┐\n",
       "│ movie_id ┆ title             ┆ date        │\n",
       "│ ---      ┆ ---               ┆ ---         │\n",
       "│ i64      ┆ str               ┆ str         │\n",
       "╞══════════╪═══════════════════╪═════════════╡\n",
       "│ 1        ┆ Toy Story (1995)  ┆ 01-Jan-1995 │\n",
       "│ 2        ┆ GoldenEye (1995)  ┆ 01-Jan-1995 │\n",
       "│ 3        ┆ Four Rooms (1995) ┆ 01-Jan-1995 │\n",
       "│ 4        ┆ Get Shorty (1995) ┆ 01-Jan-1995 │\n",
       "│ 5        ┆ Copycat (1995)    ┆ 01-Jan-1995 │\n",
       "└──────────┴───────────────────┴─────────────┘"
      ]
     },
     "execution_count": 53,
     "metadata": {},
     "output_type": "execute_result"
    }
   ],
   "source": [
    "movie_cols = [\"movie_id\", \"title\", \"date\"]\n",
    "movies = pl.read_csv(\"data/u.item\", separator=\"|\", has_header=False)[:, :3]\n",
    "movies.columns = movie_cols\n",
    "movies.head()"
   ]
  },
  {
   "cell_type": "code",
   "execution_count": 54,
   "metadata": {},
   "outputs": [
    {
     "data": {
      "text/plain": [
       "(1682, 3)"
      ]
     },
     "execution_count": 54,
     "metadata": {},
     "output_type": "execute_result"
    }
   ],
   "source": [
    "movies.shape"
   ]
  },
  {
   "cell_type": "code",
   "execution_count": 55,
   "metadata": {},
   "outputs": [
    {
     "data": {
      "text/html": [
       "<div><style>\n",
       ".dataframe > thead > tr,\n",
       ".dataframe > tbody > tr {\n",
       "  text-align: right;\n",
       "  white-space: pre-wrap;\n",
       "}\n",
       "</style>\n",
       "<small>shape: (5, 4)</small><table border=\"1\" class=\"dataframe\"><thead><tr><th>user_id</th><th>movie_id</th><th>rating</th><th>timestamp</th></tr><tr><td>i64</td><td>i64</td><td>i64</td><td>i64</td></tr></thead><tbody><tr><td>196</td><td>242</td><td>3</td><td>881250949</td></tr><tr><td>186</td><td>302</td><td>3</td><td>891717742</td></tr><tr><td>22</td><td>377</td><td>1</td><td>878887116</td></tr><tr><td>244</td><td>51</td><td>2</td><td>880606923</td></tr><tr><td>166</td><td>346</td><td>1</td><td>886397596</td></tr></tbody></table></div>"
      ],
      "text/plain": [
       "shape: (5, 4)\n",
       "┌─────────┬──────────┬────────┬───────────┐\n",
       "│ user_id ┆ movie_id ┆ rating ┆ timestamp │\n",
       "│ ---     ┆ ---      ┆ ---    ┆ ---       │\n",
       "│ i64     ┆ i64      ┆ i64    ┆ i64       │\n",
       "╞═════════╪══════════╪════════╪═══════════╡\n",
       "│ 196     ┆ 242      ┆ 3      ┆ 881250949 │\n",
       "│ 186     ┆ 302      ┆ 3      ┆ 891717742 │\n",
       "│ 22      ┆ 377      ┆ 1      ┆ 878887116 │\n",
       "│ 244     ┆ 51       ┆ 2      ┆ 880606923 │\n",
       "│ 166     ┆ 346      ┆ 1      ┆ 886397596 │\n",
       "└─────────┴──────────┴────────┴───────────┘"
      ]
     },
     "execution_count": 55,
     "metadata": {},
     "output_type": "execute_result"
    }
   ],
   "source": [
    "rating_cols = [\"user_id\", \"movie_id\", \"rating\", \"timestamp\"]\n",
    "\n",
    "ratings = pl.read_csv(\"data/u.data\", separator=\"\\t\", has_header=False)\n",
    "ratings.columns = rating_cols\n",
    "ratings.head()"
   ]
  },
  {
   "cell_type": "code",
   "execution_count": 56,
   "metadata": {},
   "outputs": [
    {
     "data": {
      "text/plain": [
       "(100000, 4)"
      ]
     },
     "execution_count": 56,
     "metadata": {},
     "output_type": "execute_result"
    }
   ],
   "source": [
    "ratings.shape"
   ]
  },
  {
   "cell_type": "code",
   "execution_count": 57,
   "metadata": {},
   "outputs": [
    {
     "data": {
      "text/html": [
       "<div><style>\n",
       ".dataframe > thead > tr,\n",
       ".dataframe > tbody > tr {\n",
       "  text-align: right;\n",
       "  white-space: pre-wrap;\n",
       "}\n",
       "</style>\n",
       "<small>shape: (5, 4)</small><table border=\"1\" class=\"dataframe\"><thead><tr><th>user_id</th><th>movie_id</th><th>rating</th><th>timestamp</th></tr><tr><td>i64</td><td>i64</td><td>i64</td><td>i64</td></tr></thead><tbody><tr><td>308</td><td>1</td><td>4</td><td>887736532</td></tr><tr><td>287</td><td>1</td><td>5</td><td>875334088</td></tr><tr><td>148</td><td>1</td><td>4</td><td>877019411</td></tr><tr><td>280</td><td>1</td><td>4</td><td>891700426</td></tr><tr><td>66</td><td>1</td><td>3</td><td>883601324</td></tr></tbody></table></div>"
      ],
      "text/plain": [
       "shape: (5, 4)\n",
       "┌─────────┬──────────┬────────┬───────────┐\n",
       "│ user_id ┆ movie_id ┆ rating ┆ timestamp │\n",
       "│ ---     ┆ ---      ┆ ---    ┆ ---       │\n",
       "│ i64     ┆ i64      ┆ i64    ┆ i64       │\n",
       "╞═════════╪══════════╪════════╪═══════════╡\n",
       "│ 308     ┆ 1        ┆ 4      ┆ 887736532 │\n",
       "│ 287     ┆ 1        ┆ 5      ┆ 875334088 │\n",
       "│ 148     ┆ 1        ┆ 4      ┆ 877019411 │\n",
       "│ 280     ┆ 1        ┆ 4      ┆ 891700426 │\n",
       "│ 66      ┆ 1        ┆ 3      ┆ 883601324 │\n",
       "└─────────┴──────────┴────────┴───────────┘"
      ]
     },
     "execution_count": 57,
     "metadata": {},
     "output_type": "execute_result"
    }
   ],
   "source": [
    "ratings.filter(pl.col(\"movie_id\") == 1).head()"
   ]
  },
  {
   "cell_type": "code",
   "execution_count": 58,
   "metadata": {},
   "outputs": [
    {
     "data": {
      "text/html": [
       "<div><style>\n",
       ".dataframe > thead > tr,\n",
       ".dataframe > tbody > tr {\n",
       "  text-align: right;\n",
       "  white-space: pre-wrap;\n",
       "}\n",
       "</style>\n",
       "<small>shape: (5, 6)</small><table border=\"1\" class=\"dataframe\"><thead><tr><th>movie_id</th><th>title</th><th>date</th><th>user_id</th><th>rating</th><th>timestamp</th></tr><tr><td>i64</td><td>str</td><td>str</td><td>i64</td><td>i64</td><td>i64</td></tr></thead><tbody><tr><td>242</td><td>&quot;Kolya (1996)&quot;</td><td>&quot;24-Jan-1997&quot;</td><td>196</td><td>3</td><td>881250949</td></tr><tr><td>302</td><td>&quot;L.A. Confidential (1997)&quot;</td><td>&quot;01-Jan-1997&quot;</td><td>186</td><td>3</td><td>891717742</td></tr><tr><td>377</td><td>&quot;Heavyweights (1994)&quot;</td><td>&quot;01-Jan-1994&quot;</td><td>22</td><td>1</td><td>878887116</td></tr><tr><td>51</td><td>&quot;Legends of the Fall (1994)&quot;</td><td>&quot;01-Jan-1994&quot;</td><td>244</td><td>2</td><td>880606923</td></tr><tr><td>346</td><td>&quot;Jackie Brown (1997)&quot;</td><td>&quot;01-Jan-1997&quot;</td><td>166</td><td>1</td><td>886397596</td></tr></tbody></table></div>"
      ],
      "text/plain": [
       "shape: (5, 6)\n",
       "┌──────────┬────────────────────────────┬─────────────┬─────────┬────────┬───────────┐\n",
       "│ movie_id ┆ title                      ┆ date        ┆ user_id ┆ rating ┆ timestamp │\n",
       "│ ---      ┆ ---                        ┆ ---         ┆ ---     ┆ ---    ┆ ---       │\n",
       "│ i64      ┆ str                        ┆ str         ┆ i64     ┆ i64    ┆ i64       │\n",
       "╞══════════╪════════════════════════════╪═════════════╪═════════╪════════╪═══════════╡\n",
       "│ 242      ┆ Kolya (1996)               ┆ 24-Jan-1997 ┆ 196     ┆ 3      ┆ 881250949 │\n",
       "│ 302      ┆ L.A. Confidential (1997)   ┆ 01-Jan-1997 ┆ 186     ┆ 3      ┆ 891717742 │\n",
       "│ 377      ┆ Heavyweights (1994)        ┆ 01-Jan-1994 ┆ 22      ┆ 1      ┆ 878887116 │\n",
       "│ 51       ┆ Legends of the Fall (1994) ┆ 01-Jan-1994 ┆ 244     ┆ 2      ┆ 880606923 │\n",
       "│ 346      ┆ Jackie Brown (1997)        ┆ 01-Jan-1997 ┆ 166     ┆ 1      ┆ 886397596 │\n",
       "└──────────┴────────────────────────────┴─────────────┴─────────┴────────┴───────────┘"
      ]
     },
     "execution_count": 58,
     "metadata": {},
     "output_type": "execute_result"
    }
   ],
   "source": [
    "# Returns rows that have matching values in both tables\n",
    "movies.join(ratings, on=\"movie_id\").head()"
   ]
  },
  {
   "cell_type": "code",
   "execution_count": 59,
   "metadata": {},
   "outputs": [
    {
     "data": {
      "text/html": [
       "<div><style>\n",
       ".dataframe > thead > tr,\n",
       ".dataframe > tbody > tr {\n",
       "  text-align: right;\n",
       "  white-space: pre-wrap;\n",
       "}\n",
       "</style>\n",
       "<small>shape: (5, 6)</small><table border=\"1\" class=\"dataframe\"><thead><tr><th>movie_id</th><th>title</th><th>date</th><th>user_id</th><th>rating</th><th>timestamp</th></tr><tr><td>i64</td><td>str</td><td>str</td><td>i64</td><td>i64</td><td>i64</td></tr></thead><tbody><tr><td>1</td><td>&quot;Toy Story (1995)&quot;</td><td>&quot;01-Jan-1995&quot;</td><td>308</td><td>4</td><td>887736532</td></tr><tr><td>1</td><td>&quot;Toy Story (1995)&quot;</td><td>&quot;01-Jan-1995&quot;</td><td>287</td><td>5</td><td>875334088</td></tr><tr><td>1</td><td>&quot;Toy Story (1995)&quot;</td><td>&quot;01-Jan-1995&quot;</td><td>148</td><td>4</td><td>877019411</td></tr><tr><td>1</td><td>&quot;Toy Story (1995)&quot;</td><td>&quot;01-Jan-1995&quot;</td><td>280</td><td>4</td><td>891700426</td></tr><tr><td>1</td><td>&quot;Toy Story (1995)&quot;</td><td>&quot;01-Jan-1995&quot;</td><td>66</td><td>3</td><td>883601324</td></tr></tbody></table></div>"
      ],
      "text/plain": [
       "shape: (5, 6)\n",
       "┌──────────┬──────────────────┬─────────────┬─────────┬────────┬───────────┐\n",
       "│ movie_id ┆ title            ┆ date        ┆ user_id ┆ rating ┆ timestamp │\n",
       "│ ---      ┆ ---              ┆ ---         ┆ ---     ┆ ---    ┆ ---       │\n",
       "│ i64      ┆ str              ┆ str         ┆ i64     ┆ i64    ┆ i64       │\n",
       "╞══════════╪══════════════════╪═════════════╪═════════╪════════╪═══════════╡\n",
       "│ 1        ┆ Toy Story (1995) ┆ 01-Jan-1995 ┆ 308     ┆ 4      ┆ 887736532 │\n",
       "│ 1        ┆ Toy Story (1995) ┆ 01-Jan-1995 ┆ 287     ┆ 5      ┆ 875334088 │\n",
       "│ 1        ┆ Toy Story (1995) ┆ 01-Jan-1995 ┆ 148     ┆ 4      ┆ 877019411 │\n",
       "│ 1        ┆ Toy Story (1995) ┆ 01-Jan-1995 ┆ 280     ┆ 4      ┆ 891700426 │\n",
       "│ 1        ┆ Toy Story (1995) ┆ 01-Jan-1995 ┆ 66      ┆ 3      ┆ 883601324 │\n",
       "└──────────┴──────────────────┴─────────────┴─────────┴────────┴───────────┘"
      ]
     },
     "execution_count": 59,
     "metadata": {},
     "output_type": "execute_result"
    }
   ],
   "source": [
    "# Returns all rows from the left table, and the matched rows from the right table\n",
    "movies.join(ratings, on=\"movie_id\", how=\"left\").head()"
   ]
  },
  {
   "cell_type": "code",
   "execution_count": 60,
   "metadata": {},
   "outputs": [
    {
     "data": {
      "text/html": [
       "<div><style>\n",
       ".dataframe > thead > tr,\n",
       ".dataframe > tbody > tr {\n",
       "  text-align: right;\n",
       "  white-space: pre-wrap;\n",
       "}\n",
       "</style>\n",
       "<small>shape: (5, 6)</small><table border=\"1\" class=\"dataframe\"><thead><tr><th>title</th><th>date</th><th>user_id</th><th>movie_id</th><th>rating</th><th>timestamp</th></tr><tr><td>str</td><td>str</td><td>i64</td><td>i64</td><td>i64</td><td>i64</td></tr></thead><tbody><tr><td>&quot;Kolya (1996)&quot;</td><td>&quot;24-Jan-1997&quot;</td><td>196</td><td>242</td><td>3</td><td>881250949</td></tr><tr><td>&quot;L.A. Confidential (1997)&quot;</td><td>&quot;01-Jan-1997&quot;</td><td>186</td><td>302</td><td>3</td><td>891717742</td></tr><tr><td>&quot;Heavyweights (1994)&quot;</td><td>&quot;01-Jan-1994&quot;</td><td>22</td><td>377</td><td>1</td><td>878887116</td></tr><tr><td>&quot;Legends of the Fall (1994)&quot;</td><td>&quot;01-Jan-1994&quot;</td><td>244</td><td>51</td><td>2</td><td>880606923</td></tr><tr><td>&quot;Jackie Brown (1997)&quot;</td><td>&quot;01-Jan-1997&quot;</td><td>166</td><td>346</td><td>1</td><td>886397596</td></tr></tbody></table></div>"
      ],
      "text/plain": [
       "shape: (5, 6)\n",
       "┌────────────────────────────┬─────────────┬─────────┬──────────┬────────┬───────────┐\n",
       "│ title                      ┆ date        ┆ user_id ┆ movie_id ┆ rating ┆ timestamp │\n",
       "│ ---                        ┆ ---         ┆ ---     ┆ ---      ┆ ---    ┆ ---       │\n",
       "│ str                        ┆ str         ┆ i64     ┆ i64      ┆ i64    ┆ i64       │\n",
       "╞════════════════════════════╪═════════════╪═════════╪══════════╪════════╪═══════════╡\n",
       "│ Kolya (1996)               ┆ 24-Jan-1997 ┆ 196     ┆ 242      ┆ 3      ┆ 881250949 │\n",
       "│ L.A. Confidential (1997)   ┆ 01-Jan-1997 ┆ 186     ┆ 302      ┆ 3      ┆ 891717742 │\n",
       "│ Heavyweights (1994)        ┆ 01-Jan-1994 ┆ 22      ┆ 377      ┆ 1      ┆ 878887116 │\n",
       "│ Legends of the Fall (1994) ┆ 01-Jan-1994 ┆ 244     ┆ 51       ┆ 2      ┆ 880606923 │\n",
       "│ Jackie Brown (1997)        ┆ 01-Jan-1997 ┆ 166     ┆ 346      ┆ 1      ┆ 886397596 │\n",
       "└────────────────────────────┴─────────────┴─────────┴──────────┴────────┴───────────┘"
      ]
     },
     "execution_count": 60,
     "metadata": {},
     "output_type": "execute_result"
    }
   ],
   "source": [
    "# Returns all rows from the right table, and the matched rows from the left table\n",
    "movies.join(ratings, on=\"movie_id\", how=\"right\").head()"
   ]
  },
  {
   "cell_type": "code",
   "execution_count": 61,
   "metadata": {},
   "outputs": [
    {
     "data": {
      "text/html": [
       "<div><style>\n",
       ".dataframe > thead > tr,\n",
       ".dataframe > tbody > tr {\n",
       "  text-align: right;\n",
       "  white-space: pre-wrap;\n",
       "}\n",
       "</style>\n",
       "<small>shape: (5, 7)</small><table border=\"1\" class=\"dataframe\"><thead><tr><th>movie_id</th><th>title</th><th>date</th><th>user_id</th><th>movie_id_right</th><th>rating</th><th>timestamp</th></tr><tr><td>i64</td><td>str</td><td>str</td><td>i64</td><td>i64</td><td>i64</td><td>i64</td></tr></thead><tbody><tr><td>242</td><td>&quot;Kolya (1996)&quot;</td><td>&quot;24-Jan-1997&quot;</td><td>196</td><td>242</td><td>3</td><td>881250949</td></tr><tr><td>302</td><td>&quot;L.A. Confidential (1997)&quot;</td><td>&quot;01-Jan-1997&quot;</td><td>186</td><td>302</td><td>3</td><td>891717742</td></tr><tr><td>377</td><td>&quot;Heavyweights (1994)&quot;</td><td>&quot;01-Jan-1994&quot;</td><td>22</td><td>377</td><td>1</td><td>878887116</td></tr><tr><td>51</td><td>&quot;Legends of the Fall (1994)&quot;</td><td>&quot;01-Jan-1994&quot;</td><td>244</td><td>51</td><td>2</td><td>880606923</td></tr><tr><td>346</td><td>&quot;Jackie Brown (1997)&quot;</td><td>&quot;01-Jan-1997&quot;</td><td>166</td><td>346</td><td>1</td><td>886397596</td></tr></tbody></table></div>"
      ],
      "text/plain": [
       "shape: (5, 7)\n",
       "┌──────────┬─────────────────────┬─────────────┬─────────┬────────────────┬────────┬───────────┐\n",
       "│ movie_id ┆ title               ┆ date        ┆ user_id ┆ movie_id_right ┆ rating ┆ timestamp │\n",
       "│ ---      ┆ ---                 ┆ ---         ┆ ---     ┆ ---            ┆ ---    ┆ ---       │\n",
       "│ i64      ┆ str                 ┆ str         ┆ i64     ┆ i64            ┆ i64    ┆ i64       │\n",
       "╞══════════╪═════════════════════╪═════════════╪═════════╪════════════════╪════════╪═══════════╡\n",
       "│ 242      ┆ Kolya (1996)        ┆ 24-Jan-1997 ┆ 196     ┆ 242            ┆ 3      ┆ 881250949 │\n",
       "│ 302      ┆ L.A. Confidential   ┆ 01-Jan-1997 ┆ 186     ┆ 302            ┆ 3      ┆ 891717742 │\n",
       "│          ┆ (1997)              ┆             ┆         ┆                ┆        ┆           │\n",
       "│ 377      ┆ Heavyweights (1994) ┆ 01-Jan-1994 ┆ 22      ┆ 377            ┆ 1      ┆ 878887116 │\n",
       "│ 51       ┆ Legends of the Fall ┆ 01-Jan-1994 ┆ 244     ┆ 51             ┆ 2      ┆ 880606923 │\n",
       "│          ┆ (1994)              ┆             ┆         ┆                ┆        ┆           │\n",
       "│ 346      ┆ Jackie Brown (1997) ┆ 01-Jan-1997 ┆ 166     ┆ 346            ┆ 1      ┆ 886397596 │\n",
       "└──────────┴─────────────────────┴─────────────┴─────────┴────────────────┴────────┴───────────┘"
      ]
     },
     "execution_count": 61,
     "metadata": {},
     "output_type": "execute_result"
    }
   ],
   "source": [
    "# Returns all rows when there is a match in either left or right table\n",
    "movies.join(ratings, on=\"movie_id\", how=\"full\").head()"
   ]
  },
  {
   "cell_type": "code",
   "execution_count": 62,
   "metadata": {},
   "outputs": [
    {
     "data": {
      "text/html": [
       "<div><style>\n",
       ".dataframe > thead > tr,\n",
       ".dataframe > tbody > tr {\n",
       "  text-align: right;\n",
       "  white-space: pre-wrap;\n",
       "}\n",
       "</style>\n",
       "<small>shape: (5, 6)</small><table border=\"1\" class=\"dataframe\"><thead><tr><th>movie_id</th><th>title</th><th>date</th><th>user_id</th><th>rating</th><th>timestamp</th></tr><tr><td>i64</td><td>str</td><td>str</td><td>i64</td><td>i64</td><td>i64</td></tr></thead><tbody><tr><td>242</td><td>&quot;Kolya (1996)&quot;</td><td>&quot;24-Jan-1997&quot;</td><td>196</td><td>3</td><td>881250949</td></tr><tr><td>302</td><td>&quot;L.A. Confidential (1997)&quot;</td><td>&quot;01-Jan-1997&quot;</td><td>186</td><td>3</td><td>891717742</td></tr><tr><td>377</td><td>&quot;Heavyweights (1994)&quot;</td><td>&quot;01-Jan-1994&quot;</td><td>22</td><td>1</td><td>878887116</td></tr><tr><td>51</td><td>&quot;Legends of the Fall (1994)&quot;</td><td>&quot;01-Jan-1994&quot;</td><td>244</td><td>2</td><td>880606923</td></tr><tr><td>346</td><td>&quot;Jackie Brown (1997)&quot;</td><td>&quot;01-Jan-1997&quot;</td><td>166</td><td>1</td><td>886397596</td></tr></tbody></table></div>"
      ],
      "text/plain": [
       "shape: (5, 6)\n",
       "┌──────────┬────────────────────────────┬─────────────┬─────────┬────────┬───────────┐\n",
       "│ movie_id ┆ title                      ┆ date        ┆ user_id ┆ rating ┆ timestamp │\n",
       "│ ---      ┆ ---                        ┆ ---         ┆ ---     ┆ ---    ┆ ---       │\n",
       "│ i64      ┆ str                        ┆ str         ┆ i64     ┆ i64    ┆ i64       │\n",
       "╞══════════╪════════════════════════════╪═════════════╪═════════╪════════╪═══════════╡\n",
       "│ 242      ┆ Kolya (1996)               ┆ 24-Jan-1997 ┆ 196     ┆ 3      ┆ 881250949 │\n",
       "│ 302      ┆ L.A. Confidential (1997)   ┆ 01-Jan-1997 ┆ 186     ┆ 3      ┆ 891717742 │\n",
       "│ 377      ┆ Heavyweights (1994)        ┆ 01-Jan-1994 ┆ 22      ┆ 1      ┆ 878887116 │\n",
       "│ 51       ┆ Legends of the Fall (1994) ┆ 01-Jan-1994 ┆ 244     ┆ 2      ┆ 880606923 │\n",
       "│ 346      ┆ Jackie Brown (1997)        ┆ 01-Jan-1997 ┆ 166     ┆ 1      ┆ 886397596 │\n",
       "└──────────┴────────────────────────────┴─────────────┴─────────┴────────┴───────────┘"
      ]
     },
     "execution_count": 62,
     "metadata": {},
     "output_type": "execute_result"
    }
   ],
   "source": [
    "# equals to inner join\n",
    "movies.join(ratings, left_on=\"movie_id\", right_on=\"movie_id\").head()"
   ]
  },
  {
   "attachments": {},
   "cell_type": "markdown",
   "metadata": {},
   "source": [
    "### MultiIndexes"
   ]
  },
  {
   "cell_type": "code",
   "execution_count": 63,
   "metadata": {},
   "outputs": [],
   "source": [
    "# close = pl.read_csv(\n",
    "#     \"data/stocks.csv\", usecols=[0, 1, 3], index_col=[\"Symbol\", \"Date\"]\n",
    "# ).sort_index()\n",
    "# close"
   ]
  },
  {
   "cell_type": "code",
   "execution_count": 64,
   "metadata": {},
   "outputs": [],
   "source": [
    "# volume = pl.read_csv(\n",
    "#     \"data/stocks.csv\", usecols=[0, 2, 3], index_col=[\"Symbol\", \"Date\"]\n",
    "# ).sort_index()\n",
    "# volume"
   ]
  },
  {
   "attachments": {},
   "cell_type": "markdown",
   "metadata": {},
   "source": [
    "### Explode\n"
   ]
  },
  {
   "cell_type": "code",
   "execution_count": 65,
   "metadata": {},
   "outputs": [
    {
     "data": {
      "text/html": [
       "<div><style>\n",
       ".dataframe > thead > tr,\n",
       ".dataframe > tbody > tr {\n",
       "  text-align: right;\n",
       "  white-space: pre-wrap;\n",
       "}\n",
       "</style>\n",
       "<small>shape: (5, 5)</small><table border=\"1\" class=\"dataframe\"><thead><tr><th>order_id</th><th>quantity</th><th>item_name</th><th>choice_description</th><th>item_price</th></tr><tr><td>i64</td><td>i64</td><td>str</td><td>str</td><td>str</td></tr></thead><tbody><tr><td>1</td><td>1</td><td>&quot;Chips and Fresh Tomato Salsa&quot;</td><td>&quot;NULL&quot;</td><td>&quot;$2.39&quot;</td></tr><tr><td>1</td><td>1</td><td>&quot;Izze&quot;</td><td>&quot;[Clementine]&quot;</td><td>&quot;$3.39&quot;</td></tr><tr><td>1</td><td>1</td><td>&quot;Nantucket Nectar&quot;</td><td>&quot;[Apple]&quot;</td><td>&quot;$3.39&quot;</td></tr><tr><td>1</td><td>1</td><td>&quot;Chips and Tomatillo-Green Chil…</td><td>&quot;NULL&quot;</td><td>&quot;$2.39&quot;</td></tr><tr><td>2</td><td>2</td><td>&quot;Chicken Bowl&quot;</td><td>&quot;[Tomatillo-Red Chili Salsa (Ho…</td><td>&quot;$16.98&quot;</td></tr></tbody></table></div>"
      ],
      "text/plain": [
       "shape: (5, 5)\n",
       "┌──────────┬──────────┬──────────────────────────────────┬────────────────────────────┬────────────┐\n",
       "│ order_id ┆ quantity ┆ item_name                        ┆ choice_description         ┆ item_price │\n",
       "│ ---      ┆ ---      ┆ ---                              ┆ ---                        ┆ ---        │\n",
       "│ i64      ┆ i64      ┆ str                              ┆ str                        ┆ str        │\n",
       "╞══════════╪══════════╪══════════════════════════════════╪════════════════════════════╪════════════╡\n",
       "│ 1        ┆ 1        ┆ Chips and Fresh Tomato Salsa     ┆ NULL                       ┆ $2.39      │\n",
       "│ 1        ┆ 1        ┆ Izze                             ┆ [Clementine]               ┆ $3.39      │\n",
       "│ 1        ┆ 1        ┆ Nantucket Nectar                 ┆ [Apple]                    ┆ $3.39      │\n",
       "│ 1        ┆ 1        ┆ Chips and Tomatillo-Green Chil…  ┆ NULL                       ┆ $2.39      │\n",
       "│ 2        ┆ 2        ┆ Chicken Bowl                     ┆ [Tomatillo-Red Chili Salsa ┆ $16.98     │\n",
       "│          ┆          ┆                                  ┆ (Ho…                       ┆            │\n",
       "└──────────┴──────────┴──────────────────────────────────┴────────────────────────────┴────────────┘"
      ]
     },
     "execution_count": 65,
     "metadata": {},
     "output_type": "execute_result"
    }
   ],
   "source": [
    "orders = pl.read_csv(\"data/chipotle.tsv\", separator=\"\\t\")\n",
    "orders.head()"
   ]
  },
  {
   "cell_type": "code",
   "execution_count": 66,
   "metadata": {},
   "outputs": [
    {
     "data": {
      "text/html": [
       "<div><style>\n",
       ".dataframe > thead > tr,\n",
       ".dataframe > tbody > tr {\n",
       "  text-align: right;\n",
       "  white-space: pre-wrap;\n",
       "}\n",
       "</style>\n",
       "<small>shape: (5, 5)</small><table border=\"1\" class=\"dataframe\"><thead><tr><th>order_id</th><th>quantity</th><th>item_name</th><th>choice_description</th><th>item_price</th></tr><tr><td>i64</td><td>i64</td><td>list[str]</td><td>str</td><td>str</td></tr></thead><tbody><tr><td>1</td><td>1</td><td>[&quot;Chips&quot;, &quot;and&quot;, … &quot;Salsa&quot;]</td><td>&quot;NULL&quot;</td><td>&quot;$2.39&quot;</td></tr><tr><td>1</td><td>1</td><td>[&quot;Izze&quot;]</td><td>&quot;[Clementine]&quot;</td><td>&quot;$3.39&quot;</td></tr><tr><td>1</td><td>1</td><td>[&quot;Nantucket&quot;, &quot;Nectar&quot;]</td><td>&quot;[Apple]&quot;</td><td>&quot;$3.39&quot;</td></tr><tr><td>1</td><td>1</td><td>[&quot;Chips&quot;, &quot;and&quot;, … &quot;Salsa&quot;]</td><td>&quot;NULL&quot;</td><td>&quot;$2.39&quot;</td></tr><tr><td>2</td><td>2</td><td>[&quot;Chicken&quot;, &quot;Bowl&quot;]</td><td>&quot;[Tomatillo-Red Chili Salsa (Ho…</td><td>&quot;$16.98&quot;</td></tr></tbody></table></div>"
      ],
      "text/plain": [
       "shape: (5, 5)\n",
       "┌──────────┬──────────┬─────────────────────────────┬─────────────────────────────────┬────────────┐\n",
       "│ order_id ┆ quantity ┆ item_name                   ┆ choice_description              ┆ item_price │\n",
       "│ ---      ┆ ---      ┆ ---                         ┆ ---                             ┆ ---        │\n",
       "│ i64      ┆ i64      ┆ list[str]                   ┆ str                             ┆ str        │\n",
       "╞══════════╪══════════╪═════════════════════════════╪═════════════════════════════════╪════════════╡\n",
       "│ 1        ┆ 1        ┆ [\"Chips\", \"and\", … \"Salsa\"] ┆ NULL                            ┆ $2.39      │\n",
       "│ 1        ┆ 1        ┆ [\"Izze\"]                    ┆ [Clementine]                    ┆ $3.39      │\n",
       "│ 1        ┆ 1        ┆ [\"Nantucket\", \"Nectar\"]     ┆ [Apple]                         ┆ $3.39      │\n",
       "│ 1        ┆ 1        ┆ [\"Chips\", \"and\", … \"Salsa\"] ┆ NULL                            ┆ $2.39      │\n",
       "│ 2        ┆ 2        ┆ [\"Chicken\", \"Bowl\"]         ┆ [Tomatillo-Red Chili Salsa (Ho… ┆ $16.98     │\n",
       "└──────────┴──────────┴─────────────────────────────┴─────────────────────────────────┴────────────┘"
      ]
     },
     "execution_count": 66,
     "metadata": {},
     "output_type": "execute_result"
    }
   ],
   "source": [
    "orders2 = orders.with_columns(pl.col(\"item_name\").str.split(\" \"))\n",
    "orders2.head()"
   ]
  },
  {
   "cell_type": "code",
   "execution_count": 67,
   "metadata": {},
   "outputs": [
    {
     "data": {
      "text/html": [
       "<div><style>\n",
       ".dataframe > thead > tr,\n",
       ".dataframe > tbody > tr {\n",
       "  text-align: right;\n",
       "  white-space: pre-wrap;\n",
       "}\n",
       "</style>\n",
       "<small>shape: (11_501, 5)</small><table border=\"1\" class=\"dataframe\"><thead><tr><th>order_id</th><th>quantity</th><th>item_name</th><th>choice_description</th><th>item_price</th></tr><tr><td>i64</td><td>i64</td><td>str</td><td>str</td><td>str</td></tr></thead><tbody><tr><td>1</td><td>1</td><td>&quot;Chips&quot;</td><td>&quot;NULL&quot;</td><td>&quot;$2.39&quot;</td></tr><tr><td>1</td><td>1</td><td>&quot;and&quot;</td><td>&quot;NULL&quot;</td><td>&quot;$2.39&quot;</td></tr><tr><td>1</td><td>1</td><td>&quot;Fresh&quot;</td><td>&quot;NULL&quot;</td><td>&quot;$2.39&quot;</td></tr><tr><td>1</td><td>1</td><td>&quot;Tomato&quot;</td><td>&quot;NULL&quot;</td><td>&quot;$2.39&quot;</td></tr><tr><td>1</td><td>1</td><td>&quot;Salsa&quot;</td><td>&quot;NULL&quot;</td><td>&quot;$2.39&quot;</td></tr><tr><td>&hellip;</td><td>&hellip;</td><td>&hellip;</td><td>&hellip;</td><td>&hellip;</td></tr><tr><td>1834</td><td>1</td><td>&quot;Salad&quot;</td><td>&quot;[Fresh Tomato Salsa, [Fajita V…</td><td>&quot;$8.75&quot;</td></tr><tr><td>1834</td><td>1</td><td>&quot;Bowl&quot;</td><td>&quot;[Fresh Tomato Salsa, [Fajita V…</td><td>&quot;$8.75&quot;</td></tr><tr><td>1834</td><td>1</td><td>&quot;Chicken&quot;</td><td>&quot;[Fresh Tomato Salsa, [Fajita V…</td><td>&quot;$8.75&quot;</td></tr><tr><td>1834</td><td>1</td><td>&quot;Salad&quot;</td><td>&quot;[Fresh Tomato Salsa, [Fajita V…</td><td>&quot;$8.75&quot;</td></tr><tr><td>1834</td><td>1</td><td>&quot;Bowl&quot;</td><td>&quot;[Fresh Tomato Salsa, [Fajita V…</td><td>&quot;$8.75&quot;</td></tr></tbody></table></div>"
      ],
      "text/plain": [
       "shape: (11_501, 5)\n",
       "┌──────────┬──────────┬───────────┬─────────────────────────────────┬────────────┐\n",
       "│ order_id ┆ quantity ┆ item_name ┆ choice_description              ┆ item_price │\n",
       "│ ---      ┆ ---      ┆ ---       ┆ ---                             ┆ ---        │\n",
       "│ i64      ┆ i64      ┆ str       ┆ str                             ┆ str        │\n",
       "╞══════════╪══════════╪═══════════╪═════════════════════════════════╪════════════╡\n",
       "│ 1        ┆ 1        ┆ Chips     ┆ NULL                            ┆ $2.39      │\n",
       "│ 1        ┆ 1        ┆ and       ┆ NULL                            ┆ $2.39      │\n",
       "│ 1        ┆ 1        ┆ Fresh     ┆ NULL                            ┆ $2.39      │\n",
       "│ 1        ┆ 1        ┆ Tomato    ┆ NULL                            ┆ $2.39      │\n",
       "│ 1        ┆ 1        ┆ Salsa     ┆ NULL                            ┆ $2.39      │\n",
       "│ …        ┆ …        ┆ …         ┆ …                               ┆ …          │\n",
       "│ 1834     ┆ 1        ┆ Salad     ┆ [Fresh Tomato Salsa, [Fajita V… ┆ $8.75      │\n",
       "│ 1834     ┆ 1        ┆ Bowl      ┆ [Fresh Tomato Salsa, [Fajita V… ┆ $8.75      │\n",
       "│ 1834     ┆ 1        ┆ Chicken   ┆ [Fresh Tomato Salsa, [Fajita V… ┆ $8.75      │\n",
       "│ 1834     ┆ 1        ┆ Salad     ┆ [Fresh Tomato Salsa, [Fajita V… ┆ $8.75      │\n",
       "│ 1834     ┆ 1        ┆ Bowl      ┆ [Fresh Tomato Salsa, [Fajita V… ┆ $8.75      │\n",
       "└──────────┴──────────┴───────────┴─────────────────────────────────┴────────────┘"
      ]
     },
     "execution_count": 67,
     "metadata": {},
     "output_type": "execute_result"
    }
   ],
   "source": [
    "orders2.explode(\"item_name\")"
   ]
  }
 ],
 "metadata": {
  "kernelspec": {
   "display_name": "base",
   "language": "python",
   "name": "python3"
  },
  "language_info": {
   "codemirror_mode": {
    "name": "ipython",
    "version": 3
   },
   "file_extension": ".py",
   "mimetype": "text/x-python",
   "name": "python",
   "nbconvert_exporter": "python",
   "pygments_lexer": "ipython3",
   "version": "3.12.11"
  },
  "orig_nbformat": 4
 },
 "nbformat": 4,
 "nbformat_minor": 2
}
