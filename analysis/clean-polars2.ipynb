{
 "cells": [
  {
   "attachments": {},
   "cell_type": "markdown",
   "metadata": {},
   "source": [
    "# 清洗和预处理"
   ]
  },
  {
   "cell_type": "code",
   "execution_count": 1,
   "metadata": {
    "tags": []
   },
   "outputs": [],
   "source": [
    "import polars as pl"
   ]
  },
  {
   "attachments": {},
   "cell_type": "markdown",
   "metadata": {},
   "source": [
    "## Explore\n"
   ]
  },
  {
   "cell_type": "code",
   "execution_count": 2,
   "metadata": {},
   "outputs": [
    {
     "data": {
      "text/html": [
       "<div><style>\n",
       ".dataframe > thead > tr,\n",
       ".dataframe > tbody > tr {\n",
       "  text-align: right;\n",
       "  white-space: pre-wrap;\n",
       "}\n",
       "</style>\n",
       "<small>shape: (5, 6)</small><table border=\"1\" class=\"dataframe\"><thead><tr><th>country</th><th>beer_servings</th><th>spirit_servings</th><th>wine_servings</th><th>total_litres_of_pure_alcohol</th><th>continent</th></tr><tr><td>str</td><td>i64</td><td>i64</td><td>i64</td><td>f64</td><td>str</td></tr></thead><tbody><tr><td>&quot;Afghanistan&quot;</td><td>0</td><td>0</td><td>0</td><td>0.0</td><td>&quot;Asia&quot;</td></tr><tr><td>&quot;Albania&quot;</td><td>89</td><td>132</td><td>54</td><td>4.9</td><td>&quot;Europe&quot;</td></tr><tr><td>&quot;Algeria&quot;</td><td>25</td><td>0</td><td>14</td><td>0.7</td><td>&quot;Africa&quot;</td></tr><tr><td>&quot;Andorra&quot;</td><td>245</td><td>138</td><td>312</td><td>12.4</td><td>&quot;Europe&quot;</td></tr><tr><td>&quot;Angola&quot;</td><td>217</td><td>57</td><td>45</td><td>5.9</td><td>&quot;Africa&quot;</td></tr></tbody></table></div>"
      ],
      "text/plain": [
       "shape: (5, 6)\n",
       "┌─────────────┬───────────────┬─────────────────┬───────────────┬──────────────────────┬───────────┐\n",
       "│ country     ┆ beer_servings ┆ spirit_servings ┆ wine_servings ┆ total_litres_of_pure ┆ continent │\n",
       "│ ---         ┆ ---           ┆ ---             ┆ ---           ┆ _alcohol             ┆ ---       │\n",
       "│ str         ┆ i64           ┆ i64             ┆ i64           ┆ ---                  ┆ str       │\n",
       "│             ┆               ┆                 ┆               ┆ f64                  ┆           │\n",
       "╞═════════════╪═══════════════╪═════════════════╪═══════════════╪══════════════════════╪═══════════╡\n",
       "│ Afghanistan ┆ 0             ┆ 0               ┆ 0             ┆ 0.0                  ┆ Asia      │\n",
       "│ Albania     ┆ 89            ┆ 132             ┆ 54            ┆ 4.9                  ┆ Europe    │\n",
       "│ Algeria     ┆ 25            ┆ 0               ┆ 14            ┆ 0.7                  ┆ Africa    │\n",
       "│ Andorra     ┆ 245           ┆ 138             ┆ 312           ┆ 12.4                 ┆ Europe    │\n",
       "│ Angola      ┆ 217           ┆ 57              ┆ 45            ┆ 5.9                  ┆ Africa    │\n",
       "└─────────────┴───────────────┴─────────────────┴───────────────┴──────────────────────┴───────────┘"
      ]
     },
     "execution_count": 2,
     "metadata": {},
     "output_type": "execute_result"
    }
   ],
   "source": [
    "drinks = pl.read_csv(\"data/drinks.csv\")\n",
    "drinks.head()"
   ]
  },
  {
   "attachments": {},
   "cell_type": "markdown",
   "metadata": {},
   "source": [
    "### Max & Min\n"
   ]
  },
  {
   "cell_type": "code",
   "execution_count": 3,
   "metadata": {},
   "outputs": [
    {
     "data": {
      "text/html": [
       "<div><style>\n",
       ".dataframe > thead > tr,\n",
       ".dataframe > tbody > tr {\n",
       "  text-align: right;\n",
       "  white-space: pre-wrap;\n",
       "}\n",
       "</style>\n",
       "<small>shape: (10, 6)</small><table border=\"1\" class=\"dataframe\"><thead><tr><th>country</th><th>beer_servings</th><th>spirit_servings</th><th>wine_servings</th><th>total_litres_of_pure_alcohol</th><th>continent</th></tr><tr><td>str</td><td>i64</td><td>i64</td><td>i64</td><td>f64</td><td>str</td></tr></thead><tbody><tr><td>&quot;Namibia&quot;</td><td>376</td><td>3</td><td>1</td><td>6.8</td><td>&quot;Africa&quot;</td></tr><tr><td>&quot;Czech Republic&quot;</td><td>361</td><td>170</td><td>134</td><td>11.8</td><td>&quot;Europe&quot;</td></tr><tr><td>&quot;Gabon&quot;</td><td>347</td><td>98</td><td>59</td><td>8.9</td><td>&quot;Africa&quot;</td></tr><tr><td>&quot;Germany&quot;</td><td>346</td><td>117</td><td>175</td><td>11.3</td><td>&quot;Europe&quot;</td></tr><tr><td>&quot;Poland&quot;</td><td>343</td><td>215</td><td>56</td><td>10.9</td><td>&quot;Europe&quot;</td></tr><tr><td>&quot;Lithuania&quot;</td><td>343</td><td>244</td><td>56</td><td>12.9</td><td>&quot;Europe&quot;</td></tr><tr><td>&quot;Venezuela&quot;</td><td>333</td><td>100</td><td>3</td><td>7.7</td><td>&quot;South America&quot;</td></tr><tr><td>&quot;Ireland&quot;</td><td>313</td><td>118</td><td>165</td><td>11.4</td><td>&quot;Europe&quot;</td></tr><tr><td>&quot;Palau&quot;</td><td>306</td><td>63</td><td>23</td><td>6.9</td><td>&quot;Oceania&quot;</td></tr><tr><td>&quot;Romania&quot;</td><td>297</td><td>122</td><td>167</td><td>10.4</td><td>&quot;Europe&quot;</td></tr></tbody></table></div>"
      ],
      "text/plain": [
       "shape: (10, 6)\n",
       "┌────────────────┬───────────────┬────────────────┬───────────────┬────────────────┬───────────────┐\n",
       "│ country        ┆ beer_servings ┆ spirit_serving ┆ wine_servings ┆ total_litres_o ┆ continent     │\n",
       "│ ---            ┆ ---           ┆ s              ┆ ---           ┆ f_pure_alcohol ┆ ---           │\n",
       "│ str            ┆ i64           ┆ ---            ┆ i64           ┆ ---            ┆ str           │\n",
       "│                ┆               ┆ i64            ┆               ┆ f64            ┆               │\n",
       "╞════════════════╪═══════════════╪════════════════╪═══════════════╪════════════════╪═══════════════╡\n",
       "│ Namibia        ┆ 376           ┆ 3              ┆ 1             ┆ 6.8            ┆ Africa        │\n",
       "│ Czech Republic ┆ 361           ┆ 170            ┆ 134           ┆ 11.8           ┆ Europe        │\n",
       "│ Gabon          ┆ 347           ┆ 98             ┆ 59            ┆ 8.9            ┆ Africa        │\n",
       "│ Germany        ┆ 346           ┆ 117            ┆ 175           ┆ 11.3           ┆ Europe        │\n",
       "│ Poland         ┆ 343           ┆ 215            ┆ 56            ┆ 10.9           ┆ Europe        │\n",
       "│ Lithuania      ┆ 343           ┆ 244            ┆ 56            ┆ 12.9           ┆ Europe        │\n",
       "│ Venezuela      ┆ 333           ┆ 100            ┆ 3             ┆ 7.7            ┆ South America │\n",
       "│ Ireland        ┆ 313           ┆ 118            ┆ 165           ┆ 11.4           ┆ Europe        │\n",
       "│ Palau          ┆ 306           ┆ 63             ┆ 23            ┆ 6.9            ┆ Oceania       │\n",
       "│ Romania        ┆ 297           ┆ 122            ┆ 167           ┆ 10.4           ┆ Europe        │\n",
       "└────────────────┴───────────────┴────────────────┴───────────────┴────────────────┴───────────────┘"
      ]
     },
     "execution_count": 3,
     "metadata": {},
     "output_type": "execute_result"
    }
   ],
   "source": [
    "drinks.top_k(10, by=\"beer_servings\")"
   ]
  },
  {
   "cell_type": "code",
   "execution_count": 4,
   "metadata": {},
   "outputs": [
    {
     "data": {
      "text/html": [
       "<div><style>\n",
       ".dataframe > thead > tr,\n",
       ".dataframe > tbody > tr {\n",
       "  text-align: right;\n",
       "  white-space: pre-wrap;\n",
       "}\n",
       "</style>\n",
       "<small>shape: (10,)</small><table border=\"1\" class=\"dataframe\"><thead><tr><th>beer_servings</th></tr><tr><td>i64</td></tr></thead><tbody><tr><td>343</td></tr><tr><td>361</td></tr><tr><td>347</td></tr><tr><td>346</td></tr><tr><td>343</td></tr><tr><td>376</td></tr><tr><td>333</td></tr><tr><td>313</td></tr><tr><td>306</td></tr><tr><td>297</td></tr></tbody></table></div>"
      ],
      "text/plain": [
       "shape: (10,)\n",
       "Series: 'beer_servings' [i64]\n",
       "[\n",
       "\t343\n",
       "\t361\n",
       "\t347\n",
       "\t346\n",
       "\t343\n",
       "\t376\n",
       "\t333\n",
       "\t313\n",
       "\t306\n",
       "\t297\n",
       "]"
      ]
     },
     "execution_count": 4,
     "metadata": {},
     "output_type": "execute_result"
    }
   ],
   "source": [
    "drinks[\"beer_servings\"].top_k(10)"
   ]
  },
  {
   "attachments": {},
   "cell_type": "markdown",
   "metadata": {},
   "source": [
    "### Count\n"
   ]
  },
  {
   "cell_type": "code",
   "execution_count": 5,
   "metadata": {},
   "outputs": [
    {
     "data": {
      "text/html": [
       "<div><style>\n",
       ".dataframe > thead > tr,\n",
       ".dataframe > tbody > tr {\n",
       "  text-align: right;\n",
       "  white-space: pre-wrap;\n",
       "}\n",
       "</style>\n",
       "<small>shape: (6, 2)</small><table border=\"1\" class=\"dataframe\"><thead><tr><th>continent</th><th>count</th></tr><tr><td>str</td><td>u32</td></tr></thead><tbody><tr><td>&quot;South America&quot;</td><td>12</td></tr><tr><td>&quot;Africa&quot;</td><td>53</td></tr><tr><td>&quot;Asia&quot;</td><td>44</td></tr><tr><td>&quot;Europe&quot;</td><td>45</td></tr><tr><td>&quot;North America&quot;</td><td>23</td></tr><tr><td>&quot;Oceania&quot;</td><td>16</td></tr></tbody></table></div>"
      ],
      "text/plain": [
       "shape: (6, 2)\n",
       "┌───────────────┬───────┐\n",
       "│ continent     ┆ count │\n",
       "│ ---           ┆ ---   │\n",
       "│ str           ┆ u32   │\n",
       "╞═══════════════╪═══════╡\n",
       "│ South America ┆ 12    │\n",
       "│ Africa        ┆ 53    │\n",
       "│ Asia          ┆ 44    │\n",
       "│ Europe        ┆ 45    │\n",
       "│ North America ┆ 23    │\n",
       "│ Oceania       ┆ 16    │\n",
       "└───────────────┴───────┘"
      ]
     },
     "execution_count": 5,
     "metadata": {},
     "output_type": "execute_result"
    }
   ],
   "source": [
    "drinks[\"continent\"].value_counts()"
   ]
  },
  {
   "cell_type": "code",
   "execution_count": 6,
   "metadata": {},
   "outputs": [
    {
     "data": {
      "text/html": [
       "<div><style>\n",
       ".dataframe > thead > tr,\n",
       ".dataframe > tbody > tr {\n",
       "  text-align: right;\n",
       "  white-space: pre-wrap;\n",
       "}\n",
       "</style>\n",
       "<small>shape: (6, 2)</small><table border=\"1\" class=\"dataframe\"><thead><tr><th>continent</th><th>proportion</th></tr><tr><td>str</td><td>f64</td></tr></thead><tbody><tr><td>&quot;Europe&quot;</td><td>0.233161</td></tr><tr><td>&quot;North America&quot;</td><td>0.119171</td></tr><tr><td>&quot;South America&quot;</td><td>0.062176</td></tr><tr><td>&quot;Oceania&quot;</td><td>0.082902</td></tr><tr><td>&quot;Asia&quot;</td><td>0.227979</td></tr><tr><td>&quot;Africa&quot;</td><td>0.274611</td></tr></tbody></table></div>"
      ],
      "text/plain": [
       "shape: (6, 2)\n",
       "┌───────────────┬────────────┐\n",
       "│ continent     ┆ proportion │\n",
       "│ ---           ┆ ---        │\n",
       "│ str           ┆ f64        │\n",
       "╞═══════════════╪════════════╡\n",
       "│ Europe        ┆ 0.233161   │\n",
       "│ North America ┆ 0.119171   │\n",
       "│ South America ┆ 0.062176   │\n",
       "│ Oceania       ┆ 0.082902   │\n",
       "│ Asia          ┆ 0.227979   │\n",
       "│ Africa        ┆ 0.274611   │\n",
       "└───────────────┴────────────┘"
      ]
     },
     "execution_count": 6,
     "metadata": {},
     "output_type": "execute_result"
    }
   ],
   "source": [
    "drinks[\"continent\"].value_counts(normalize=True)"
   ]
  },
  {
   "cell_type": "code",
   "execution_count": 7,
   "metadata": {},
   "outputs": [
    {
     "data": {
      "text/plain": [
       "['continent', 'count']"
      ]
     },
     "execution_count": 7,
     "metadata": {},
     "output_type": "execute_result"
    }
   ],
   "source": [
    "drinks[\"continent\"].value_counts().columns"
   ]
  },
  {
   "cell_type": "code",
   "execution_count": 8,
   "metadata": {},
   "outputs": [
    {
     "data": {
      "text/html": [
       "<div><style>\n",
       ".dataframe > thead > tr,\n",
       ".dataframe > tbody > tr {\n",
       "  text-align: right;\n",
       "  white-space: pre-wrap;\n",
       "}\n",
       "</style>\n",
       "<small>shape: (6, 2)</small><table border=\"1\" class=\"dataframe\"><thead><tr><th>continent</th><th>count</th></tr><tr><td>str</td><td>u32</td></tr></thead><tbody><tr><td>&quot;South America&quot;</td><td>12</td></tr><tr><td>&quot;Oceania&quot;</td><td>16</td></tr><tr><td>&quot;North America&quot;</td><td>23</td></tr><tr><td>&quot;Asia&quot;</td><td>44</td></tr><tr><td>&quot;Europe&quot;</td><td>45</td></tr><tr><td>&quot;Africa&quot;</td><td>53</td></tr></tbody></table></div>"
      ],
      "text/plain": [
       "shape: (6, 2)\n",
       "┌───────────────┬───────┐\n",
       "│ continent     ┆ count │\n",
       "│ ---           ┆ ---   │\n",
       "│ str           ┆ u32   │\n",
       "╞═══════════════╪═══════╡\n",
       "│ South America ┆ 12    │\n",
       "│ Oceania       ┆ 16    │\n",
       "│ North America ┆ 23    │\n",
       "│ Asia          ┆ 44    │\n",
       "│ Europe        ┆ 45    │\n",
       "│ Africa        ┆ 53    │\n",
       "└───────────────┴───────┘"
      ]
     },
     "execution_count": 8,
     "metadata": {},
     "output_type": "execute_result"
    }
   ],
   "source": [
    "# any Series can be sorted by its values\n",
    "drinks[\"continent\"].value_counts().sort(by=\"count\")"
   ]
  },
  {
   "cell_type": "code",
   "execution_count": 9,
   "metadata": {},
   "outputs": [
    {
     "data": {
      "text/html": [
       "<div><style>\n",
       ".dataframe > thead > tr,\n",
       ".dataframe > tbody > tr {\n",
       "  text-align: right;\n",
       "  white-space: pre-wrap;\n",
       "}\n",
       "</style>\n",
       "<small>shape: (6,)</small><table border=\"1\" class=\"dataframe\"><thead><tr><th>continent</th></tr><tr><td>str</td></tr></thead><tbody><tr><td>&quot;South America&quot;</td></tr><tr><td>&quot;Europe&quot;</td></tr><tr><td>&quot;Oceania&quot;</td></tr><tr><td>&quot;Asia&quot;</td></tr><tr><td>&quot;North America&quot;</td></tr><tr><td>&quot;Africa&quot;</td></tr></tbody></table></div>"
      ],
      "text/plain": [
       "shape: (6,)\n",
       "Series: 'continent' [str]\n",
       "[\n",
       "\t\"South America\"\n",
       "\t\"Europe\"\n",
       "\t\"Oceania\"\n",
       "\t\"Asia\"\n",
       "\t\"North America\"\n",
       "\t\"Africa\"\n",
       "]"
      ]
     },
     "execution_count": 9,
     "metadata": {},
     "output_type": "execute_result"
    }
   ],
   "source": [
    "drinks[\"continent\"].unique()"
   ]
  },
  {
   "cell_type": "code",
   "execution_count": 10,
   "metadata": {},
   "outputs": [
    {
     "data": {
      "text/html": [
       "<div><style>\n",
       ".dataframe > thead > tr,\n",
       ".dataframe > tbody > tr {\n",
       "  text-align: right;\n",
       "  white-space: pre-wrap;\n",
       "}\n",
       "</style>\n",
       "<small>shape: (6,)</small><table border=\"1\" class=\"dataframe\"><thead><tr><th>continent</th></tr><tr><td>u32</td></tr></thead><tbody><tr><td>44</td></tr><tr><td>45</td></tr><tr><td>53</td></tr><tr><td>23</td></tr><tr><td>12</td></tr><tr><td>16</td></tr></tbody></table></div>"
      ],
      "text/plain": [
       "shape: (6,)\n",
       "Series: 'continent' [u32]\n",
       "[\n",
       "\t44\n",
       "\t45\n",
       "\t53\n",
       "\t23\n",
       "\t12\n",
       "\t16\n",
       "]"
      ]
     },
     "execution_count": 10,
     "metadata": {},
     "output_type": "execute_result"
    }
   ],
   "source": [
    "drinks[\"continent\"].unique_counts()"
   ]
  },
  {
   "attachments": {},
   "cell_type": "markdown",
   "metadata": {},
   "source": [
    "### Sort\n"
   ]
  },
  {
   "cell_type": "code",
   "execution_count": 11,
   "metadata": {},
   "outputs": [
    {
     "data": {
      "text/html": [
       "<div><style>\n",
       ".dataframe > thead > tr,\n",
       ".dataframe > tbody > tr {\n",
       "  text-align: right;\n",
       "  white-space: pre-wrap;\n",
       "}\n",
       "</style>\n",
       "<small>shape: (5, 6)</small><table border=\"1\" class=\"dataframe\"><thead><tr><th>star_rating</th><th>title</th><th>content_rating</th><th>genre</th><th>duration</th><th>actors_list</th></tr><tr><td>f64</td><td>str</td><td>str</td><td>str</td><td>i64</td><td>str</td></tr></thead><tbody><tr><td>9.3</td><td>&quot;The Shawshank Redemption&quot;</td><td>&quot;R&quot;</td><td>&quot;Crime&quot;</td><td>142</td><td>&quot;[u&#x27;Tim Robbins&#x27;, u&#x27;Morgan Free…</td></tr><tr><td>9.2</td><td>&quot;The Godfather&quot;</td><td>&quot;R&quot;</td><td>&quot;Crime&quot;</td><td>175</td><td>&quot;[u&#x27;Marlon Brando&#x27;, u&#x27;Al Pacino…</td></tr><tr><td>9.1</td><td>&quot;The Godfather: Part II&quot;</td><td>&quot;R&quot;</td><td>&quot;Crime&quot;</td><td>200</td><td>&quot;[u&#x27;Al Pacino&#x27;, u&#x27;Robert De Nir…</td></tr><tr><td>9.0</td><td>&quot;The Dark Knight&quot;</td><td>&quot;PG-13&quot;</td><td>&quot;Action&quot;</td><td>152</td><td>&quot;[u&#x27;Christian Bale&#x27;, u&#x27;Heath Le…</td></tr><tr><td>8.9</td><td>&quot;Pulp Fiction&quot;</td><td>&quot;R&quot;</td><td>&quot;Crime&quot;</td><td>154</td><td>&quot;[u&#x27;John Travolta&#x27;, u&#x27;Uma Thurm…</td></tr></tbody></table></div>"
      ],
      "text/plain": [
       "shape: (5, 6)\n",
       "┌─────────────┬───────────────────────┬────────────────┬────────┬──────────┬───────────────────────┐\n",
       "│ star_rating ┆ title                 ┆ content_rating ┆ genre  ┆ duration ┆ actors_list           │\n",
       "│ ---         ┆ ---                   ┆ ---            ┆ ---    ┆ ---      ┆ ---                   │\n",
       "│ f64         ┆ str                   ┆ str            ┆ str    ┆ i64      ┆ str                   │\n",
       "╞═════════════╪═══════════════════════╪════════════════╪════════╪══════════╪═══════════════════════╡\n",
       "│ 9.3         ┆ The Shawshank         ┆ R              ┆ Crime  ┆ 142      ┆ [u'Tim Robbins',      │\n",
       "│             ┆ Redemption            ┆                ┆        ┆          ┆ u'Morgan Free…        │\n",
       "│ 9.2         ┆ The Godfather         ┆ R              ┆ Crime  ┆ 175      ┆ [u'Marlon Brando',    │\n",
       "│             ┆                       ┆                ┆        ┆          ┆ u'Al Pacino…          │\n",
       "│ 9.1         ┆ The Godfather: Part   ┆ R              ┆ Crime  ┆ 200      ┆ [u'Al Pacino',        │\n",
       "│             ┆ II                    ┆                ┆        ┆          ┆ u'Robert De Nir…      │\n",
       "│ 9.0         ┆ The Dark Knight       ┆ PG-13          ┆ Action ┆ 152      ┆ [u'Christian Bale',   │\n",
       "│             ┆                       ┆                ┆        ┆          ┆ u'Heath Le…           │\n",
       "│ 8.9         ┆ Pulp Fiction          ┆ R              ┆ Crime  ┆ 154      ┆ [u'John Travolta',    │\n",
       "│             ┆                       ┆                ┆        ┆          ┆ u'Uma Thurm…          │\n",
       "└─────────────┴───────────────────────┴────────────────┴────────┴──────────┴───────────────────────┘"
      ]
     },
     "execution_count": 11,
     "metadata": {},
     "output_type": "execute_result"
    }
   ],
   "source": [
    "movies = pl.read_csv(\"data/imdb_1000.csv\")\n",
    "movies.head()"
   ]
  },
  {
   "cell_type": "code",
   "execution_count": 12,
   "metadata": {},
   "outputs": [
    {
     "data": {
      "text/html": [
       "<div><style>\n",
       ".dataframe > thead > tr,\n",
       ".dataframe > tbody > tr {\n",
       "  text-align: right;\n",
       "  white-space: pre-wrap;\n",
       "}\n",
       "</style>\n",
       "<small>shape: (10,)</small><table border=\"1\" class=\"dataframe\"><thead><tr><th>title</th></tr><tr><td>str</td></tr></thead><tbody><tr><td>&quot;(500) Days of Summer&quot;</td></tr><tr><td>&quot;12 Angry Men&quot;</td></tr><tr><td>&quot;12 Years a Slave&quot;</td></tr><tr><td>&quot;127 Hours&quot;</td></tr><tr><td>&quot;2001: A Space Odyssey&quot;</td></tr><tr><td>&quot;2046&quot;</td></tr><tr><td>&quot;21 Grams&quot;</td></tr><tr><td>&quot;25th Hour&quot;</td></tr><tr><td>&quot;28 Days Later...&quot;</td></tr><tr><td>&quot;3 Idiots&quot;</td></tr></tbody></table></div>"
      ],
      "text/plain": [
       "shape: (10,)\n",
       "Series: 'title' [str]\n",
       "[\n",
       "\t\"(500) Days of Summer\"\n",
       "\t\"12 Angry Men\"\n",
       "\t\"12 Years a Slave\"\n",
       "\t\"127 Hours\"\n",
       "\t\"2001: A Space Odyssey\"\n",
       "\t\"2046\"\n",
       "\t\"21 Grams\"\n",
       "\t\"25th Hour\"\n",
       "\t\"28 Days Later...\"\n",
       "\t\"3 Idiots\"\n",
       "]"
      ]
     },
     "execution_count": 12,
     "metadata": {},
     "output_type": "execute_result"
    }
   ],
   "source": [
    "# sort the 'title' Series in ascending order (returns a Series)\n",
    "movies[\"title\"].sort().head()"
   ]
  },
  {
   "cell_type": "code",
   "execution_count": 13,
   "metadata": {},
   "outputs": [
    {
     "data": {
      "text/html": [
       "<div><style>\n",
       ".dataframe > thead > tr,\n",
       ".dataframe > tbody > tr {\n",
       "  text-align: right;\n",
       "  white-space: pre-wrap;\n",
       "}\n",
       "</style>\n",
       "<small>shape: (10,)</small><table border=\"1\" class=\"dataframe\"><thead><tr><th>title</th></tr><tr><td>str</td></tr></thead><tbody><tr><td>&quot;[Rec]&quot;</td></tr><tr><td>&quot;Zulu&quot;</td></tr><tr><td>&quot;Zombieland&quot;</td></tr><tr><td>&quot;Zodiac&quot;</td></tr><tr><td>&quot;Zero Dark Thirty&quot;</td></tr><tr><td>&quot;Zelig&quot;</td></tr><tr><td>&quot;Young Frankenstein&quot;</td></tr><tr><td>&quot;Yojimbo&quot;</td></tr><tr><td>&quot;Yip Man&quot;</td></tr><tr><td>&quot;Ying xiong&quot;</td></tr></tbody></table></div>"
      ],
      "text/plain": [
       "shape: (10,)\n",
       "Series: 'title' [str]\n",
       "[\n",
       "\t\"[Rec]\"\n",
       "\t\"Zulu\"\n",
       "\t\"Zombieland\"\n",
       "\t\"Zodiac\"\n",
       "\t\"Zero Dark Thirty\"\n",
       "\t\"Zelig\"\n",
       "\t\"Young Frankenstein\"\n",
       "\t\"Yojimbo\"\n",
       "\t\"Yip Man\"\n",
       "\t\"Ying xiong\"\n",
       "]"
      ]
     },
     "execution_count": 13,
     "metadata": {},
     "output_type": "execute_result"
    }
   ],
   "source": [
    "# sort in descending order instead\n",
    "movies[\"title\"].sort(descending=True).head()"
   ]
  },
  {
   "cell_type": "code",
   "execution_count": 14,
   "metadata": {},
   "outputs": [
    {
     "data": {
      "text/html": [
       "<div><style>\n",
       ".dataframe > thead > tr,\n",
       ".dataframe > tbody > tr {\n",
       "  text-align: right;\n",
       "  white-space: pre-wrap;\n",
       "}\n",
       "</style>\n",
       "<small>shape: (5, 6)</small><table border=\"1\" class=\"dataframe\"><thead><tr><th>star_rating</th><th>title</th><th>content_rating</th><th>genre</th><th>duration</th><th>actors_list</th></tr><tr><td>f64</td><td>str</td><td>str</td><td>str</td><td>i64</td><td>str</td></tr></thead><tbody><tr><td>7.8</td><td>&quot;(500) Days of Summer&quot;</td><td>&quot;PG-13&quot;</td><td>&quot;Comedy&quot;</td><td>95</td><td>&quot;[u&#x27;Zooey Deschanel&#x27;, u&#x27;Joseph …</td></tr><tr><td>8.9</td><td>&quot;12 Angry Men&quot;</td><td>&quot;NOT RATED&quot;</td><td>&quot;Drama&quot;</td><td>96</td><td>&quot;[u&#x27;Henry Fonda&#x27;, u&#x27;Lee J. Cobb…</td></tr><tr><td>8.1</td><td>&quot;12 Years a Slave&quot;</td><td>&quot;R&quot;</td><td>&quot;Biography&quot;</td><td>134</td><td>&quot;[u&#x27;Chiwetel Ejiofor&#x27;, u&#x27;Michae…</td></tr><tr><td>7.6</td><td>&quot;127 Hours&quot;</td><td>&quot;R&quot;</td><td>&quot;Adventure&quot;</td><td>94</td><td>&quot;[u&#x27;James Franco&#x27;, u&#x27;Amber Tamb…</td></tr><tr><td>8.3</td><td>&quot;2001: A Space Odyssey&quot;</td><td>&quot;G&quot;</td><td>&quot;Mystery&quot;</td><td>160</td><td>&quot;[u&#x27;Keir Dullea&#x27;, u&#x27;Gary Lockwo…</td></tr></tbody></table></div>"
      ],
      "text/plain": [
       "shape: (5, 6)\n",
       "┌─────────────┬──────────────────┬────────────────┬───────────┬──────────┬─────────────────────────┐\n",
       "│ star_rating ┆ title            ┆ content_rating ┆ genre     ┆ duration ┆ actors_list             │\n",
       "│ ---         ┆ ---              ┆ ---            ┆ ---       ┆ ---      ┆ ---                     │\n",
       "│ f64         ┆ str              ┆ str            ┆ str       ┆ i64      ┆ str                     │\n",
       "╞═════════════╪══════════════════╪════════════════╪═══════════╪══════════╪═════════════════════════╡\n",
       "│ 7.8         ┆ (500) Days of    ┆ PG-13          ┆ Comedy    ┆ 95       ┆ [u'Zooey Deschanel',    │\n",
       "│             ┆ Summer           ┆                ┆           ┆          ┆ u'Joseph …              │\n",
       "│ 8.9         ┆ 12 Angry Men     ┆ NOT RATED      ┆ Drama     ┆ 96       ┆ [u'Henry Fonda', u'Lee  │\n",
       "│             ┆                  ┆                ┆           ┆          ┆ J. Cobb…                │\n",
       "│ 8.1         ┆ 12 Years a Slave ┆ R              ┆ Biography ┆ 134      ┆ [u'Chiwetel Ejiofor',   │\n",
       "│             ┆                  ┆                ┆           ┆          ┆ u'Michae…               │\n",
       "│ 7.6         ┆ 127 Hours        ┆ R              ┆ Adventure ┆ 94       ┆ [u'James Franco',       │\n",
       "│             ┆                  ┆                ┆           ┆          ┆ u'Amber Tamb…           │\n",
       "│ 8.3         ┆ 2001: A Space    ┆ G              ┆ Mystery   ┆ 160      ┆ [u'Keir Dullea', u'Gary │\n",
       "│             ┆ Odyssey          ┆                ┆           ┆          ┆ Lockwo…                 │\n",
       "└─────────────┴──────────────────┴────────────────┴───────────┴──────────┴─────────────────────────┘"
      ]
     },
     "execution_count": 14,
     "metadata": {},
     "output_type": "execute_result"
    }
   ],
   "source": [
    "# sort the entire DataFrame by the 'title' Series (returns a DataFrame)\n",
    "movies.sort(by=\"title\").head()"
   ]
  },
  {
   "cell_type": "code",
   "execution_count": 15,
   "metadata": {},
   "outputs": [
    {
     "data": {
      "text/html": [
       "<div><style>\n",
       ".dataframe > thead > tr,\n",
       ".dataframe > tbody > tr {\n",
       "  text-align: right;\n",
       "  white-space: pre-wrap;\n",
       "}\n",
       "</style>\n",
       "<small>shape: (5, 6)</small><table border=\"1\" class=\"dataframe\"><thead><tr><th>star_rating</th><th>title</th><th>content_rating</th><th>genre</th><th>duration</th><th>actors_list</th></tr><tr><td>f64</td><td>str</td><td>str</td><td>str</td><td>i64</td><td>str</td></tr></thead><tbody><tr><td>7.8</td><td>&quot;(500) Days of Summer&quot;</td><td>&quot;PG-13&quot;</td><td>&quot;Comedy&quot;</td><td>95</td><td>&quot;[u&#x27;Zooey Deschanel&#x27;, u&#x27;Joseph …</td></tr><tr><td>8.9</td><td>&quot;12 Angry Men&quot;</td><td>&quot;NOT RATED&quot;</td><td>&quot;Drama&quot;</td><td>96</td><td>&quot;[u&#x27;Henry Fonda&#x27;, u&#x27;Lee J. Cobb…</td></tr><tr><td>8.1</td><td>&quot;12 Years a Slave&quot;</td><td>&quot;R&quot;</td><td>&quot;Biography&quot;</td><td>134</td><td>&quot;[u&#x27;Chiwetel Ejiofor&#x27;, u&#x27;Michae…</td></tr><tr><td>7.6</td><td>&quot;127 Hours&quot;</td><td>&quot;R&quot;</td><td>&quot;Adventure&quot;</td><td>94</td><td>&quot;[u&#x27;James Franco&#x27;, u&#x27;Amber Tamb…</td></tr><tr><td>8.3</td><td>&quot;2001: A Space Odyssey&quot;</td><td>&quot;G&quot;</td><td>&quot;Mystery&quot;</td><td>160</td><td>&quot;[u&#x27;Keir Dullea&#x27;, u&#x27;Gary Lockwo…</td></tr></tbody></table></div>"
      ],
      "text/plain": [
       "shape: (5, 6)\n",
       "┌─────────────┬──────────────────┬────────────────┬───────────┬──────────┬─────────────────────────┐\n",
       "│ star_rating ┆ title            ┆ content_rating ┆ genre     ┆ duration ┆ actors_list             │\n",
       "│ ---         ┆ ---              ┆ ---            ┆ ---       ┆ ---      ┆ ---                     │\n",
       "│ f64         ┆ str              ┆ str            ┆ str       ┆ i64      ┆ str                     │\n",
       "╞═════════════╪══════════════════╪════════════════╪═══════════╪══════════╪═════════════════════════╡\n",
       "│ 7.8         ┆ (500) Days of    ┆ PG-13          ┆ Comedy    ┆ 95       ┆ [u'Zooey Deschanel',    │\n",
       "│             ┆ Summer           ┆                ┆           ┆          ┆ u'Joseph …              │\n",
       "│ 8.9         ┆ 12 Angry Men     ┆ NOT RATED      ┆ Drama     ┆ 96       ┆ [u'Henry Fonda', u'Lee  │\n",
       "│             ┆                  ┆                ┆           ┆          ┆ J. Cobb…                │\n",
       "│ 8.1         ┆ 12 Years a Slave ┆ R              ┆ Biography ┆ 134      ┆ [u'Chiwetel Ejiofor',   │\n",
       "│             ┆                  ┆                ┆           ┆          ┆ u'Michae…               │\n",
       "│ 7.6         ┆ 127 Hours        ┆ R              ┆ Adventure ┆ 94       ┆ [u'James Franco',       │\n",
       "│             ┆                  ┆                ┆           ┆          ┆ u'Amber Tamb…           │\n",
       "│ 8.3         ┆ 2001: A Space    ┆ G              ┆ Mystery   ┆ 160      ┆ [u'Keir Dullea', u'Gary │\n",
       "│             ┆ Odyssey          ┆                ┆           ┆          ┆ Lockwo…                 │\n",
       "└─────────────┴──────────────────┴────────────────┴───────────┴──────────┴─────────────────────────┘"
      ]
     },
     "execution_count": 15,
     "metadata": {},
     "output_type": "execute_result"
    }
   ],
   "source": [
    "# sort in descending order instead\n",
    "movies.sort(by=\"title\", descending=False).head()"
   ]
  },
  {
   "cell_type": "code",
   "execution_count": 16,
   "metadata": {},
   "outputs": [
    {
     "data": {
      "text/html": [
       "<div><style>\n",
       ".dataframe > thead > tr,\n",
       ".dataframe > tbody > tr {\n",
       "  text-align: right;\n",
       "  white-space: pre-wrap;\n",
       "}\n",
       "</style>\n",
       "<small>shape: (5, 6)</small><table border=\"1\" class=\"dataframe\"><thead><tr><th>star_rating</th><th>title</th><th>content_rating</th><th>genre</th><th>duration</th><th>actors_list</th></tr><tr><td>f64</td><td>str</td><td>str</td><td>str</td><td>i64</td><td>str</td></tr></thead><tbody><tr><td>8.2</td><td>&quot;Butch Cassidy and the Sundance…</td><td>null</td><td>&quot;Biography&quot;</td><td>110</td><td>&quot;[u&#x27;Paul Newman&#x27;, u&#x27;Robert Redf…</td></tr><tr><td>7.4</td><td>&quot;True Grit&quot;</td><td>null</td><td>&quot;Adventure&quot;</td><td>128</td><td>&quot;[u&#x27;John Wayne&#x27;, u&#x27;Kim Darby&#x27;, …</td></tr><tr><td>7.7</td><td>&quot;Where Eagles Dare&quot;</td><td>null</td><td>&quot;Action&quot;</td><td>158</td><td>&quot;[u&#x27;Richard Burton&#x27;, u&#x27;Clint Ea…</td></tr><tr><td>7.6</td><td>&quot;The Jungle Book&quot;</td><td>&quot;APPROVED&quot;</td><td>&quot;Animation&quot;</td><td>78</td><td>&quot;[u&#x27;Phil Harris&#x27;, u&#x27;Sebastian C…</td></tr><tr><td>7.8</td><td>&quot;Invasion of the Body Snatchers&quot;</td><td>&quot;APPROVED&quot;</td><td>&quot;Horror&quot;</td><td>80</td><td>&quot;[u&#x27;Kevin McCarthy&#x27;, u&#x27;Dana Wyn…</td></tr></tbody></table></div>"
      ],
      "text/plain": [
       "shape: (5, 6)\n",
       "┌─────────────┬──────────────────────┬────────────────┬───────────┬──────────┬─────────────────────┐\n",
       "│ star_rating ┆ title                ┆ content_rating ┆ genre     ┆ duration ┆ actors_list         │\n",
       "│ ---         ┆ ---                  ┆ ---            ┆ ---       ┆ ---      ┆ ---                 │\n",
       "│ f64         ┆ str                  ┆ str            ┆ str       ┆ i64      ┆ str                 │\n",
       "╞═════════════╪══════════════════════╪════════════════╪═══════════╪══════════╪═════════════════════╡\n",
       "│ 8.2         ┆ Butch Cassidy and    ┆ null           ┆ Biography ┆ 110      ┆ [u'Paul Newman',    │\n",
       "│             ┆ the Sundance…        ┆                ┆           ┆          ┆ u'Robert Redf…      │\n",
       "│ 7.4         ┆ True Grit            ┆ null           ┆ Adventure ┆ 128      ┆ [u'John Wayne',     │\n",
       "│             ┆                      ┆                ┆           ┆          ┆ u'Kim Darby', …     │\n",
       "│ 7.7         ┆ Where Eagles Dare    ┆ null           ┆ Action    ┆ 158      ┆ [u'Richard Burton', │\n",
       "│             ┆                      ┆                ┆           ┆          ┆ u'Clint Ea…         │\n",
       "│ 7.6         ┆ The Jungle Book      ┆ APPROVED       ┆ Animation ┆ 78       ┆ [u'Phil Harris',    │\n",
       "│             ┆                      ┆                ┆           ┆          ┆ u'Sebastian C…      │\n",
       "│ 7.8         ┆ Invasion of the Body ┆ APPROVED       ┆ Horror    ┆ 80       ┆ [u'Kevin McCarthy', │\n",
       "│             ┆ Snatchers            ┆                ┆           ┆          ┆ u'Dana Wyn…         │\n",
       "└─────────────┴──────────────────────┴────────────────┴───────────┴──────────┴─────────────────────┘"
      ]
     },
     "execution_count": 16,
     "metadata": {},
     "output_type": "execute_result"
    }
   ],
   "source": [
    "# sort the DataFrame first by 'content_rating', then by 'duration'\n",
    "movies.sort(by=[\"content_rating\", \"duration\"]).head()"
   ]
  },
  {
   "attachments": {},
   "cell_type": "markdown",
   "metadata": {},
   "source": [
    "## Transform\n"
   ]
  },
  {
   "attachments": {},
   "cell_type": "markdown",
   "metadata": {},
   "source": [
    "### Group\n"
   ]
  },
  {
   "cell_type": "code",
   "execution_count": 17,
   "metadata": {},
   "outputs": [
    {
     "data": {
      "text/html": [
       "<div><style>\n",
       ".dataframe > thead > tr,\n",
       ".dataframe > tbody > tr {\n",
       "  text-align: right;\n",
       "  white-space: pre-wrap;\n",
       "}\n",
       "</style>\n",
       "<small>shape: (5, 6)</small><table border=\"1\" class=\"dataframe\"><thead><tr><th>country</th><th>beer_servings</th><th>spirit_servings</th><th>wine_servings</th><th>total_litres_of_pure_alcohol</th><th>continent</th></tr><tr><td>str</td><td>i64</td><td>i64</td><td>i64</td><td>f64</td><td>str</td></tr></thead><tbody><tr><td>&quot;Afghanistan&quot;</td><td>0</td><td>0</td><td>0</td><td>0.0</td><td>&quot;Asia&quot;</td></tr><tr><td>&quot;Albania&quot;</td><td>89</td><td>132</td><td>54</td><td>4.9</td><td>&quot;Europe&quot;</td></tr><tr><td>&quot;Algeria&quot;</td><td>25</td><td>0</td><td>14</td><td>0.7</td><td>&quot;Africa&quot;</td></tr><tr><td>&quot;Andorra&quot;</td><td>245</td><td>138</td><td>312</td><td>12.4</td><td>&quot;Europe&quot;</td></tr><tr><td>&quot;Angola&quot;</td><td>217</td><td>57</td><td>45</td><td>5.9</td><td>&quot;Africa&quot;</td></tr></tbody></table></div>"
      ],
      "text/plain": [
       "shape: (5, 6)\n",
       "┌─────────────┬───────────────┬─────────────────┬───────────────┬──────────────────────┬───────────┐\n",
       "│ country     ┆ beer_servings ┆ spirit_servings ┆ wine_servings ┆ total_litres_of_pure ┆ continent │\n",
       "│ ---         ┆ ---           ┆ ---             ┆ ---           ┆ _alcohol             ┆ ---       │\n",
       "│ str         ┆ i64           ┆ i64             ┆ i64           ┆ ---                  ┆ str       │\n",
       "│             ┆               ┆                 ┆               ┆ f64                  ┆           │\n",
       "╞═════════════╪═══════════════╪═════════════════╪═══════════════╪══════════════════════╪═══════════╡\n",
       "│ Afghanistan ┆ 0             ┆ 0               ┆ 0             ┆ 0.0                  ┆ Asia      │\n",
       "│ Albania     ┆ 89            ┆ 132             ┆ 54            ┆ 4.9                  ┆ Europe    │\n",
       "│ Algeria     ┆ 25            ┆ 0               ┆ 14            ┆ 0.7                  ┆ Africa    │\n",
       "│ Andorra     ┆ 245           ┆ 138             ┆ 312           ┆ 12.4                 ┆ Europe    │\n",
       "│ Angola      ┆ 217           ┆ 57              ┆ 45            ┆ 5.9                  ┆ Africa    │\n",
       "└─────────────┴───────────────┴─────────────────┴───────────────┴──────────────────────┴───────────┘"
      ]
     },
     "execution_count": 17,
     "metadata": {},
     "output_type": "execute_result"
    }
   ],
   "source": [
    "drinks = pl.read_csv(\"data/drinks.csv\")\n",
    "drinks.head()"
   ]
  },
  {
   "cell_type": "code",
   "execution_count": 18,
   "metadata": {},
   "outputs": [
    {
     "data": {
      "text/html": [
       "<div><style>\n",
       ".dataframe > thead > tr,\n",
       ".dataframe > tbody > tr {\n",
       "  text-align: right;\n",
       "  white-space: pre-wrap;\n",
       "}\n",
       "</style>\n",
       "<small>shape: (6,)</small><table border=\"1\" class=\"dataframe\"><thead><tr><th>beer_servings</th></tr><tr><td>f64</td></tr></thead><tbody><tr><td>175.083333</td></tr><tr><td>61.471698</td></tr><tr><td>89.6875</td></tr><tr><td>37.045455</td></tr><tr><td>145.434783</td></tr><tr><td>193.777778</td></tr></tbody></table></div>"
      ],
      "text/plain": [
       "shape: (6,)\n",
       "Series: 'beer_servings' [f64]\n",
       "[\n",
       "\t175.083333\n",
       "\t61.471698\n",
       "\t89.6875\n",
       "\t37.045455\n",
       "\t145.434783\n",
       "\t193.777778\n",
       "]"
      ]
     },
     "execution_count": 18,
     "metadata": {},
     "output_type": "execute_result"
    }
   ],
   "source": [
    "# calculate the mean beer servings for each continent\n",
    "drinks.group_by(\"continent\").mean()[\"beer_servings\"]"
   ]
  },
  {
   "cell_type": "code",
   "execution_count": 19,
   "metadata": {},
   "outputs": [
    {
     "data": {
      "text/html": [
       "<div><style>\n",
       ".dataframe > thead > tr,\n",
       ".dataframe > tbody > tr {\n",
       "  text-align: right;\n",
       "  white-space: pre-wrap;\n",
       "}\n",
       "</style>\n",
       "<small>shape: (6,)</small><table border=\"1\" class=\"dataframe\"><thead><tr><th>beer_servings</th></tr><tr><td>i64</td></tr></thead><tbody><tr><td>361</td></tr><tr><td>247</td></tr><tr><td>333</td></tr><tr><td>376</td></tr><tr><td>306</td></tr><tr><td>285</td></tr></tbody></table></div>"
      ],
      "text/plain": [
       "shape: (6,)\n",
       "Series: 'beer_servings' [i64]\n",
       "[\n",
       "\t361\n",
       "\t247\n",
       "\t333\n",
       "\t376\n",
       "\t306\n",
       "\t285\n",
       "]"
      ]
     },
     "execution_count": 19,
     "metadata": {},
     "output_type": "execute_result"
    }
   ],
   "source": [
    "# other aggregation functions (such as 'max') can also be used with groupby\n",
    "drinks.group_by(\"continent\").max()[\"beer_servings\"]"
   ]
  },
  {
   "cell_type": "code",
   "execution_count": 20,
   "metadata": {},
   "outputs": [
    {
     "data": {
      "text/html": [
       "<div><style>\n",
       ".dataframe > thead > tr,\n",
       ".dataframe > tbody > tr {\n",
       "  text-align: right;\n",
       "  white-space: pre-wrap;\n",
       "}\n",
       "</style>\n",
       "<small>shape: (6, 5)</small><table border=\"1\" class=\"dataframe\"><thead><tr><th>continent</th><th>beer_servings_count</th><th>beer_servings_mean</th><th>beer_servings_min</th><th>beer_servings_max</th></tr><tr><td>str</td><td>u32</td><td>f64</td><td>i64</td><td>i64</td></tr></thead><tbody><tr><td>&quot;Asia&quot;</td><td>44</td><td>37.045455</td><td>0</td><td>247</td></tr><tr><td>&quot;North America&quot;</td><td>23</td><td>145.434783</td><td>1</td><td>285</td></tr><tr><td>&quot;Oceania&quot;</td><td>16</td><td>89.6875</td><td>0</td><td>306</td></tr><tr><td>&quot;South America&quot;</td><td>12</td><td>175.083333</td><td>93</td><td>333</td></tr><tr><td>&quot;Africa&quot;</td><td>53</td><td>61.471698</td><td>0</td><td>376</td></tr><tr><td>&quot;Europe&quot;</td><td>45</td><td>193.777778</td><td>0</td><td>361</td></tr></tbody></table></div>"
      ],
      "text/plain": [
       "shape: (6, 5)\n",
       "┌───────────────┬─────────────────────┬────────────────────┬───────────────────┬───────────────────┐\n",
       "│ continent     ┆ beer_servings_count ┆ beer_servings_mean ┆ beer_servings_min ┆ beer_servings_max │\n",
       "│ ---           ┆ ---                 ┆ ---                ┆ ---               ┆ ---               │\n",
       "│ str           ┆ u32                 ┆ f64                ┆ i64               ┆ i64               │\n",
       "╞═══════════════╪═════════════════════╪════════════════════╪═══════════════════╪═══════════════════╡\n",
       "│ Asia          ┆ 44                  ┆ 37.045455          ┆ 0                 ┆ 247               │\n",
       "│ North America ┆ 23                  ┆ 145.434783         ┆ 1                 ┆ 285               │\n",
       "│ Oceania       ┆ 16                  ┆ 89.6875            ┆ 0                 ┆ 306               │\n",
       "│ South America ┆ 12                  ┆ 175.083333         ┆ 93                ┆ 333               │\n",
       "│ Africa        ┆ 53                  ┆ 61.471698          ┆ 0                 ┆ 376               │\n",
       "│ Europe        ┆ 45                  ┆ 193.777778         ┆ 0                 ┆ 361               │\n",
       "└───────────────┴─────────────────────┴────────────────────┴───────────────────┴───────────────────┘"
      ]
     },
     "execution_count": 20,
     "metadata": {},
     "output_type": "execute_result"
    }
   ],
   "source": [
    "# multiple aggregation functions can be applied simultaneously\n",
    "drinks.group_by(\"continent\").agg(\n",
    "    pl.col(\"beer_servings\").count().name.suffix(\"_count\"),\n",
    "    pl.col(\"beer_servings\").mean().name.suffix(\"_mean\"),\n",
    "    pl.col(\"beer_servings\").min().name.suffix(\"_min\"),\n",
    "    pl.col(\"beer_servings\").max().name.suffix(\"_max\"),\n",
    ")"
   ]
  },
  {
   "attachments": {},
   "cell_type": "markdown",
   "metadata": {},
   "source": [
    "### Apply\n"
   ]
  },
  {
   "cell_type": "code",
   "execution_count": 21,
   "metadata": {},
   "outputs": [
    {
     "data": {
      "text/html": [
       "<div><style>\n",
       ".dataframe > thead > tr,\n",
       ".dataframe > tbody > tr {\n",
       "  text-align: right;\n",
       "  white-space: pre-wrap;\n",
       "}\n",
       "</style>\n",
       "<small>shape: (6, 6)</small><table border=\"1\" class=\"dataframe\"><thead><tr><th>continent</th><th>country</th><th>beer_servings</th><th>spirit_servings</th><th>wine_servings</th><th>total_litres_of_pure_alcohol</th></tr><tr><td>str</td><td>str</td><td>f64</td><td>f64</td><td>f64</td><td>f64</td></tr></thead><tbody><tr><td>&quot;South America&quot;</td><td>null</td><td>175.083333</td><td>114.75</td><td>62.416667</td><td>6.308333</td></tr><tr><td>&quot;Europe&quot;</td><td>null</td><td>193.777778</td><td>132.555556</td><td>142.222222</td><td>8.617778</td></tr><tr><td>&quot;Oceania&quot;</td><td>null</td><td>89.6875</td><td>58.4375</td><td>35.625</td><td>3.38125</td></tr><tr><td>&quot;North America&quot;</td><td>null</td><td>145.434783</td><td>165.73913</td><td>24.521739</td><td>5.995652</td></tr><tr><td>&quot;Africa&quot;</td><td>null</td><td>61.471698</td><td>16.339623</td><td>16.264151</td><td>3.007547</td></tr><tr><td>&quot;Asia&quot;</td><td>null</td><td>37.045455</td><td>60.840909</td><td>9.068182</td><td>2.170455</td></tr></tbody></table></div>"
      ],
      "text/plain": [
       "shape: (6, 6)\n",
       "┌───────────────┬─────────┬───────────────┬─────────────────┬───────────────┬──────────────────────┐\n",
       "│ continent     ┆ country ┆ beer_servings ┆ spirit_servings ┆ wine_servings ┆ total_litres_of_pure │\n",
       "│ ---           ┆ ---     ┆ ---           ┆ ---             ┆ ---           ┆ _alcohol             │\n",
       "│ str           ┆ str     ┆ f64           ┆ f64             ┆ f64           ┆ ---                  │\n",
       "│               ┆         ┆               ┆                 ┆               ┆ f64                  │\n",
       "╞═══════════════╪═════════╪═══════════════╪═════════════════╪═══════════════╪══════════════════════╡\n",
       "│ South America ┆ null    ┆ 175.083333    ┆ 114.75          ┆ 62.416667     ┆ 6.308333             │\n",
       "│ Europe        ┆ null    ┆ 193.777778    ┆ 132.555556      ┆ 142.222222    ┆ 8.617778             │\n",
       "│ Oceania       ┆ null    ┆ 89.6875       ┆ 58.4375         ┆ 35.625        ┆ 3.38125              │\n",
       "│ North America ┆ null    ┆ 145.434783    ┆ 165.73913       ┆ 24.521739     ┆ 5.995652             │\n",
       "│ Africa        ┆ null    ┆ 61.471698     ┆ 16.339623       ┆ 16.264151     ┆ 3.007547             │\n",
       "│ Asia          ┆ null    ┆ 37.045455     ┆ 60.840909       ┆ 9.068182      ┆ 2.170455             │\n",
       "└───────────────┴─────────┴───────────────┴─────────────────┴───────────────┴──────────────────────┘"
      ]
     },
     "execution_count": 21,
     "metadata": {},
     "output_type": "execute_result"
    }
   ],
   "source": [
    "drinks.group_by(\"continent\").mean()"
   ]
  },
  {
   "cell_type": "code",
   "execution_count": 22,
   "metadata": {},
   "outputs": [
    {
     "data": {
      "text/html": [
       "<div><style>\n",
       ".dataframe > thead > tr,\n",
       ".dataframe > tbody > tr {\n",
       "  text-align: right;\n",
       "  white-space: pre-wrap;\n",
       "}\n",
       "</style>\n",
       "<small>shape: (5, 5)</small><table border=\"1\" class=\"dataframe\"><thead><tr><th>sepal_length</th><th>sepal_width</th><th>petal_length</th><th>petal_width</th><th>species</th></tr><tr><td>f64</td><td>f64</td><td>f64</td><td>f64</td><td>str</td></tr></thead><tbody><tr><td>5.1</td><td>3.5</td><td>1.4</td><td>0.2</td><td>&quot;setosa&quot;</td></tr><tr><td>4.9</td><td>3.0</td><td>1.4</td><td>0.2</td><td>&quot;setosa&quot;</td></tr><tr><td>4.7</td><td>3.2</td><td>1.3</td><td>0.2</td><td>&quot;setosa&quot;</td></tr><tr><td>4.6</td><td>3.1</td><td>1.5</td><td>0.2</td><td>&quot;setosa&quot;</td></tr><tr><td>5.0</td><td>3.6</td><td>1.4</td><td>0.2</td><td>&quot;setosa&quot;</td></tr></tbody></table></div>"
      ],
      "text/plain": [
       "shape: (5, 5)\n",
       "┌──────────────┬─────────────┬──────────────┬─────────────┬─────────┐\n",
       "│ sepal_length ┆ sepal_width ┆ petal_length ┆ petal_width ┆ species │\n",
       "│ ---          ┆ ---         ┆ ---          ┆ ---         ┆ ---     │\n",
       "│ f64          ┆ f64         ┆ f64          ┆ f64         ┆ str     │\n",
       "╞══════════════╪═════════════╪══════════════╪═════════════╪═════════╡\n",
       "│ 5.1          ┆ 3.5         ┆ 1.4          ┆ 0.2         ┆ setosa  │\n",
       "│ 4.9          ┆ 3.0         ┆ 1.4          ┆ 0.2         ┆ setosa  │\n",
       "│ 4.7          ┆ 3.2         ┆ 1.3          ┆ 0.2         ┆ setosa  │\n",
       "│ 4.6          ┆ 3.1         ┆ 1.5          ┆ 0.2         ┆ setosa  │\n",
       "│ 5.0          ┆ 3.6         ┆ 1.4          ┆ 0.2         ┆ setosa  │\n",
       "└──────────────┴─────────────┴──────────────┴─────────────┴─────────┘"
      ]
     },
     "execution_count": 22,
     "metadata": {},
     "output_type": "execute_result"
    }
   ],
   "source": [
    "iris = pl.read_csv(\"data/iris.csv\")\n",
    "iris.head()"
   ]
  },
  {
   "cell_type": "code",
   "execution_count": 23,
   "metadata": {},
   "outputs": [
    {
     "data": {
      "text/html": [
       "<div><style>\n",
       ".dataframe > thead > tr,\n",
       ".dataframe > tbody > tr {\n",
       "  text-align: right;\n",
       "  white-space: pre-wrap;\n",
       "}\n",
       "</style>\n",
       "<small>shape: (3, 2)</small><table border=\"1\" class=\"dataframe\"><thead><tr><th>species</th><th>len</th></tr><tr><td>str</td><td>u32</td></tr></thead><tbody><tr><td>&quot;setosa&quot;</td><td>50</td></tr><tr><td>&quot;versicolor&quot;</td><td>50</td></tr><tr><td>&quot;virginica&quot;</td><td>50</td></tr></tbody></table></div>"
      ],
      "text/plain": [
       "shape: (3, 2)\n",
       "┌────────────┬─────┐\n",
       "│ species    ┆ len │\n",
       "│ ---        ┆ --- │\n",
       "│ str        ┆ u32 │\n",
       "╞════════════╪═════╡\n",
       "│ setosa     ┆ 50  │\n",
       "│ versicolor ┆ 50  │\n",
       "│ virginica  ┆ 50  │\n",
       "└────────────┴─────┘"
      ]
     },
     "execution_count": 23,
     "metadata": {},
     "output_type": "execute_result"
    }
   ],
   "source": [
    "iris.group_by(\"species\").len()"
   ]
  },
  {
   "cell_type": "code",
   "execution_count": 24,
   "metadata": {},
   "outputs": [
    {
     "data": {
      "text/html": [
       "<div><style>\n",
       ".dataframe > thead > tr,\n",
       ".dataframe > tbody > tr {\n",
       "  text-align: right;\n",
       "  white-space: pre-wrap;\n",
       "}\n",
       "</style>\n",
       "<small>shape: (3, 5)</small><table border=\"1\" class=\"dataframe\"><thead><tr><th>species</th><th>sepal_length_min</th><th>sepal_length_max</th><th>petal_length_mean</th><th>petal_length_std</th></tr><tr><td>str</td><td>f64</td><td>f64</td><td>f64</td><td>f64</td></tr></thead><tbody><tr><td>&quot;versicolor&quot;</td><td>4.9</td><td>7.0</td><td>4.26</td><td>0.469911</td></tr><tr><td>&quot;virginica&quot;</td><td>4.9</td><td>7.9</td><td>5.552</td><td>0.551895</td></tr><tr><td>&quot;setosa&quot;</td><td>4.3</td><td>5.8</td><td>1.462</td><td>0.173664</td></tr></tbody></table></div>"
      ],
      "text/plain": [
       "shape: (3, 5)\n",
       "┌────────────┬──────────────────┬──────────────────┬───────────────────┬──────────────────┐\n",
       "│ species    ┆ sepal_length_min ┆ sepal_length_max ┆ petal_length_mean ┆ petal_length_std │\n",
       "│ ---        ┆ ---              ┆ ---              ┆ ---               ┆ ---              │\n",
       "│ str        ┆ f64              ┆ f64              ┆ f64               ┆ f64              │\n",
       "╞════════════╪══════════════════╪══════════════════╪═══════════════════╪══════════════════╡\n",
       "│ versicolor ┆ 4.9              ┆ 7.0              ┆ 4.26              ┆ 0.469911         │\n",
       "│ virginica  ┆ 4.9              ┆ 7.9              ┆ 5.552             ┆ 0.551895         │\n",
       "│ setosa     ┆ 4.3              ┆ 5.8              ┆ 1.462             ┆ 0.173664         │\n",
       "└────────────┴──────────────────┴──────────────────┴───────────────────┴──────────────────┘"
      ]
     },
     "execution_count": 24,
     "metadata": {},
     "output_type": "execute_result"
    }
   ],
   "source": [
    "iris.group_by(\"species\").agg([\n",
    "    pl.min(\"sepal_length\").name.suffix(\"_min\"),\n",
    "    pl.max(\"sepal_length\").name.suffix(\"_max\"),\n",
    "    pl.mean(\"petal_length\").name.suffix(\"_mean\"),\n",
    "    pl.std(\"petal_length\").name.suffix(\"_std\"),\n",
    "])"
   ]
  },
  {
   "attachments": {},
   "cell_type": "markdown",
   "metadata": {},
   "source": [
    "### Apply a function\n"
   ]
  },
  {
   "cell_type": "code",
   "execution_count": 25,
   "metadata": {},
   "outputs": [
    {
     "data": {
      "text/html": [
       "<div><style>\n",
       ".dataframe > thead > tr,\n",
       ".dataframe > tbody > tr {\n",
       "  text-align: right;\n",
       "  white-space: pre-wrap;\n",
       "}\n",
       "</style>\n",
       "<small>shape: (5, 12)</small><table border=\"1\" class=\"dataframe\"><thead><tr><th>PassengerId</th><th>Survived</th><th>Pclass</th><th>Name</th><th>Sex</th><th>Age</th><th>SibSp</th><th>Parch</th><th>Ticket</th><th>Fare</th><th>Cabin</th><th>Embarked</th></tr><tr><td>i64</td><td>i64</td><td>i64</td><td>str</td><td>str</td><td>f64</td><td>i64</td><td>i64</td><td>str</td><td>f64</td><td>str</td><td>str</td></tr></thead><tbody><tr><td>1</td><td>0</td><td>3</td><td>&quot;Braund, Mr. Owen Harris&quot;</td><td>&quot;male&quot;</td><td>22.0</td><td>1</td><td>0</td><td>&quot;A/5 21171&quot;</td><td>7.25</td><td>null</td><td>&quot;S&quot;</td></tr><tr><td>2</td><td>1</td><td>1</td><td>&quot;Cumings, Mrs. John Bradley (Fl…</td><td>&quot;female&quot;</td><td>38.0</td><td>1</td><td>0</td><td>&quot;PC 17599&quot;</td><td>71.2833</td><td>&quot;C85&quot;</td><td>&quot;C&quot;</td></tr><tr><td>3</td><td>1</td><td>3</td><td>&quot;Heikkinen, Miss. Laina&quot;</td><td>&quot;female&quot;</td><td>26.0</td><td>0</td><td>0</td><td>&quot;STON/O2. 3101282&quot;</td><td>7.925</td><td>null</td><td>&quot;S&quot;</td></tr><tr><td>4</td><td>1</td><td>1</td><td>&quot;Futrelle, Mrs. Jacques Heath (…</td><td>&quot;female&quot;</td><td>35.0</td><td>1</td><td>0</td><td>&quot;113803&quot;</td><td>53.1</td><td>&quot;C123&quot;</td><td>&quot;S&quot;</td></tr><tr><td>5</td><td>0</td><td>3</td><td>&quot;Allen, Mr. William Henry&quot;</td><td>&quot;male&quot;</td><td>35.0</td><td>0</td><td>0</td><td>&quot;373450&quot;</td><td>8.05</td><td>null</td><td>&quot;S&quot;</td></tr></tbody></table></div>"
      ],
      "text/plain": [
       "shape: (5, 12)\n",
       "┌─────────────┬──────────┬────────┬───────────────────┬───┬───────────┬─────────┬───────┬──────────┐\n",
       "│ PassengerId ┆ Survived ┆ Pclass ┆ Name              ┆ … ┆ Ticket    ┆ Fare    ┆ Cabin ┆ Embarked │\n",
       "│ ---         ┆ ---      ┆ ---    ┆ ---               ┆   ┆ ---       ┆ ---     ┆ ---   ┆ ---      │\n",
       "│ i64         ┆ i64      ┆ i64    ┆ str               ┆   ┆ str       ┆ f64     ┆ str   ┆ str      │\n",
       "╞═════════════╪══════════╪════════╪═══════════════════╪═══╪═══════════╪═════════╪═══════╪══════════╡\n",
       "│ 1           ┆ 0        ┆ 3      ┆ Braund, Mr. Owen  ┆ … ┆ A/5 21171 ┆ 7.25    ┆ null  ┆ S        │\n",
       "│             ┆          ┆        ┆ Harris            ┆   ┆           ┆         ┆       ┆          │\n",
       "│ 2           ┆ 1        ┆ 1      ┆ Cumings, Mrs.     ┆ … ┆ PC 17599  ┆ 71.2833 ┆ C85   ┆ C        │\n",
       "│             ┆          ┆        ┆ John Bradley (Fl… ┆   ┆           ┆         ┆       ┆          │\n",
       "│ 3           ┆ 1        ┆ 3      ┆ Heikkinen, Miss.  ┆ … ┆ STON/O2.  ┆ 7.925   ┆ null  ┆ S        │\n",
       "│             ┆          ┆        ┆ Laina             ┆   ┆ 3101282   ┆         ┆       ┆          │\n",
       "│ 4           ┆ 1        ┆ 1      ┆ Futrelle, Mrs.    ┆ … ┆ 113803    ┆ 53.1    ┆ C123  ┆ S        │\n",
       "│             ┆          ┆        ┆ Jacques Heath (…  ┆   ┆           ┆         ┆       ┆          │\n",
       "│ 5           ┆ 0        ┆ 3      ┆ Allen, Mr.        ┆ … ┆ 373450    ┆ 8.05    ┆ null  ┆ S        │\n",
       "│             ┆          ┆        ┆ William Henry     ┆   ┆           ┆         ┆       ┆          │\n",
       "└─────────────┴──────────┴────────┴───────────────────┴───┴───────────┴─────────┴───────┴──────────┘"
      ]
     },
     "execution_count": 25,
     "metadata": {},
     "output_type": "execute_result"
    }
   ],
   "source": [
    "train = pl.read_csv(\"data/titanic_train.csv\")\n",
    "train.head()"
   ]
  },
  {
   "cell_type": "code",
   "execution_count": 26,
   "metadata": {},
   "outputs": [
    {
     "data": {
      "text/html": [
       "<div><style>\n",
       ".dataframe > thead > tr,\n",
       ".dataframe > tbody > tr {\n",
       "  text-align: right;\n",
       "  white-space: pre-wrap;\n",
       "}\n",
       "</style>\n",
       "<small>shape: (4, 2)</small><table border=\"1\" class=\"dataframe\"><thead><tr><th>Sex</th><th>Sex_num</th></tr><tr><td>str</td><td>str</td></tr></thead><tbody><tr><td>&quot;male&quot;</td><td>&quot;1&quot;</td></tr><tr><td>&quot;female&quot;</td><td>&quot;0&quot;</td></tr><tr><td>&quot;female&quot;</td><td>&quot;0&quot;</td></tr><tr><td>&quot;female&quot;</td><td>&quot;0&quot;</td></tr></tbody></table></div>"
      ],
      "text/plain": [
       "shape: (4, 2)\n",
       "┌────────┬─────────┐\n",
       "│ Sex    ┆ Sex_num │\n",
       "│ ---    ┆ ---     │\n",
       "│ str    ┆ str     │\n",
       "╞════════╪═════════╡\n",
       "│ male   ┆ 1       │\n",
       "│ female ┆ 0       │\n",
       "│ female ┆ 0       │\n",
       "│ female ┆ 0       │\n",
       "└────────┴─────────┘"
      ]
     },
     "execution_count": 26,
     "metadata": {},
     "output_type": "execute_result"
    }
   ],
   "source": [
    "# map 'female' to 0 and 'male' to 1\n",
    "train = train.with_columns(Sex_num=pl.col(\"Sex\").replace({\"female\": 0, \"male\": 1}))\n",
    "train[0:4, [\"Sex\", \"Sex_num\"]]"
   ]
  },
  {
   "cell_type": "code",
   "execution_count": 27,
   "metadata": {},
   "outputs": [
    {
     "data": {
      "text/html": [
       "<div><style>\n",
       ".dataframe > thead > tr,\n",
       ".dataframe > tbody > tr {\n",
       "  text-align: right;\n",
       "  white-space: pre-wrap;\n",
       "}\n",
       "</style>\n",
       "<small>shape: (4, 2)</small><table border=\"1\" class=\"dataframe\"><thead><tr><th>Name</th><th>Name_length</th></tr><tr><td>str</td><td>u32</td></tr></thead><tbody><tr><td>&quot;Braund, Mr. Owen Harris&quot;</td><td>891</td></tr><tr><td>&quot;Cumings, Mrs. John Bradley (Fl…</td><td>891</td></tr><tr><td>&quot;Heikkinen, Miss. Laina&quot;</td><td>891</td></tr><tr><td>&quot;Futrelle, Mrs. Jacques Heath (…</td><td>891</td></tr></tbody></table></div>"
      ],
      "text/plain": [
       "shape: (4, 2)\n",
       "┌─────────────────────────────────┬─────────────┐\n",
       "│ Name                            ┆ Name_length │\n",
       "│ ---                             ┆ ---         │\n",
       "│ str                             ┆ u32         │\n",
       "╞═════════════════════════════════╪═════════════╡\n",
       "│ Braund, Mr. Owen Harris         ┆ 891         │\n",
       "│ Cumings, Mrs. John Bradley (Fl… ┆ 891         │\n",
       "│ Heikkinen, Miss. Laina          ┆ 891         │\n",
       "│ Futrelle, Mrs. Jacques Heath (… ┆ 891         │\n",
       "└─────────────────────────────────┴─────────────┘"
      ]
     },
     "execution_count": 27,
     "metadata": {},
     "output_type": "execute_result"
    }
   ],
   "source": [
    "# calculate the length of each string in the 'Name' Series\n",
    "train = train.with_columns(Name_length=pl.col(\"Name\").len())\n",
    "train[0:4, [\"Name\", \"Name_length\"]]"
   ]
  },
  {
   "cell_type": "code",
   "execution_count": 28,
   "metadata": {},
   "outputs": [
    {
     "data": {
      "text/html": [
       "<div><style>\n",
       ".dataframe > thead > tr,\n",
       ".dataframe > tbody > tr {\n",
       "  text-align: right;\n",
       "  white-space: pre-wrap;\n",
       "}\n",
       "</style>\n",
       "<small>shape: (10,)</small><table border=\"1\" class=\"dataframe\"><thead><tr><th>Name</th></tr><tr><td>list[str]</td></tr></thead><tbody><tr><td>[&quot;Braund&quot;, &quot; Mr. Owen Harris&quot;]</td></tr><tr><td>[&quot;Cumings&quot;, &quot; Mrs. John Bradley (Florence Briggs Thayer)&quot;]</td></tr><tr><td>[&quot;Heikkinen&quot;, &quot; Miss. Laina&quot;]</td></tr><tr><td>[&quot;Futrelle&quot;, &quot; Mrs. Jacques Heath (Lily May Peel)&quot;]</td></tr><tr><td>[&quot;Allen&quot;, &quot; Mr. William Henry&quot;]</td></tr><tr><td>[&quot;Moran&quot;, &quot; Mr. James&quot;]</td></tr><tr><td>[&quot;McCarthy&quot;, &quot; Mr. Timothy J&quot;]</td></tr><tr><td>[&quot;Palsson&quot;, &quot; Master. Gosta Leonard&quot;]</td></tr><tr><td>[&quot;Johnson&quot;, &quot; Mrs. Oscar W (Elisabeth Vilhelmina Berg)&quot;]</td></tr><tr><td>[&quot;Nasser&quot;, &quot; Mrs. Nicholas (Adele Achem)&quot;]</td></tr></tbody></table></div>"
      ],
      "text/plain": [
       "shape: (10,)\n",
       "Series: 'Name' [list[str]]\n",
       "[\n",
       "\t[\"Braund\", \" Mr. Owen Harris\"]\n",
       "\t[\"Cumings\", \" Mrs. John Bradley (Florence Briggs Thayer)\"]\n",
       "\t[\"Heikkinen\", \" Miss. Laina\"]\n",
       "\t[\"Futrelle\", \" Mrs. Jacques Heath (Lily May Peel)\"]\n",
       "\t[\"Allen\", \" Mr. William Henry\"]\n",
       "\t[\"Moran\", \" Mr. James\"]\n",
       "\t[\"McCarthy\", \" Mr. Timothy J\"]\n",
       "\t[\"Palsson\", \" Master. Gosta Leonard\"]\n",
       "\t[\"Johnson\", \" Mrs. Oscar W (Elisabeth Vilhelmina Berg)\"]\n",
       "\t[\"Nasser\", \" Mrs. Nicholas (Adele Achem)\"]\n",
       "]"
      ]
     },
     "execution_count": 28,
     "metadata": {},
     "output_type": "execute_result"
    }
   ],
   "source": [
    "# use a string method to split the 'Name' Series at commas (returns a Series of lists)\n",
    "train[\"Name\"].str.split(\",\").head()"
   ]
  },
  {
   "cell_type": "code",
   "execution_count": 29,
   "metadata": {},
   "outputs": [
    {
     "data": {
      "text/html": [
       "<div><style>\n",
       ".dataframe > thead > tr,\n",
       ".dataframe > tbody > tr {\n",
       "  text-align: right;\n",
       "  white-space: pre-wrap;\n",
       "}\n",
       "</style>\n",
       "<small>shape: (10,)</small><table border=\"1\" class=\"dataframe\"><thead><tr><th>Name</th></tr><tr><td>str</td></tr></thead><tbody><tr><td>&quot;Braund&quot;</td></tr><tr><td>&quot;Cumings&quot;</td></tr><tr><td>&quot;Heikkinen&quot;</td></tr><tr><td>&quot;Futrelle&quot;</td></tr><tr><td>&quot;Allen&quot;</td></tr><tr><td>&quot;Moran&quot;</td></tr><tr><td>&quot;McCarthy&quot;</td></tr><tr><td>&quot;Palsson&quot;</td></tr><tr><td>&quot;Johnson&quot;</td></tr><tr><td>&quot;Nasser&quot;</td></tr></tbody></table></div>"
      ],
      "text/plain": [
       "shape: (10,)\n",
       "Series: 'Name' [str]\n",
       "[\n",
       "\t\"Braund\"\n",
       "\t\"Cumings\"\n",
       "\t\"Heikkinen\"\n",
       "\t\"Futrelle\"\n",
       "\t\"Allen\"\n",
       "\t\"Moran\"\n",
       "\t\"McCarthy\"\n",
       "\t\"Palsson\"\n",
       "\t\"Johnson\"\n",
       "\t\"Nasser\"\n",
       "]"
      ]
     },
     "execution_count": 29,
     "metadata": {},
     "output_type": "execute_result"
    }
   ],
   "source": [
    "#  use a lambda function\n",
    "train[\"Name\"].str.split(\",\").map_elements(lambda x: x[0], return_dtype=pl.String).head()"
   ]
  },
  {
   "attachments": {},
   "cell_type": "markdown",
   "metadata": {},
   "source": [
    "### Pivot\n"
   ]
  },
  {
   "cell_type": "code",
   "execution_count": 30,
   "metadata": {},
   "outputs": [
    {
     "data": {
      "text/html": [
       "<div><style>\n",
       ".dataframe > thead > tr,\n",
       ".dataframe > tbody > tr {\n",
       "  text-align: right;\n",
       "  white-space: pre-wrap;\n",
       "}\n",
       "</style>\n",
       "<small>shape: (9, 4)</small><table border=\"1\" class=\"dataframe\"><thead><tr><th>Date</th><th>Close</th><th>Volume</th><th>Symbol</th></tr><tr><td>str</td><td>f64</td><td>i64</td><td>str</td></tr></thead><tbody><tr><td>&quot;2016-10-03&quot;</td><td>31.5</td><td>14070500</td><td>&quot;CSCO&quot;</td></tr><tr><td>&quot;2016-10-03&quot;</td><td>112.52</td><td>21701800</td><td>&quot;AAPL&quot;</td></tr><tr><td>&quot;2016-10-03&quot;</td><td>57.42</td><td>19189500</td><td>&quot;MSFT&quot;</td></tr><tr><td>&quot;2016-10-04&quot;</td><td>113.0</td><td>29736800</td><td>&quot;AAPL&quot;</td></tr><tr><td>&quot;2016-10-04&quot;</td><td>57.24</td><td>20085900</td><td>&quot;MSFT&quot;</td></tr><tr><td>&quot;2016-10-04&quot;</td><td>31.35</td><td>18460400</td><td>&quot;CSCO&quot;</td></tr><tr><td>&quot;2016-10-05&quot;</td><td>57.64</td><td>16726400</td><td>&quot;MSFT&quot;</td></tr><tr><td>&quot;2016-10-05&quot;</td><td>31.59</td><td>11808600</td><td>&quot;CSCO&quot;</td></tr><tr><td>&quot;2016-10-05&quot;</td><td>113.05</td><td>21453100</td><td>&quot;AAPL&quot;</td></tr></tbody></table></div>"
      ],
      "text/plain": [
       "shape: (9, 4)\n",
       "┌────────────┬────────┬──────────┬────────┐\n",
       "│ Date       ┆ Close  ┆ Volume   ┆ Symbol │\n",
       "│ ---        ┆ ---    ┆ ---      ┆ ---    │\n",
       "│ str        ┆ f64    ┆ i64      ┆ str    │\n",
       "╞════════════╪════════╪══════════╪════════╡\n",
       "│ 2016-10-03 ┆ 31.5   ┆ 14070500 ┆ CSCO   │\n",
       "│ 2016-10-03 ┆ 112.52 ┆ 21701800 ┆ AAPL   │\n",
       "│ 2016-10-03 ┆ 57.42  ┆ 19189500 ┆ MSFT   │\n",
       "│ 2016-10-04 ┆ 113.0  ┆ 29736800 ┆ AAPL   │\n",
       "│ 2016-10-04 ┆ 57.24  ┆ 20085900 ┆ MSFT   │\n",
       "│ 2016-10-04 ┆ 31.35  ┆ 18460400 ┆ CSCO   │\n",
       "│ 2016-10-05 ┆ 57.64  ┆ 16726400 ┆ MSFT   │\n",
       "│ 2016-10-05 ┆ 31.59  ┆ 11808600 ┆ CSCO   │\n",
       "│ 2016-10-05 ┆ 113.05 ┆ 21453100 ┆ AAPL   │\n",
       "└────────────┴────────┴──────────┴────────┘"
      ]
     },
     "execution_count": 30,
     "metadata": {},
     "output_type": "execute_result"
    }
   ],
   "source": [
    "stocks = pl.read_csv(\"data/stocks.csv\")\n",
    "stocks"
   ]
  },
  {
   "cell_type": "code",
   "execution_count": 31,
   "metadata": {},
   "outputs": [
    {
     "data": {
      "text/html": [
       "<div><style>\n",
       ".dataframe > thead > tr,\n",
       ".dataframe > tbody > tr {\n",
       "  text-align: right;\n",
       "  white-space: pre-wrap;\n",
       "}\n",
       "</style>\n",
       "<small>shape: (3, 4)</small><table border=\"1\" class=\"dataframe\"><thead><tr><th>Symbol</th><th>2016-10-03</th><th>2016-10-04</th><th>2016-10-05</th></tr><tr><td>str</td><td>f64</td><td>f64</td><td>f64</td></tr></thead><tbody><tr><td>&quot;CSCO&quot;</td><td>31.5</td><td>31.35</td><td>31.59</td></tr><tr><td>&quot;AAPL&quot;</td><td>112.52</td><td>113.0</td><td>113.05</td></tr><tr><td>&quot;MSFT&quot;</td><td>57.42</td><td>57.24</td><td>57.64</td></tr></tbody></table></div>"
      ],
      "text/plain": [
       "shape: (3, 4)\n",
       "┌────────┬────────────┬────────────┬────────────┐\n",
       "│ Symbol ┆ 2016-10-03 ┆ 2016-10-04 ┆ 2016-10-05 │\n",
       "│ ---    ┆ ---        ┆ ---        ┆ ---        │\n",
       "│ str    ┆ f64        ┆ f64        ┆ f64        │\n",
       "╞════════╪════════════╪════════════╪════════════╡\n",
       "│ CSCO   ┆ 31.5       ┆ 31.35      ┆ 31.59      │\n",
       "│ AAPL   ┆ 112.52     ┆ 113.0      ┆ 113.05     │\n",
       "│ MSFT   ┆ 57.42      ┆ 57.24      ┆ 57.64      │\n",
       "└────────┴────────────┴────────────┴────────────┘"
      ]
     },
     "execution_count": 31,
     "metadata": {},
     "output_type": "execute_result"
    }
   ],
   "source": [
    "stocks = stocks.pivot(values=\"Close\", index=\"Symbol\", on=\"Date\")\n",
    "stocks"
   ]
  },
  {
   "attachments": {},
   "cell_type": "markdown",
   "metadata": {},
   "source": [
    "## Clean\n"
   ]
  },
  {
   "attachments": {},
   "cell_type": "markdown",
   "metadata": {},
   "source": [
    "### Remove duplicate rows\n"
   ]
  },
  {
   "cell_type": "code",
   "execution_count": 32,
   "metadata": {},
   "outputs": [
    {
     "data": {
      "text/html": [
       "<div><style>\n",
       ".dataframe > thead > tr,\n",
       ".dataframe > tbody > tr {\n",
       "  text-align: right;\n",
       "  white-space: pre-wrap;\n",
       "}\n",
       "</style>\n",
       "<small>shape: (5, 5)</small><table border=\"1\" class=\"dataframe\"><thead><tr><th>user_id</th><th>age</th><th>gender</th><th>occupation</th><th>zip_code</th></tr><tr><td>i64</td><td>i64</td><td>str</td><td>str</td><td>str</td></tr></thead><tbody><tr><td>1</td><td>24</td><td>&quot;M&quot;</td><td>&quot;technician&quot;</td><td>&quot;85711&quot;</td></tr><tr><td>2</td><td>53</td><td>&quot;F&quot;</td><td>&quot;other&quot;</td><td>&quot;94043&quot;</td></tr><tr><td>3</td><td>23</td><td>&quot;M&quot;</td><td>&quot;writer&quot;</td><td>&quot;32067&quot;</td></tr><tr><td>4</td><td>24</td><td>&quot;M&quot;</td><td>&quot;technician&quot;</td><td>&quot;43537&quot;</td></tr><tr><td>5</td><td>33</td><td>&quot;F&quot;</td><td>&quot;other&quot;</td><td>&quot;15213&quot;</td></tr></tbody></table></div>"
      ],
      "text/plain": [
       "shape: (5, 5)\n",
       "┌─────────┬─────┬────────┬────────────┬──────────┐\n",
       "│ user_id ┆ age ┆ gender ┆ occupation ┆ zip_code │\n",
       "│ ---     ┆ --- ┆ ---    ┆ ---        ┆ ---      │\n",
       "│ i64     ┆ i64 ┆ str    ┆ str        ┆ str      │\n",
       "╞═════════╪═════╪════════╪════════════╪══════════╡\n",
       "│ 1       ┆ 24  ┆ M      ┆ technician ┆ 85711    │\n",
       "│ 2       ┆ 53  ┆ F      ┆ other      ┆ 94043    │\n",
       "│ 3       ┆ 23  ┆ M      ┆ writer     ┆ 32067    │\n",
       "│ 4       ┆ 24  ┆ M      ┆ technician ┆ 43537    │\n",
       "│ 5       ┆ 33  ┆ F      ┆ other      ┆ 15213    │\n",
       "└─────────┴─────┴────────┴────────────┴──────────┘"
      ]
     },
     "execution_count": 32,
     "metadata": {},
     "output_type": "execute_result"
    }
   ],
   "source": [
    "user_cols = [\"user_id\", \"age\", \"gender\", \"occupation\", \"zip_code\"]\n",
    "users = pl.read_csv(\"data/movie.user\", separator=\"|\", has_header=False)\n",
    "users.columns = user_cols\n",
    "users.head()"
   ]
  },
  {
   "cell_type": "code",
   "execution_count": 33,
   "metadata": {},
   "outputs": [
    {
     "data": {
      "text/plain": [
       "(943, 5)"
      ]
     },
     "execution_count": 33,
     "metadata": {},
     "output_type": "execute_result"
    }
   ],
   "source": [
    "users.shape"
   ]
  },
  {
   "cell_type": "code",
   "execution_count": 34,
   "metadata": {},
   "outputs": [
    {
     "data": {
      "text/plain": [
       "250"
      ]
     },
     "execution_count": 34,
     "metadata": {},
     "output_type": "execute_result"
    }
   ],
   "source": [
    "# count the duplicate items (True becomes 1, False becomes 0)\n",
    "users[\"zip_code\"].is_duplicated().sum()"
   ]
  },
  {
   "attachments": {},
   "cell_type": "markdown",
   "metadata": {},
   "source": [
    "### Detect missing values\n"
   ]
  },
  {
   "cell_type": "code",
   "execution_count": 35,
   "metadata": {},
   "outputs": [
    {
     "data": {
      "text/html": [
       "<div><style>\n",
       ".dataframe > thead > tr,\n",
       ".dataframe > tbody > tr {\n",
       "  text-align: right;\n",
       "  white-space: pre-wrap;\n",
       "}\n",
       "</style>\n",
       "<small>shape: (5, 5)</small><table border=\"1\" class=\"dataframe\"><thead><tr><th>City</th><th>Colors Reported</th><th>Shape Reported</th><th>State</th><th>Time</th></tr><tr><td>str</td><td>str</td><td>str</td><td>str</td><td>str</td></tr></thead><tbody><tr><td>&quot;Grant Park&quot;</td><td>null</td><td>&quot;TRIANGLE&quot;</td><td>&quot;IL&quot;</td><td>&quot;12/31/2000 23:00&quot;</td></tr><tr><td>&quot;Spirit Lake&quot;</td><td>null</td><td>&quot;DISK&quot;</td><td>&quot;IA&quot;</td><td>&quot;12/31/2000 23:00&quot;</td></tr><tr><td>&quot;Eagle River&quot;</td><td>null</td><td>null</td><td>&quot;WI&quot;</td><td>&quot;12/31/2000 23:45&quot;</td></tr><tr><td>&quot;Eagle River&quot;</td><td>&quot;RED&quot;</td><td>&quot;LIGHT&quot;</td><td>&quot;WI&quot;</td><td>&quot;12/31/2000 23:45&quot;</td></tr><tr><td>&quot;Ybor&quot;</td><td>null</td><td>&quot;OVAL&quot;</td><td>&quot;FL&quot;</td><td>&quot;12/31/2000 23:59&quot;</td></tr></tbody></table></div>"
      ],
      "text/plain": [
       "shape: (5, 5)\n",
       "┌─────────────┬─────────────────┬────────────────┬───────┬──────────────────┐\n",
       "│ City        ┆ Colors Reported ┆ Shape Reported ┆ State ┆ Time             │\n",
       "│ ---         ┆ ---             ┆ ---            ┆ ---   ┆ ---              │\n",
       "│ str         ┆ str             ┆ str            ┆ str   ┆ str              │\n",
       "╞═════════════╪═════════════════╪════════════════╪═══════╪══════════════════╡\n",
       "│ Grant Park  ┆ null            ┆ TRIANGLE       ┆ IL    ┆ 12/31/2000 23:00 │\n",
       "│ Spirit Lake ┆ null            ┆ DISK           ┆ IA    ┆ 12/31/2000 23:00 │\n",
       "│ Eagle River ┆ null            ┆ null           ┆ WI    ┆ 12/31/2000 23:45 │\n",
       "│ Eagle River ┆ RED             ┆ LIGHT          ┆ WI    ┆ 12/31/2000 23:45 │\n",
       "│ Ybor        ┆ null            ┆ OVAL           ┆ FL    ┆ 12/31/2000 23:59 │\n",
       "└─────────────┴─────────────────┴────────────────┴───────┴──────────────────┘"
      ]
     },
     "execution_count": 35,
     "metadata": {},
     "output_type": "execute_result"
    }
   ],
   "source": [
    "ufo = pl.read_csv(\"data/ufo.csv\")\n",
    "ufo.tail()"
   ]
  },
  {
   "cell_type": "code",
   "execution_count": 36,
   "metadata": {},
   "outputs": [
    {
     "data": {
      "text/html": [
       "<div><style>\n",
       ".dataframe > thead > tr,\n",
       ".dataframe > tbody > tr {\n",
       "  text-align: right;\n",
       "  white-space: pre-wrap;\n",
       "}\n",
       "</style>\n",
       "<small>shape: (18_241, 5)</small><table border=\"1\" class=\"dataframe\"><thead><tr><th>City</th><th>Colors Reported</th><th>Shape Reported</th><th>State</th><th>Time</th></tr><tr><td>bool</td><td>bool</td><td>bool</td><td>bool</td><td>bool</td></tr></thead><tbody><tr><td>false</td><td>true</td><td>false</td><td>false</td><td>false</td></tr><tr><td>false</td><td>true</td><td>false</td><td>false</td><td>false</td></tr><tr><td>false</td><td>true</td><td>false</td><td>false</td><td>false</td></tr><tr><td>false</td><td>true</td><td>false</td><td>false</td><td>false</td></tr><tr><td>false</td><td>true</td><td>false</td><td>false</td><td>false</td></tr><tr><td>&hellip;</td><td>&hellip;</td><td>&hellip;</td><td>&hellip;</td><td>&hellip;</td></tr><tr><td>false</td><td>true</td><td>false</td><td>false</td><td>false</td></tr><tr><td>false</td><td>true</td><td>false</td><td>false</td><td>false</td></tr><tr><td>false</td><td>true</td><td>true</td><td>false</td><td>false</td></tr><tr><td>false</td><td>false</td><td>false</td><td>false</td><td>false</td></tr><tr><td>false</td><td>true</td><td>false</td><td>false</td><td>false</td></tr></tbody></table></div>"
      ],
      "text/plain": [
       "shape: (18_241, 5)\n",
       "┌───────┬─────────────────┬────────────────┬───────┬───────┐\n",
       "│ City  ┆ Colors Reported ┆ Shape Reported ┆ State ┆ Time  │\n",
       "│ ---   ┆ ---             ┆ ---            ┆ ---   ┆ ---   │\n",
       "│ bool  ┆ bool            ┆ bool           ┆ bool  ┆ bool  │\n",
       "╞═══════╪═════════════════╪════════════════╪═══════╪═══════╡\n",
       "│ false ┆ true            ┆ false          ┆ false ┆ false │\n",
       "│ false ┆ true            ┆ false          ┆ false ┆ false │\n",
       "│ false ┆ true            ┆ false          ┆ false ┆ false │\n",
       "│ false ┆ true            ┆ false          ┆ false ┆ false │\n",
       "│ false ┆ true            ┆ false          ┆ false ┆ false │\n",
       "│ …     ┆ …               ┆ …              ┆ …     ┆ …     │\n",
       "│ false ┆ true            ┆ false          ┆ false ┆ false │\n",
       "│ false ┆ true            ┆ false          ┆ false ┆ false │\n",
       "│ false ┆ true            ┆ true           ┆ false ┆ false │\n",
       "│ false ┆ false           ┆ false          ┆ false ┆ false │\n",
       "│ false ┆ true            ┆ false          ┆ false ┆ false │\n",
       "└───────┴─────────────────┴────────────────┴───────┴───────┘"
      ]
     },
     "execution_count": 36,
     "metadata": {},
     "output_type": "execute_result"
    }
   ],
   "source": [
    "ufo.select(pl.all().is_null())"
   ]
  },
  {
   "cell_type": "code",
   "execution_count": 37,
   "metadata": {},
   "outputs": [
    {
     "data": {
      "text/html": [
       "<div><style>\n",
       ".dataframe > thead > tr,\n",
       ".dataframe > tbody > tr {\n",
       "  text-align: right;\n",
       "  white-space: pre-wrap;\n",
       "}\n",
       "</style>\n",
       "<small>shape: (18_241, 5)</small><table border=\"1\" class=\"dataframe\"><thead><tr><th>City</th><th>Colors Reported</th><th>Shape Reported</th><th>State</th><th>Time</th></tr><tr><td>bool</td><td>bool</td><td>bool</td><td>bool</td><td>bool</td></tr></thead><tbody><tr><td>true</td><td>false</td><td>true</td><td>true</td><td>true</td></tr><tr><td>true</td><td>false</td><td>true</td><td>true</td><td>true</td></tr><tr><td>true</td><td>false</td><td>true</td><td>true</td><td>true</td></tr><tr><td>true</td><td>false</td><td>true</td><td>true</td><td>true</td></tr><tr><td>true</td><td>false</td><td>true</td><td>true</td><td>true</td></tr><tr><td>&hellip;</td><td>&hellip;</td><td>&hellip;</td><td>&hellip;</td><td>&hellip;</td></tr><tr><td>true</td><td>false</td><td>true</td><td>true</td><td>true</td></tr><tr><td>true</td><td>false</td><td>true</td><td>true</td><td>true</td></tr><tr><td>true</td><td>false</td><td>false</td><td>true</td><td>true</td></tr><tr><td>true</td><td>true</td><td>true</td><td>true</td><td>true</td></tr><tr><td>true</td><td>false</td><td>true</td><td>true</td><td>true</td></tr></tbody></table></div>"
      ],
      "text/plain": [
       "shape: (18_241, 5)\n",
       "┌──────┬─────────────────┬────────────────┬───────┬──────┐\n",
       "│ City ┆ Colors Reported ┆ Shape Reported ┆ State ┆ Time │\n",
       "│ ---  ┆ ---             ┆ ---            ┆ ---   ┆ ---  │\n",
       "│ bool ┆ bool            ┆ bool           ┆ bool  ┆ bool │\n",
       "╞══════╪═════════════════╪════════════════╪═══════╪══════╡\n",
       "│ true ┆ false           ┆ true           ┆ true  ┆ true │\n",
       "│ true ┆ false           ┆ true           ┆ true  ┆ true │\n",
       "│ true ┆ false           ┆ true           ┆ true  ┆ true │\n",
       "│ true ┆ false           ┆ true           ┆ true  ┆ true │\n",
       "│ true ┆ false           ┆ true           ┆ true  ┆ true │\n",
       "│ …    ┆ …               ┆ …              ┆ …     ┆ …    │\n",
       "│ true ┆ false           ┆ true           ┆ true  ┆ true │\n",
       "│ true ┆ false           ┆ true           ┆ true  ┆ true │\n",
       "│ true ┆ false           ┆ false          ┆ true  ┆ true │\n",
       "│ true ┆ true            ┆ true           ┆ true  ┆ true │\n",
       "│ true ┆ false           ┆ true           ┆ true  ┆ true │\n",
       "└──────┴─────────────────┴────────────────┴───────┴──────┘"
      ]
     },
     "execution_count": 37,
     "metadata": {},
     "output_type": "execute_result"
    }
   ],
   "source": [
    "ufo.select(pl.all().is_not_null())"
   ]
  },
  {
   "cell_type": "code",
   "execution_count": 38,
   "metadata": {},
   "outputs": [
    {
     "data": {
      "text/html": [
       "<div><style>\n",
       ".dataframe > thead > tr,\n",
       ".dataframe > tbody > tr {\n",
       "  text-align: right;\n",
       "  white-space: pre-wrap;\n",
       "}\n",
       "</style>\n",
       "<small>shape: (1, 5)</small><table border=\"1\" class=\"dataframe\"><thead><tr><th>City</th><th>Colors Reported</th><th>Shape Reported</th><th>State</th><th>Time</th></tr><tr><td>u32</td><td>u32</td><td>u32</td><td>u32</td><td>u32</td></tr></thead><tbody><tr><td>25</td><td>15359</td><td>2644</td><td>0</td><td>0</td></tr></tbody></table></div>"
      ],
      "text/plain": [
       "shape: (1, 5)\n",
       "┌──────┬─────────────────┬────────────────┬───────┬──────┐\n",
       "│ City ┆ Colors Reported ┆ Shape Reported ┆ State ┆ Time │\n",
       "│ ---  ┆ ---             ┆ ---            ┆ ---   ┆ ---  │\n",
       "│ u32  ┆ u32             ┆ u32            ┆ u32   ┆ u32  │\n",
       "╞══════╪═════════════════╪════════════════╪═══════╪══════╡\n",
       "│ 25   ┆ 15359           ┆ 2644           ┆ 0     ┆ 0    │\n",
       "└──────┴─────────────────┴────────────────┴───────┴──────┘"
      ]
     },
     "execution_count": 38,
     "metadata": {},
     "output_type": "execute_result"
    }
   ],
   "source": [
    "# count the number of missing values in each Series\n",
    "ufo.select(ufo.select(pl.all().is_null()).sum())"
   ]
  },
  {
   "cell_type": "code",
   "execution_count": 39,
   "metadata": {},
   "outputs": [
    {
     "data": {
      "text/plain": [
       "(2486, 5)"
      ]
     },
     "execution_count": 39,
     "metadata": {},
     "output_type": "execute_result"
    }
   ],
   "source": [
    "# if 'any' values are missing in a row, then drop that row\n",
    "ufo.drop_nulls().shape"
   ]
  },
  {
   "cell_type": "code",
   "execution_count": 40,
   "metadata": {},
   "outputs": [
    {
     "data": {
      "text/plain": [
       "(18241, 5)"
      ]
     },
     "execution_count": 40,
     "metadata": {},
     "output_type": "execute_result"
    }
   ],
   "source": [
    "# if 'all' values are missing in a row, then drop that row (none are dropped in this case)\n",
    "ufo.filter(~pl.all_horizontal(pl.all().is_null())).shape"
   ]
  },
  {
   "cell_type": "code",
   "execution_count": null,
   "metadata": {},
   "outputs": [],
   "source": []
  },
  {
   "cell_type": "code",
   "execution_count": 41,
   "metadata": {},
   "outputs": [
    {
     "data": {
      "text/plain": [
       "(18237, 5)"
      ]
     },
     "execution_count": 41,
     "metadata": {},
     "output_type": "execute_result"
    }
   ],
   "source": [
    "# if 'any' values are missing in a row (considering only 'City' and 'Shape Reported'), then drop that row\n",
    "ufo.filter(~pl.all_horizontal(pl.col([\"City\", \"Shape Reported\"]).is_null())).shape"
   ]
  },
  {
   "cell_type": "code",
   "execution_count": 42,
   "metadata": {},
   "outputs": [
    {
     "data": {
      "text/html": [
       "<div><style>\n",
       ".dataframe > thead > tr,\n",
       ".dataframe > tbody > tr {\n",
       "  text-align: right;\n",
       "  white-space: pre-wrap;\n",
       "}\n",
       "</style>\n",
       "<small>shape: (28, 2)</small><table border=\"1\" class=\"dataframe\"><thead><tr><th>Shape Reported</th><th>count</th></tr><tr><td>str</td><td>u32</td></tr></thead><tbody><tr><td>&quot;CYLINDER&quot;</td><td>294</td></tr><tr><td>&quot;OTHER&quot;</td><td>1402</td></tr><tr><td>&quot;CRESCENT&quot;</td><td>2</td></tr><tr><td>null</td><td>2644</td></tr><tr><td>&quot;ROUND&quot;</td><td>2</td></tr><tr><td>&hellip;</td><td>&hellip;</td></tr><tr><td>&quot;TEARDROP&quot;</td><td>119</td></tr><tr><td>&quot;VARIOUS&quot;</td><td>333</td></tr><tr><td>&quot;HEXAGON&quot;</td><td>1</td></tr><tr><td>&quot;DELTA&quot;</td><td>7</td></tr><tr><td>&quot;OVAL&quot;</td><td>845</td></tr></tbody></table></div>"
      ],
      "text/plain": [
       "shape: (28, 2)\n",
       "┌────────────────┬───────┐\n",
       "│ Shape Reported ┆ count │\n",
       "│ ---            ┆ ---   │\n",
       "│ str            ┆ u32   │\n",
       "╞════════════════╪═══════╡\n",
       "│ CYLINDER       ┆ 294   │\n",
       "│ OTHER          ┆ 1402  │\n",
       "│ CRESCENT       ┆ 2     │\n",
       "│ null           ┆ 2644  │\n",
       "│ ROUND          ┆ 2     │\n",
       "│ …              ┆ …     │\n",
       "│ TEARDROP       ┆ 119   │\n",
       "│ VARIOUS        ┆ 333   │\n",
       "│ HEXAGON        ┆ 1     │\n",
       "│ DELTA          ┆ 7     │\n",
       "│ OVAL           ┆ 845   │\n",
       "└────────────────┴───────┘"
      ]
     },
     "execution_count": 42,
     "metadata": {},
     "output_type": "execute_result"
    }
   ],
   "source": [
    "# 'value_counts' does not include missing values by default\n",
    "ufo[\"Shape Reported\"].value_counts()"
   ]
  },
  {
   "attachments": {},
   "cell_type": "markdown",
   "metadata": {},
   "source": [
    "### Fill missing values\n"
   ]
  },
  {
   "cell_type": "code",
   "execution_count": 43,
   "metadata": {},
   "outputs": [
    {
     "data": {
      "text/html": [
       "<div><style>\n",
       ".dataframe > thead > tr,\n",
       ".dataframe > tbody > tr {\n",
       "  text-align: right;\n",
       "  white-space: pre-wrap;\n",
       "}\n",
       "</style>\n",
       "<small>shape: (18_241, 5)</small><table border=\"1\" class=\"dataframe\"><thead><tr><th>City</th><th>Colors Reported</th><th>Shape Reported</th><th>State</th><th>Time</th></tr><tr><td>str</td><td>str</td><td>str</td><td>str</td><td>str</td></tr></thead><tbody><tr><td>&quot;Ithaca&quot;</td><td>&quot;UNKNOWN&quot;</td><td>&quot;TRIANGLE&quot;</td><td>&quot;NY&quot;</td><td>&quot;6/1/1930 22:00&quot;</td></tr><tr><td>&quot;Willingboro&quot;</td><td>&quot;UNKNOWN&quot;</td><td>&quot;OTHER&quot;</td><td>&quot;NJ&quot;</td><td>&quot;6/30/1930 20:00&quot;</td></tr><tr><td>&quot;Holyoke&quot;</td><td>&quot;UNKNOWN&quot;</td><td>&quot;OVAL&quot;</td><td>&quot;CO&quot;</td><td>&quot;2/15/1931 14:00&quot;</td></tr><tr><td>&quot;Abilene&quot;</td><td>&quot;UNKNOWN&quot;</td><td>&quot;DISK&quot;</td><td>&quot;KS&quot;</td><td>&quot;6/1/1931 13:00&quot;</td></tr><tr><td>&quot;New York Worlds Fair&quot;</td><td>&quot;UNKNOWN&quot;</td><td>&quot;LIGHT&quot;</td><td>&quot;NY&quot;</td><td>&quot;4/18/1933 19:00&quot;</td></tr><tr><td>&hellip;</td><td>&hellip;</td><td>&hellip;</td><td>&hellip;</td><td>&hellip;</td></tr><tr><td>&quot;Grant Park&quot;</td><td>&quot;UNKNOWN&quot;</td><td>&quot;TRIANGLE&quot;</td><td>&quot;IL&quot;</td><td>&quot;12/31/2000 23:00&quot;</td></tr><tr><td>&quot;Spirit Lake&quot;</td><td>&quot;UNKNOWN&quot;</td><td>&quot;DISK&quot;</td><td>&quot;IA&quot;</td><td>&quot;12/31/2000 23:00&quot;</td></tr><tr><td>&quot;Eagle River&quot;</td><td>&quot;UNKNOWN&quot;</td><td>&quot;VARIOUS&quot;</td><td>&quot;WI&quot;</td><td>&quot;12/31/2000 23:45&quot;</td></tr><tr><td>&quot;Eagle River&quot;</td><td>&quot;RED&quot;</td><td>&quot;LIGHT&quot;</td><td>&quot;WI&quot;</td><td>&quot;12/31/2000 23:45&quot;</td></tr><tr><td>&quot;Ybor&quot;</td><td>&quot;UNKNOWN&quot;</td><td>&quot;OVAL&quot;</td><td>&quot;FL&quot;</td><td>&quot;12/31/2000 23:59&quot;</td></tr></tbody></table></div>"
      ],
      "text/plain": [
       "shape: (18_241, 5)\n",
       "┌──────────────────────┬─────────────────┬────────────────┬───────┬──────────────────┐\n",
       "│ City                 ┆ Colors Reported ┆ Shape Reported ┆ State ┆ Time             │\n",
       "│ ---                  ┆ ---             ┆ ---            ┆ ---   ┆ ---              │\n",
       "│ str                  ┆ str             ┆ str            ┆ str   ┆ str              │\n",
       "╞══════════════════════╪═════════════════╪════════════════╪═══════╪══════════════════╡\n",
       "│ Ithaca               ┆ UNKNOWN         ┆ TRIANGLE       ┆ NY    ┆ 6/1/1930 22:00   │\n",
       "│ Willingboro          ┆ UNKNOWN         ┆ OTHER          ┆ NJ    ┆ 6/30/1930 20:00  │\n",
       "│ Holyoke              ┆ UNKNOWN         ┆ OVAL           ┆ CO    ┆ 2/15/1931 14:00  │\n",
       "│ Abilene              ┆ UNKNOWN         ┆ DISK           ┆ KS    ┆ 6/1/1931 13:00   │\n",
       "│ New York Worlds Fair ┆ UNKNOWN         ┆ LIGHT          ┆ NY    ┆ 4/18/1933 19:00  │\n",
       "│ …                    ┆ …               ┆ …              ┆ …     ┆ …                │\n",
       "│ Grant Park           ┆ UNKNOWN         ┆ TRIANGLE       ┆ IL    ┆ 12/31/2000 23:00 │\n",
       "│ Spirit Lake          ┆ UNKNOWN         ┆ DISK           ┆ IA    ┆ 12/31/2000 23:00 │\n",
       "│ Eagle River          ┆ UNKNOWN         ┆ VARIOUS        ┆ WI    ┆ 12/31/2000 23:45 │\n",
       "│ Eagle River          ┆ RED             ┆ LIGHT          ┆ WI    ┆ 12/31/2000 23:45 │\n",
       "│ Ybor                 ┆ UNKNOWN         ┆ OVAL           ┆ FL    ┆ 12/31/2000 23:59 │\n",
       "└──────────────────────┴─────────────────┴────────────────┴───────┴──────────────────┘"
      ]
     },
     "execution_count": 43,
     "metadata": {},
     "output_type": "execute_result"
    }
   ],
   "source": [
    "# fill in missing values with a specified value\n",
    "ufo.with_columns([\n",
    "    pl.col(\"Shape Reported\").fill_null(value=\"VARIOUS\"),\n",
    "    pl.col(\"Colors Reported\").fill_null(value=\"UNKNOWN\"),\n",
    "])"
   ]
  },
  {
   "cell_type": "code",
   "execution_count": 44,
   "metadata": {},
   "outputs": [
    {
     "data": {
      "text/html": [
       "<div><style>\n",
       ".dataframe > thead > tr,\n",
       ".dataframe > tbody > tr {\n",
       "  text-align: right;\n",
       "  white-space: pre-wrap;\n",
       "}\n",
       "</style>\n",
       "<small>shape: (5, 2)</small><table border=\"1\" class=\"dataframe\"><thead><tr><th>Shape Reported</th><th>count</th></tr><tr><td>str</td><td>u32</td></tr></thead><tbody><tr><td>&quot;CHEVRON&quot;</td><td>248</td></tr><tr><td>&quot;CIGAR&quot;</td><td>617</td></tr><tr><td>&quot;OVAL&quot;</td><td>845</td></tr><tr><td>&quot;OTHER&quot;</td><td>1402</td></tr><tr><td>&quot;FORMATION&quot;</td><td>434</td></tr></tbody></table></div>"
      ],
      "text/plain": [
       "shape: (5, 2)\n",
       "┌────────────────┬───────┐\n",
       "│ Shape Reported ┆ count │\n",
       "│ ---            ┆ ---   │\n",
       "│ str            ┆ u32   │\n",
       "╞════════════════╪═══════╡\n",
       "│ CHEVRON        ┆ 248   │\n",
       "│ CIGAR          ┆ 617   │\n",
       "│ OVAL           ┆ 845   │\n",
       "│ OTHER          ┆ 1402  │\n",
       "│ FORMATION      ┆ 434   │\n",
       "└────────────────┴───────┘"
      ]
     },
     "execution_count": 44,
     "metadata": {},
     "output_type": "execute_result"
    }
   ],
   "source": [
    "# confirm that the missing values were filled in\n",
    "ufo[\"Shape Reported\"].value_counts().head()"
   ]
  },
  {
   "cell_type": "code",
   "execution_count": 45,
   "metadata": {},
   "outputs": [
    {
     "data": {
      "text/html": [
       "<div><style>\n",
       ".dataframe > thead > tr,\n",
       ".dataframe > tbody > tr {\n",
       "  text-align: right;\n",
       "  white-space: pre-wrap;\n",
       "}\n",
       "</style>\n",
       "<small>shape: (5, 5)</small><table border=\"1\" class=\"dataframe\"><thead><tr><th>City</th><th>Colors Reported</th><th>Shape Reported</th><th>State</th><th>Time</th></tr><tr><td>str</td><td>str</td><td>str</td><td>str</td><td>str</td></tr></thead><tbody><tr><td>&quot;Grant Park&quot;</td><td>&quot;RED&quot;</td><td>&quot;TRIANGLE&quot;</td><td>&quot;IL&quot;</td><td>&quot;12/31/2000 23:00&quot;</td></tr><tr><td>&quot;Spirit Lake&quot;</td><td>&quot;RED&quot;</td><td>&quot;DISK&quot;</td><td>&quot;IA&quot;</td><td>&quot;12/31/2000 23:00&quot;</td></tr><tr><td>&quot;Eagle River&quot;</td><td>&quot;RED&quot;</td><td>&quot;DISK&quot;</td><td>&quot;WI&quot;</td><td>&quot;12/31/2000 23:45&quot;</td></tr><tr><td>&quot;Eagle River&quot;</td><td>&quot;RED&quot;</td><td>&quot;LIGHT&quot;</td><td>&quot;WI&quot;</td><td>&quot;12/31/2000 23:45&quot;</td></tr><tr><td>&quot;Ybor&quot;</td><td>&quot;RED&quot;</td><td>&quot;OVAL&quot;</td><td>&quot;FL&quot;</td><td>&quot;12/31/2000 23:59&quot;</td></tr></tbody></table></div>"
      ],
      "text/plain": [
       "shape: (5, 5)\n",
       "┌─────────────┬─────────────────┬────────────────┬───────┬──────────────────┐\n",
       "│ City        ┆ Colors Reported ┆ Shape Reported ┆ State ┆ Time             │\n",
       "│ ---         ┆ ---             ┆ ---            ┆ ---   ┆ ---              │\n",
       "│ str         ┆ str             ┆ str            ┆ str   ┆ str              │\n",
       "╞═════════════╪═════════════════╪════════════════╪═══════╪══════════════════╡\n",
       "│ Grant Park  ┆ RED             ┆ TRIANGLE       ┆ IL    ┆ 12/31/2000 23:00 │\n",
       "│ Spirit Lake ┆ RED             ┆ DISK           ┆ IA    ┆ 12/31/2000 23:00 │\n",
       "│ Eagle River ┆ RED             ┆ DISK           ┆ WI    ┆ 12/31/2000 23:45 │\n",
       "│ Eagle River ┆ RED             ┆ LIGHT          ┆ WI    ┆ 12/31/2000 23:45 │\n",
       "│ Ybor        ┆ RED             ┆ OVAL           ┆ FL    ┆ 12/31/2000 23:59 │\n",
       "└─────────────┴─────────────────┴────────────────┴───────┴──────────────────┘"
      ]
     },
     "execution_count": 45,
     "metadata": {},
     "output_type": "execute_result"
    }
   ],
   "source": [
    "# fill missing values using \"backward fill\" strategy (doesn't affect the DataFrame since inplace=False)\n",
    "ufo.fill_null(strategy=\"forward\").tail()"
   ]
  },
  {
   "cell_type": "code",
   "execution_count": 46,
   "metadata": {},
   "outputs": [
    {
     "data": {
      "text/html": [
       "<div><style>\n",
       ".dataframe > thead > tr,\n",
       ".dataframe > tbody > tr {\n",
       "  text-align: right;\n",
       "  white-space: pre-wrap;\n",
       "}\n",
       "</style>\n",
       "<small>shape: (5, 5)</small><table border=\"1\" class=\"dataframe\"><thead><tr><th>City</th><th>Colors Reported</th><th>Shape Reported</th><th>State</th><th>Time</th></tr><tr><td>str</td><td>str</td><td>str</td><td>str</td><td>str</td></tr></thead><tbody><tr><td>&quot;Grant Park&quot;</td><td>&quot;RED&quot;</td><td>&quot;TRIANGLE&quot;</td><td>&quot;IL&quot;</td><td>&quot;12/31/2000 23:00&quot;</td></tr><tr><td>&quot;Spirit Lake&quot;</td><td>&quot;RED&quot;</td><td>&quot;DISK&quot;</td><td>&quot;IA&quot;</td><td>&quot;12/31/2000 23:00&quot;</td></tr><tr><td>&quot;Eagle River&quot;</td><td>&quot;RED&quot;</td><td>&quot;LIGHT&quot;</td><td>&quot;WI&quot;</td><td>&quot;12/31/2000 23:45&quot;</td></tr><tr><td>&quot;Eagle River&quot;</td><td>&quot;RED&quot;</td><td>&quot;LIGHT&quot;</td><td>&quot;WI&quot;</td><td>&quot;12/31/2000 23:45&quot;</td></tr><tr><td>&quot;Ybor&quot;</td><td>null</td><td>&quot;OVAL&quot;</td><td>&quot;FL&quot;</td><td>&quot;12/31/2000 23:59&quot;</td></tr></tbody></table></div>"
      ],
      "text/plain": [
       "shape: (5, 5)\n",
       "┌─────────────┬─────────────────┬────────────────┬───────┬──────────────────┐\n",
       "│ City        ┆ Colors Reported ┆ Shape Reported ┆ State ┆ Time             │\n",
       "│ ---         ┆ ---             ┆ ---            ┆ ---   ┆ ---              │\n",
       "│ str         ┆ str             ┆ str            ┆ str   ┆ str              │\n",
       "╞═════════════╪═════════════════╪════════════════╪═══════╪══════════════════╡\n",
       "│ Grant Park  ┆ RED             ┆ TRIANGLE       ┆ IL    ┆ 12/31/2000 23:00 │\n",
       "│ Spirit Lake ┆ RED             ┆ DISK           ┆ IA    ┆ 12/31/2000 23:00 │\n",
       "│ Eagle River ┆ RED             ┆ LIGHT          ┆ WI    ┆ 12/31/2000 23:45 │\n",
       "│ Eagle River ┆ RED             ┆ LIGHT          ┆ WI    ┆ 12/31/2000 23:45 │\n",
       "│ Ybor        ┆ null            ┆ OVAL           ┆ FL    ┆ 12/31/2000 23:59 │\n",
       "└─────────────┴─────────────────┴────────────────┴───────┴──────────────────┘"
      ]
     },
     "execution_count": 46,
     "metadata": {},
     "output_type": "execute_result"
    }
   ],
   "source": [
    "# compare with \"forward fill\" strategy (doesn't affect the DataFrame since inplace=False)\n",
    "ufo.fill_null(strategy=\"backward\").tail()"
   ]
  },
  {
   "attachments": {},
   "cell_type": "markdown",
   "metadata": {},
   "source": [
    "### Outliers (clip)\n"
   ]
  },
  {
   "cell_type": "code",
   "execution_count": 47,
   "metadata": {},
   "outputs": [
    {
     "data": {
      "text/html": [
       "<div><style>\n",
       ".dataframe > thead > tr,\n",
       ".dataframe > tbody > tr {\n",
       "  text-align: right;\n",
       "  white-space: pre-wrap;\n",
       "}\n",
       "</style>\n",
       "<small>shape: (193,)</small><table border=\"1\" class=\"dataframe\"><thead><tr><th>wine_servings</th></tr><tr><td>i64</td></tr></thead><tbody><tr><td>10</td></tr><tr><td>54</td></tr><tr><td>14</td></tr><tr><td>300</td></tr><tr><td>45</td></tr><tr><td>&hellip;</td></tr><tr><td>10</td></tr><tr><td>10</td></tr><tr><td>10</td></tr><tr><td>10</td></tr><tr><td>10</td></tr></tbody></table></div>"
      ],
      "text/plain": [
       "shape: (193,)\n",
       "Series: 'wine_servings' [i64]\n",
       "[\n",
       "\t10\n",
       "\t54\n",
       "\t14\n",
       "\t300\n",
       "\t45\n",
       "\t…\n",
       "\t10\n",
       "\t10\n",
       "\t10\n",
       "\t10\n",
       "\t10\n",
       "]"
      ]
     },
     "execution_count": 47,
     "metadata": {},
     "output_type": "execute_result"
    }
   ],
   "source": [
    "drinks[\"wine_servings\"].clip(10, 300)"
   ]
  },
  {
   "attachments": {},
   "cell_type": "markdown",
   "metadata": {},
   "source": [
    "## String & Time\n"
   ]
  },
  {
   "cell_type": "code",
   "execution_count": 48,
   "metadata": {},
   "outputs": [
    {
     "data": {
      "text/html": [
       "<div><style>\n",
       ".dataframe > thead > tr,\n",
       ".dataframe > tbody > tr {\n",
       "  text-align: right;\n",
       "  white-space: pre-wrap;\n",
       "}\n",
       "</style>\n",
       "<small>shape: (5, 6)</small><table border=\"1\" class=\"dataframe\"><thead><tr><th>country</th><th>beer_servings</th><th>spirit_servings</th><th>wine_servings</th><th>total_litres_of_pure_alcohol</th><th>continent</th></tr><tr><td>str</td><td>i64</td><td>i64</td><td>i64</td><td>f64</td><td>str</td></tr></thead><tbody><tr><td>&quot;Afghanistan&quot;</td><td>0</td><td>0</td><td>0</td><td>0.0</td><td>&quot;Asia&quot;</td></tr><tr><td>&quot;Albania&quot;</td><td>89</td><td>132</td><td>54</td><td>4.9</td><td>&quot;Europe&quot;</td></tr><tr><td>&quot;Algeria&quot;</td><td>25</td><td>0</td><td>14</td><td>0.7</td><td>&quot;Africa&quot;</td></tr><tr><td>&quot;Andorra&quot;</td><td>245</td><td>138</td><td>312</td><td>12.4</td><td>&quot;Europe&quot;</td></tr><tr><td>&quot;Angola&quot;</td><td>217</td><td>57</td><td>45</td><td>5.9</td><td>&quot;Africa&quot;</td></tr></tbody></table></div>"
      ],
      "text/plain": [
       "shape: (5, 6)\n",
       "┌─────────────┬───────────────┬─────────────────┬───────────────┬──────────────────────┬───────────┐\n",
       "│ country     ┆ beer_servings ┆ spirit_servings ┆ wine_servings ┆ total_litres_of_pure ┆ continent │\n",
       "│ ---         ┆ ---           ┆ ---             ┆ ---           ┆ _alcohol             ┆ ---       │\n",
       "│ str         ┆ i64           ┆ i64             ┆ i64           ┆ ---                  ┆ str       │\n",
       "│             ┆               ┆                 ┆               ┆ f64                  ┆           │\n",
       "╞═════════════╪═══════════════╪═════════════════╪═══════════════╪══════════════════════╪═══════════╡\n",
       "│ Afghanistan ┆ 0             ┆ 0               ┆ 0             ┆ 0.0                  ┆ Asia      │\n",
       "│ Albania     ┆ 89            ┆ 132             ┆ 54            ┆ 4.9                  ┆ Europe    │\n",
       "│ Algeria     ┆ 25            ┆ 0               ┆ 14            ┆ 0.7                  ┆ Africa    │\n",
       "│ Andorra     ┆ 245           ┆ 138             ┆ 312           ┆ 12.4                 ┆ Europe    │\n",
       "│ Angola      ┆ 217           ┆ 57              ┆ 45            ┆ 5.9                  ┆ Africa    │\n",
       "└─────────────┴───────────────┴─────────────────┴───────────────┴──────────────────────┴───────────┘"
      ]
     },
     "execution_count": 48,
     "metadata": {},
     "output_type": "execute_result"
    }
   ],
   "source": [
    "drinks = pl.read_csv(\"data/drinks.csv\")\n",
    "drinks.head()"
   ]
  },
  {
   "attachments": {},
   "cell_type": "markdown",
   "metadata": {},
   "source": [
    "### Use string methods\n"
   ]
  },
  {
   "cell_type": "code",
   "execution_count": 49,
   "metadata": {},
   "outputs": [
    {
     "data": {
      "text/html": [
       "<div><style>\n",
       ".dataframe > thead > tr,\n",
       ".dataframe > tbody > tr {\n",
       "  text-align: right;\n",
       "  white-space: pre-wrap;\n",
       "}\n",
       "</style>\n",
       "<small>shape: (5, 5)</small><table border=\"1\" class=\"dataframe\"><thead><tr><th>order_id</th><th>quantity</th><th>item_name</th><th>choice_description</th><th>item_price</th></tr><tr><td>i64</td><td>i64</td><td>str</td><td>str</td><td>str</td></tr></thead><tbody><tr><td>1</td><td>1</td><td>&quot;Chips and Fresh Tomato Salsa&quot;</td><td>&quot;NULL&quot;</td><td>&quot;$2.39&quot;</td></tr><tr><td>1</td><td>1</td><td>&quot;Izze&quot;</td><td>&quot;[Clementine]&quot;</td><td>&quot;$3.39&quot;</td></tr><tr><td>1</td><td>1</td><td>&quot;Nantucket Nectar&quot;</td><td>&quot;[Apple]&quot;</td><td>&quot;$3.39&quot;</td></tr><tr><td>1</td><td>1</td><td>&quot;Chips and Tomatillo-Green Chil…</td><td>&quot;NULL&quot;</td><td>&quot;$2.39&quot;</td></tr><tr><td>2</td><td>2</td><td>&quot;Chicken Bowl&quot;</td><td>&quot;[Tomatillo-Red Chili Salsa (Ho…</td><td>&quot;$16.98&quot;</td></tr></tbody></table></div>"
      ],
      "text/plain": [
       "shape: (5, 5)\n",
       "┌──────────┬──────────┬──────────────────────────────────┬────────────────────────────┬────────────┐\n",
       "│ order_id ┆ quantity ┆ item_name                        ┆ choice_description         ┆ item_price │\n",
       "│ ---      ┆ ---      ┆ ---                              ┆ ---                        ┆ ---        │\n",
       "│ i64      ┆ i64      ┆ str                              ┆ str                        ┆ str        │\n",
       "╞══════════╪══════════╪══════════════════════════════════╪════════════════════════════╪════════════╡\n",
       "│ 1        ┆ 1        ┆ Chips and Fresh Tomato Salsa     ┆ NULL                       ┆ $2.39      │\n",
       "│ 1        ┆ 1        ┆ Izze                             ┆ [Clementine]               ┆ $3.39      │\n",
       "│ 1        ┆ 1        ┆ Nantucket Nectar                 ┆ [Apple]                    ┆ $3.39      │\n",
       "│ 1        ┆ 1        ┆ Chips and Tomatillo-Green Chil…  ┆ NULL                       ┆ $2.39      │\n",
       "│ 2        ┆ 2        ┆ Chicken Bowl                     ┆ [Tomatillo-Red Chili Salsa ┆ $16.98     │\n",
       "│          ┆          ┆                                  ┆ (Ho…                       ┆            │\n",
       "└──────────┴──────────┴──────────────────────────────────┴────────────────────────────┴────────────┘"
      ]
     },
     "execution_count": 49,
     "metadata": {},
     "output_type": "execute_result"
    }
   ],
   "source": [
    "orders = pl.read_csv(\"data/chipotle.tsv\", separator=\"\\t\")\n",
    "orders.head()"
   ]
  },
  {
   "cell_type": "code",
   "execution_count": 50,
   "metadata": {},
   "outputs": [
    {
     "data": {
      "text/html": [
       "<div><style>\n",
       ".dataframe > thead > tr,\n",
       ".dataframe > tbody > tr {\n",
       "  text-align: right;\n",
       "  white-space: pre-wrap;\n",
       "}\n",
       "</style>\n",
       "<small>shape: (10,)</small><table border=\"1\" class=\"dataframe\"><thead><tr><th>item_name</th></tr><tr><td>str</td></tr></thead><tbody><tr><td>&quot;CHIPS AND FRESH TOMATO SALSA&quot;</td></tr><tr><td>&quot;IZZE&quot;</td></tr><tr><td>&quot;NANTUCKET NECTAR&quot;</td></tr><tr><td>&quot;CHIPS AND TOMATILLO-GREEN CHIL…</td></tr><tr><td>&quot;CHICKEN BOWL&quot;</td></tr><tr><td>&quot;CHICKEN BOWL&quot;</td></tr><tr><td>&quot;SIDE OF CHIPS&quot;</td></tr><tr><td>&quot;STEAK BURRITO&quot;</td></tr><tr><td>&quot;STEAK SOFT TACOS&quot;</td></tr><tr><td>&quot;STEAK BURRITO&quot;</td></tr></tbody></table></div>"
      ],
      "text/plain": [
       "shape: (10,)\n",
       "Series: 'item_name' [str]\n",
       "[\n",
       "\t\"CHIPS AND FRESH TOMATO SALSA\"\n",
       "\t\"IZZE\"\n",
       "\t\"NANTUCKET NECTAR\"\n",
       "\t\"CHIPS AND TOMATILLO-GREEN CHIL…\n",
       "\t\"CHICKEN BOWL\"\n",
       "\t\"CHICKEN BOWL\"\n",
       "\t\"SIDE OF CHIPS\"\n",
       "\t\"STEAK BURRITO\"\n",
       "\t\"STEAK SOFT TACOS\"\n",
       "\t\"STEAK BURRITO\"\n",
       "]"
      ]
     },
     "execution_count": 50,
     "metadata": {},
     "output_type": "execute_result"
    }
   ],
   "source": [
    "# string methods for pandas Series are accessed via 'str'\n",
    "orders[\"item_name\"].str.to_uppercase().head()"
   ]
  },
  {
   "cell_type": "code",
   "execution_count": 51,
   "metadata": {},
   "outputs": [
    {
     "data": {
      "text/html": [
       "<div><style>\n",
       ".dataframe > thead > tr,\n",
       ".dataframe > tbody > tr {\n",
       "  text-align: right;\n",
       "  white-space: pre-wrap;\n",
       "}\n",
       "</style>\n",
       "<small>shape: (5, 5)</small><table border=\"1\" class=\"dataframe\"><thead><tr><th>order_id</th><th>quantity</th><th>item_name</th><th>choice_description</th><th>item_price</th></tr><tr><td>i64</td><td>i64</td><td>str</td><td>str</td><td>str</td></tr></thead><tbody><tr><td>2</td><td>2</td><td>&quot;Chicken Bowl&quot;</td><td>&quot;[Tomatillo-Red Chili Salsa (Ho…</td><td>&quot;$16.98&quot;</td></tr><tr><td>3</td><td>1</td><td>&quot;Chicken Bowl&quot;</td><td>&quot;[Fresh Tomato Salsa (Mild), [R…</td><td>&quot;$10.98&quot;</td></tr><tr><td>6</td><td>1</td><td>&quot;Chicken Crispy Tacos&quot;</td><td>&quot;[Roasted Chili Corn Salsa, [Fa…</td><td>&quot;$8.75&quot;</td></tr><tr><td>6</td><td>1</td><td>&quot;Chicken Soft Tacos&quot;</td><td>&quot;[Roasted Chili Corn Salsa, [Ri…</td><td>&quot;$8.75&quot;</td></tr><tr><td>7</td><td>1</td><td>&quot;Chicken Bowl&quot;</td><td>&quot;[Fresh Tomato Salsa, [Fajita V…</td><td>&quot;$11.25&quot;</td></tr></tbody></table></div>"
      ],
      "text/plain": [
       "shape: (5, 5)\n",
       "┌──────────┬──────────┬──────────────────────┬─────────────────────────────────┬────────────┐\n",
       "│ order_id ┆ quantity ┆ item_name            ┆ choice_description              ┆ item_price │\n",
       "│ ---      ┆ ---      ┆ ---                  ┆ ---                             ┆ ---        │\n",
       "│ i64      ┆ i64      ┆ str                  ┆ str                             ┆ str        │\n",
       "╞══════════╪══════════╪══════════════════════╪═════════════════════════════════╪════════════╡\n",
       "│ 2        ┆ 2        ┆ Chicken Bowl         ┆ [Tomatillo-Red Chili Salsa (Ho… ┆ $16.98     │\n",
       "│ 3        ┆ 1        ┆ Chicken Bowl         ┆ [Fresh Tomato Salsa (Mild), [R… ┆ $10.98     │\n",
       "│ 6        ┆ 1        ┆ Chicken Crispy Tacos ┆ [Roasted Chili Corn Salsa, [Fa… ┆ $8.75      │\n",
       "│ 6        ┆ 1        ┆ Chicken Soft Tacos   ┆ [Roasted Chili Corn Salsa, [Ri… ┆ $8.75      │\n",
       "│ 7        ┆ 1        ┆ Chicken Bowl         ┆ [Fresh Tomato Salsa, [Fajita V… ┆ $11.25     │\n",
       "└──────────┴──────────┴──────────────────────┴─────────────────────────────────┴────────────┘"
      ]
     },
     "execution_count": 51,
     "metadata": {},
     "output_type": "execute_result"
    }
   ],
   "source": [
    "# use the boolean Series to filter the DataFrame\n",
    "orders.filter(pl.col(\"item_name\").str.contains(\"Chicken\")).head()"
   ]
  },
  {
   "cell_type": "code",
   "execution_count": 52,
   "metadata": {},
   "outputs": [
    {
     "data": {
      "text/html": [
       "<div><style>\n",
       ".dataframe > thead > tr,\n",
       ".dataframe > tbody > tr {\n",
       "  text-align: right;\n",
       "  white-space: pre-wrap;\n",
       "}\n",
       "</style>\n",
       "<small>shape: (10,)</small><table border=\"1\" class=\"dataframe\"><thead><tr><th>choice_description</th></tr><tr><td>str</td></tr></thead><tbody><tr><td>&quot;NULL&quot;</td></tr><tr><td>&quot;Clementine]&quot;</td></tr><tr><td>&quot;Apple]&quot;</td></tr><tr><td>&quot;NULL&quot;</td></tr><tr><td>&quot;Tomatillo-Red Chili Salsa (Hot…</td></tr><tr><td>&quot;Fresh Tomato Salsa (Mild), [Ri…</td></tr><tr><td>&quot;NULL&quot;</td></tr><tr><td>&quot;Tomatillo Red Chili Salsa, [Fa…</td></tr><tr><td>&quot;Tomatillo Green Chili Salsa, […</td></tr><tr><td>&quot;Fresh Tomato Salsa, [Rice, Bla…</td></tr></tbody></table></div>"
      ],
      "text/plain": [
       "shape: (10,)\n",
       "Series: 'choice_description' [str]\n",
       "[\n",
       "\t\"NULL\"\n",
       "\t\"Clementine]\"\n",
       "\t\"Apple]\"\n",
       "\t\"NULL\"\n",
       "\t\"Tomatillo-Red Chili Salsa (Hot…\n",
       "\t\"Fresh Tomato Salsa (Mild), [Ri…\n",
       "\t\"NULL\"\n",
       "\t\"Tomatillo Red Chili Salsa, [Fa…\n",
       "\t\"Tomatillo Green Chili Salsa, […\n",
       "\t\"Fresh Tomato Salsa, [Rice, Bla…\n",
       "]"
      ]
     },
     "execution_count": 52,
     "metadata": {},
     "output_type": "execute_result"
    }
   ],
   "source": [
    "# many pandas string methods support regular expressions (regex)\n",
    "orders[\"choice_description\"].str.replace(r\"[\\[\\]]\", \"\").head()"
   ]
  },
  {
   "attachments": {},
   "cell_type": "markdown",
   "metadata": {},
   "source": [
    "### Dates & Times\n"
   ]
  },
  {
   "cell_type": "code",
   "execution_count": 53,
   "metadata": {},
   "outputs": [
    {
     "data": {
      "text/html": [
       "<div><style>\n",
       ".dataframe > thead > tr,\n",
       ".dataframe > tbody > tr {\n",
       "  text-align: right;\n",
       "  white-space: pre-wrap;\n",
       "}\n",
       "</style>\n",
       "<small>shape: (5, 5)</small><table border=\"1\" class=\"dataframe\"><thead><tr><th>City</th><th>Colors Reported</th><th>Shape Reported</th><th>State</th><th>Time</th></tr><tr><td>str</td><td>str</td><td>str</td><td>str</td><td>str</td></tr></thead><tbody><tr><td>&quot;Ithaca&quot;</td><td>null</td><td>&quot;TRIANGLE&quot;</td><td>&quot;NY&quot;</td><td>&quot;6/1/1930 22:00&quot;</td></tr><tr><td>&quot;Willingboro&quot;</td><td>null</td><td>&quot;OTHER&quot;</td><td>&quot;NJ&quot;</td><td>&quot;6/30/1930 20:00&quot;</td></tr><tr><td>&quot;Holyoke&quot;</td><td>null</td><td>&quot;OVAL&quot;</td><td>&quot;CO&quot;</td><td>&quot;2/15/1931 14:00&quot;</td></tr><tr><td>&quot;Abilene&quot;</td><td>null</td><td>&quot;DISK&quot;</td><td>&quot;KS&quot;</td><td>&quot;6/1/1931 13:00&quot;</td></tr><tr><td>&quot;New York Worlds Fair&quot;</td><td>null</td><td>&quot;LIGHT&quot;</td><td>&quot;NY&quot;</td><td>&quot;4/18/1933 19:00&quot;</td></tr></tbody></table></div>"
      ],
      "text/plain": [
       "shape: (5, 5)\n",
       "┌──────────────────────┬─────────────────┬────────────────┬───────┬─────────────────┐\n",
       "│ City                 ┆ Colors Reported ┆ Shape Reported ┆ State ┆ Time            │\n",
       "│ ---                  ┆ ---             ┆ ---            ┆ ---   ┆ ---             │\n",
       "│ str                  ┆ str             ┆ str            ┆ str   ┆ str             │\n",
       "╞══════════════════════╪═════════════════╪════════════════╪═══════╪═════════════════╡\n",
       "│ Ithaca               ┆ null            ┆ TRIANGLE       ┆ NY    ┆ 6/1/1930 22:00  │\n",
       "│ Willingboro          ┆ null            ┆ OTHER          ┆ NJ    ┆ 6/30/1930 20:00 │\n",
       "│ Holyoke              ┆ null            ┆ OVAL           ┆ CO    ┆ 2/15/1931 14:00 │\n",
       "│ Abilene              ┆ null            ┆ DISK           ┆ KS    ┆ 6/1/1931 13:00  │\n",
       "│ New York Worlds Fair ┆ null            ┆ LIGHT          ┆ NY    ┆ 4/18/1933 19:00 │\n",
       "└──────────────────────┴─────────────────┴────────────────┴───────┴─────────────────┘"
      ]
     },
     "execution_count": 53,
     "metadata": {},
     "output_type": "execute_result"
    }
   ],
   "source": [
    "# read a dataset of UFO reports into a DataFrame\n",
    "ufo = pl.read_csv(\"data/ufo.csv\")\n",
    "ufo.head()"
   ]
  },
  {
   "cell_type": "code",
   "execution_count": 54,
   "metadata": {},
   "outputs": [
    {
     "data": {
      "text/plain": [
       "[String, String, String, String, String]"
      ]
     },
     "execution_count": 54,
     "metadata": {},
     "output_type": "execute_result"
    }
   ],
   "source": [
    "# 'Time' is currently stored as a string\n",
    "ufo.dtypes"
   ]
  },
  {
   "attachments": {},
   "cell_type": "markdown",
   "metadata": {},
   "source": [
    "## Category data\n"
   ]
  },
  {
   "cell_type": "code",
   "execution_count": 55,
   "metadata": {},
   "outputs": [
    {
     "data": {
      "text/html": [
       "<div><style>\n",
       ".dataframe > thead > tr,\n",
       ".dataframe > tbody > tr {\n",
       "  text-align: right;\n",
       "  white-space: pre-wrap;\n",
       "}\n",
       "</style>\n",
       "<small>shape: (5, 6)</small><table border=\"1\" class=\"dataframe\"><thead><tr><th>country</th><th>beer_servings</th><th>spirit_servings</th><th>wine_servings</th><th>total_litres_of_pure_alcohol</th><th>continent</th></tr><tr><td>str</td><td>i64</td><td>i64</td><td>i64</td><td>f64</td><td>str</td></tr></thead><tbody><tr><td>&quot;Afghanistan&quot;</td><td>0</td><td>0</td><td>0</td><td>0.0</td><td>&quot;Asia&quot;</td></tr><tr><td>&quot;Albania&quot;</td><td>89</td><td>132</td><td>54</td><td>4.9</td><td>&quot;Europe&quot;</td></tr><tr><td>&quot;Algeria&quot;</td><td>25</td><td>0</td><td>14</td><td>0.7</td><td>&quot;Africa&quot;</td></tr><tr><td>&quot;Andorra&quot;</td><td>245</td><td>138</td><td>312</td><td>12.4</td><td>&quot;Europe&quot;</td></tr><tr><td>&quot;Angola&quot;</td><td>217</td><td>57</td><td>45</td><td>5.9</td><td>&quot;Africa&quot;</td></tr></tbody></table></div>"
      ],
      "text/plain": [
       "shape: (5, 6)\n",
       "┌─────────────┬───────────────┬─────────────────┬───────────────┬──────────────────────┬───────────┐\n",
       "│ country     ┆ beer_servings ┆ spirit_servings ┆ wine_servings ┆ total_litres_of_pure ┆ continent │\n",
       "│ ---         ┆ ---           ┆ ---             ┆ ---           ┆ _alcohol             ┆ ---       │\n",
       "│ str         ┆ i64           ┆ i64             ┆ i64           ┆ ---                  ┆ str       │\n",
       "│             ┆               ┆                 ┆               ┆ f64                  ┆           │\n",
       "╞═════════════╪═══════════════╪═════════════════╪═══════════════╪══════════════════════╪═══════════╡\n",
       "│ Afghanistan ┆ 0             ┆ 0               ┆ 0             ┆ 0.0                  ┆ Asia      │\n",
       "│ Albania     ┆ 89            ┆ 132             ┆ 54            ┆ 4.9                  ┆ Europe    │\n",
       "│ Algeria     ┆ 25            ┆ 0               ┆ 14            ┆ 0.7                  ┆ Africa    │\n",
       "│ Andorra     ┆ 245           ┆ 138             ┆ 312           ┆ 12.4                 ┆ Europe    │\n",
       "│ Angola      ┆ 217           ┆ 57              ┆ 45            ┆ 5.9                  ┆ Africa    │\n",
       "└─────────────┴───────────────┴─────────────────┴───────────────┴──────────────────────┴───────────┘"
      ]
     },
     "execution_count": 55,
     "metadata": {},
     "output_type": "execute_result"
    }
   ],
   "source": [
    "drinks = pl.read_csv(\"data/drinks.csv\")\n",
    "drinks.head()"
   ]
  },
  {
   "cell_type": "code",
   "execution_count": 56,
   "metadata": {},
   "outputs": [
    {
     "data": {
      "text/plain": [
       "[String, Int64, Int64, Int64, Float64, Categorical(ordering='physical')]"
      ]
     },
     "execution_count": 56,
     "metadata": {},
     "output_type": "execute_result"
    }
   ],
   "source": [
    "# use the 'category' data type to store the 'continent' strings as integers\n",
    "drinks = drinks.with_columns(pl.col(\"continent\").cast(pl.Categorical))\n",
    "drinks.dtypes"
   ]
  },
  {
   "cell_type": "code",
   "execution_count": 57,
   "metadata": {},
   "outputs": [
    {
     "data": {
      "text/html": [
       "<div><style>\n",
       ".dataframe > thead > tr,\n",
       ".dataframe > tbody > tr {\n",
       "  text-align: right;\n",
       "  white-space: pre-wrap;\n",
       "}\n",
       "</style>\n",
       "<small>shape: (10,)</small><table border=\"1\" class=\"dataframe\"><thead><tr><th>continent</th></tr><tr><td>u32</td></tr></thead><tbody><tr><td>0</td></tr><tr><td>1</td></tr><tr><td>2</td></tr><tr><td>1</td></tr><tr><td>2</td></tr><tr><td>3</td></tr><tr><td>4</td></tr><tr><td>1</td></tr><tr><td>5</td></tr><tr><td>1</td></tr></tbody></table></div>"
      ],
      "text/plain": [
       "shape: (10,)\n",
       "Series: 'continent' [u32]\n",
       "[\n",
       "\t0\n",
       "\t1\n",
       "\t2\n",
       "\t1\n",
       "\t2\n",
       "\t3\n",
       "\t4\n",
       "\t1\n",
       "\t5\n",
       "\t1\n",
       "]"
      ]
     },
     "execution_count": 57,
     "metadata": {},
     "output_type": "execute_result"
    }
   ],
   "source": [
    "# strings are now encoded (0 means 'Africa', 1 means 'Asia', 2 means 'Europe', etc.)\n",
    "drinks[\"continent\"].to_physical().head()"
   ]
  },
  {
   "cell_type": "code",
   "execution_count": 58,
   "metadata": {},
   "outputs": [
    {
     "data": {
      "text/html": [
       "<div><style>\n",
       ".dataframe > thead > tr,\n",
       ".dataframe > tbody > tr {\n",
       "  text-align: right;\n",
       "  white-space: pre-wrap;\n",
       "}\n",
       "</style>\n",
       "<small>shape: (193,)</small><table border=\"1\" class=\"dataframe\"><thead><tr><th>country</th></tr><tr><td>str</td></tr></thead><tbody><tr><td>&quot;Afghanistan&quot;</td></tr><tr><td>&quot;Albania&quot;</td></tr><tr><td>&quot;Algeria&quot;</td></tr><tr><td>&quot;Andorra&quot;</td></tr><tr><td>&quot;Angola&quot;</td></tr><tr><td>&hellip;</td></tr><tr><td>&quot;Venezuela&quot;</td></tr><tr><td>&quot;Vietnam&quot;</td></tr><tr><td>&quot;Yemen&quot;</td></tr><tr><td>&quot;Zambia&quot;</td></tr><tr><td>&quot;Zimbabwe&quot;</td></tr></tbody></table></div>"
      ],
      "text/plain": [
       "shape: (193,)\n",
       "Series: 'country' [str]\n",
       "[\n",
       "\t\"Afghanistan\"\n",
       "\t\"Albania\"\n",
       "\t\"Algeria\"\n",
       "\t\"Andorra\"\n",
       "\t\"Angola\"\n",
       "\t…\n",
       "\t\"Venezuela\"\n",
       "\t\"Vietnam\"\n",
       "\t\"Yemen\"\n",
       "\t\"Zambia\"\n",
       "\t\"Zimbabwe\"\n",
       "]"
      ]
     },
     "execution_count": 58,
     "metadata": {},
     "output_type": "execute_result"
    }
   ],
   "source": [
    "# repeat this process for the 'country' Series\n",
    "drinks = drinks.with_columns(pl.col(\"country\").cast(pl.Categorical))\n",
    "# memory usage increased because we created 193 categories\n",
    "drinks[\"country\"].cat.get_categories()"
   ]
  },
  {
   "attachments": {},
   "cell_type": "markdown",
   "metadata": {},
   "source": [
    "### Dummy variables\n"
   ]
  },
  {
   "cell_type": "code",
   "execution_count": 59,
   "metadata": {},
   "outputs": [
    {
     "data": {
      "text/html": [
       "<div><style>\n",
       ".dataframe > thead > tr,\n",
       ".dataframe > tbody > tr {\n",
       "  text-align: right;\n",
       "  white-space: pre-wrap;\n",
       "}\n",
       "</style>\n",
       "<small>shape: (5, 12)</small><table border=\"1\" class=\"dataframe\"><thead><tr><th>PassengerId</th><th>Survived</th><th>Pclass</th><th>Name</th><th>Sex</th><th>Age</th><th>SibSp</th><th>Parch</th><th>Ticket</th><th>Fare</th><th>Cabin</th><th>Embarked</th></tr><tr><td>i64</td><td>i64</td><td>i64</td><td>str</td><td>str</td><td>f64</td><td>i64</td><td>i64</td><td>str</td><td>f64</td><td>str</td><td>str</td></tr></thead><tbody><tr><td>1</td><td>0</td><td>3</td><td>&quot;Braund, Mr. Owen Harris&quot;</td><td>&quot;male&quot;</td><td>22.0</td><td>1</td><td>0</td><td>&quot;A/5 21171&quot;</td><td>7.25</td><td>null</td><td>&quot;S&quot;</td></tr><tr><td>2</td><td>1</td><td>1</td><td>&quot;Cumings, Mrs. John Bradley (Fl…</td><td>&quot;female&quot;</td><td>38.0</td><td>1</td><td>0</td><td>&quot;PC 17599&quot;</td><td>71.2833</td><td>&quot;C85&quot;</td><td>&quot;C&quot;</td></tr><tr><td>3</td><td>1</td><td>3</td><td>&quot;Heikkinen, Miss. Laina&quot;</td><td>&quot;female&quot;</td><td>26.0</td><td>0</td><td>0</td><td>&quot;STON/O2. 3101282&quot;</td><td>7.925</td><td>null</td><td>&quot;S&quot;</td></tr><tr><td>4</td><td>1</td><td>1</td><td>&quot;Futrelle, Mrs. Jacques Heath (…</td><td>&quot;female&quot;</td><td>35.0</td><td>1</td><td>0</td><td>&quot;113803&quot;</td><td>53.1</td><td>&quot;C123&quot;</td><td>&quot;S&quot;</td></tr><tr><td>5</td><td>0</td><td>3</td><td>&quot;Allen, Mr. William Henry&quot;</td><td>&quot;male&quot;</td><td>35.0</td><td>0</td><td>0</td><td>&quot;373450&quot;</td><td>8.05</td><td>null</td><td>&quot;S&quot;</td></tr></tbody></table></div>"
      ],
      "text/plain": [
       "shape: (5, 12)\n",
       "┌─────────────┬──────────┬────────┬───────────────────┬───┬───────────┬─────────┬───────┬──────────┐\n",
       "│ PassengerId ┆ Survived ┆ Pclass ┆ Name              ┆ … ┆ Ticket    ┆ Fare    ┆ Cabin ┆ Embarked │\n",
       "│ ---         ┆ ---      ┆ ---    ┆ ---               ┆   ┆ ---       ┆ ---     ┆ ---   ┆ ---      │\n",
       "│ i64         ┆ i64      ┆ i64    ┆ str               ┆   ┆ str       ┆ f64     ┆ str   ┆ str      │\n",
       "╞═════════════╪══════════╪════════╪═══════════════════╪═══╪═══════════╪═════════╪═══════╪══════════╡\n",
       "│ 1           ┆ 0        ┆ 3      ┆ Braund, Mr. Owen  ┆ … ┆ A/5 21171 ┆ 7.25    ┆ null  ┆ S        │\n",
       "│             ┆          ┆        ┆ Harris            ┆   ┆           ┆         ┆       ┆          │\n",
       "│ 2           ┆ 1        ┆ 1      ┆ Cumings, Mrs.     ┆ … ┆ PC 17599  ┆ 71.2833 ┆ C85   ┆ C        │\n",
       "│             ┆          ┆        ┆ John Bradley (Fl… ┆   ┆           ┆         ┆       ┆          │\n",
       "│ 3           ┆ 1        ┆ 3      ┆ Heikkinen, Miss.  ┆ … ┆ STON/O2.  ┆ 7.925   ┆ null  ┆ S        │\n",
       "│             ┆          ┆        ┆ Laina             ┆   ┆ 3101282   ┆         ┆       ┆          │\n",
       "│ 4           ┆ 1        ┆ 1      ┆ Futrelle, Mrs.    ┆ … ┆ 113803    ┆ 53.1    ┆ C123  ┆ S        │\n",
       "│             ┆          ┆        ┆ Jacques Heath (…  ┆   ┆           ┆         ┆       ┆          │\n",
       "│ 5           ┆ 0        ┆ 3      ┆ Allen, Mr.        ┆ … ┆ 373450    ┆ 8.05    ┆ null  ┆ S        │\n",
       "│             ┆          ┆        ┆ William Henry     ┆   ┆           ┆         ┆       ┆          │\n",
       "└─────────────┴──────────┴────────┴───────────────────┴───┴───────────┴─────────┴───────┴──────────┘"
      ]
     },
     "execution_count": 59,
     "metadata": {},
     "output_type": "execute_result"
    }
   ],
   "source": [
    "train = pl.read_csv(\"data/titanic_train.csv\")\n",
    "train.head()"
   ]
  },
  {
   "cell_type": "code",
   "execution_count": 60,
   "metadata": {},
   "outputs": [
    {
     "data": {
      "text/html": [
       "<div><style>\n",
       ".dataframe > thead > tr,\n",
       ".dataframe > tbody > tr {\n",
       "  text-align: right;\n",
       "  white-space: pre-wrap;\n",
       "}\n",
       "</style>\n",
       "<small>shape: (5, 13)</small><table border=\"1\" class=\"dataframe\"><thead><tr><th>PassengerId</th><th>Survived</th><th>Pclass</th><th>Name</th><th>Sex_female</th><th>Sex_male</th><th>Age</th><th>SibSp</th><th>Parch</th><th>Ticket</th><th>Fare</th><th>Cabin</th><th>Embarked</th></tr><tr><td>i64</td><td>i64</td><td>i64</td><td>str</td><td>u8</td><td>u8</td><td>f64</td><td>i64</td><td>i64</td><td>str</td><td>f64</td><td>str</td><td>str</td></tr></thead><tbody><tr><td>1</td><td>0</td><td>3</td><td>&quot;Braund, Mr. Owen Harris&quot;</td><td>0</td><td>1</td><td>22.0</td><td>1</td><td>0</td><td>&quot;A/5 21171&quot;</td><td>7.25</td><td>null</td><td>&quot;S&quot;</td></tr><tr><td>2</td><td>1</td><td>1</td><td>&quot;Cumings, Mrs. John Bradley (Fl…</td><td>1</td><td>0</td><td>38.0</td><td>1</td><td>0</td><td>&quot;PC 17599&quot;</td><td>71.2833</td><td>&quot;C85&quot;</td><td>&quot;C&quot;</td></tr><tr><td>3</td><td>1</td><td>3</td><td>&quot;Heikkinen, Miss. Laina&quot;</td><td>1</td><td>0</td><td>26.0</td><td>0</td><td>0</td><td>&quot;STON/O2. 3101282&quot;</td><td>7.925</td><td>null</td><td>&quot;S&quot;</td></tr><tr><td>4</td><td>1</td><td>1</td><td>&quot;Futrelle, Mrs. Jacques Heath (…</td><td>1</td><td>0</td><td>35.0</td><td>1</td><td>0</td><td>&quot;113803&quot;</td><td>53.1</td><td>&quot;C123&quot;</td><td>&quot;S&quot;</td></tr><tr><td>5</td><td>0</td><td>3</td><td>&quot;Allen, Mr. William Henry&quot;</td><td>0</td><td>1</td><td>35.0</td><td>0</td><td>0</td><td>&quot;373450&quot;</td><td>8.05</td><td>null</td><td>&quot;S&quot;</td></tr></tbody></table></div>"
      ],
      "text/plain": [
       "shape: (5, 13)\n",
       "┌─────────────┬──────────┬────────┬───────────────────┬───┬───────────┬─────────┬───────┬──────────┐\n",
       "│ PassengerId ┆ Survived ┆ Pclass ┆ Name              ┆ … ┆ Ticket    ┆ Fare    ┆ Cabin ┆ Embarked │\n",
       "│ ---         ┆ ---      ┆ ---    ┆ ---               ┆   ┆ ---       ┆ ---     ┆ ---   ┆ ---      │\n",
       "│ i64         ┆ i64      ┆ i64    ┆ str               ┆   ┆ str       ┆ f64     ┆ str   ┆ str      │\n",
       "╞═════════════╪══════════╪════════╪═══════════════════╪═══╪═══════════╪═════════╪═══════╪══════════╡\n",
       "│ 1           ┆ 0        ┆ 3      ┆ Braund, Mr. Owen  ┆ … ┆ A/5 21171 ┆ 7.25    ┆ null  ┆ S        │\n",
       "│             ┆          ┆        ┆ Harris            ┆   ┆           ┆         ┆       ┆          │\n",
       "│ 2           ┆ 1        ┆ 1      ┆ Cumings, Mrs.     ┆ … ┆ PC 17599  ┆ 71.2833 ┆ C85   ┆ C        │\n",
       "│             ┆          ┆        ┆ John Bradley (Fl… ┆   ┆           ┆         ┆       ┆          │\n",
       "│ 3           ┆ 1        ┆ 3      ┆ Heikkinen, Miss.  ┆ … ┆ STON/O2.  ┆ 7.925   ┆ null  ┆ S        │\n",
       "│             ┆          ┆        ┆ Laina             ┆   ┆ 3101282   ┆         ┆       ┆          │\n",
       "│ 4           ┆ 1        ┆ 1      ┆ Futrelle, Mrs.    ┆ … ┆ 113803    ┆ 53.1    ┆ C123  ┆ S        │\n",
       "│             ┆          ┆        ┆ Jacques Heath (…  ┆   ┆           ┆         ┆       ┆          │\n",
       "│ 5           ┆ 0        ┆ 3      ┆ Allen, Mr.        ┆ … ┆ 373450    ┆ 8.05    ┆ null  ┆ S        │\n",
       "│             ┆          ┆        ┆ William Henry     ┆   ┆           ┆         ┆       ┆          │\n",
       "└─────────────┴──────────┴────────┴───────────────────┴───┴───────────┴─────────┴───────┴──────────┘"
      ]
     },
     "execution_count": 60,
     "metadata": {},
     "output_type": "execute_result"
    }
   ],
   "source": [
    "# use 'get_dummies' to create one column for every possible value\n",
    "train.to_dummies([\"Sex\"]).head()"
   ]
  },
  {
   "cell_type": "code",
   "execution_count": 61,
   "metadata": {},
   "outputs": [
    {
     "data": {
      "text/html": [
       "<div><style>\n",
       ".dataframe > thead > tr,\n",
       ".dataframe > tbody > tr {\n",
       "  text-align: right;\n",
       "  white-space: pre-wrap;\n",
       "}\n",
       "</style>\n",
       "<small>shape: (5, 12)</small><table border=\"1\" class=\"dataframe\"><thead><tr><th>Survived</th><th>Pclass</th><th>Name</th><th>Sex:female</th><th>Sex:male</th><th>Age</th><th>SibSp</th><th>Parch</th><th>Ticket</th><th>Fare</th><th>Cabin</th><th>Embarked</th></tr><tr><td>i64</td><td>i64</td><td>str</td><td>u8</td><td>u8</td><td>f64</td><td>i64</td><td>i64</td><td>str</td><td>f64</td><td>str</td><td>str</td></tr></thead><tbody><tr><td>0</td><td>3</td><td>&quot;Braund, Mr. Owen Harris&quot;</td><td>0</td><td>1</td><td>22.0</td><td>1</td><td>0</td><td>&quot;A/5 21171&quot;</td><td>7.25</td><td>null</td><td>&quot;S&quot;</td></tr><tr><td>1</td><td>1</td><td>&quot;Cumings, Mrs. John Bradley (Fl…</td><td>1</td><td>0</td><td>38.0</td><td>1</td><td>0</td><td>&quot;PC 17599&quot;</td><td>71.2833</td><td>&quot;C85&quot;</td><td>&quot;C&quot;</td></tr><tr><td>1</td><td>3</td><td>&quot;Heikkinen, Miss. Laina&quot;</td><td>1</td><td>0</td><td>26.0</td><td>0</td><td>0</td><td>&quot;STON/O2. 3101282&quot;</td><td>7.925</td><td>null</td><td>&quot;S&quot;</td></tr><tr><td>1</td><td>1</td><td>&quot;Futrelle, Mrs. Jacques Heath (…</td><td>1</td><td>0</td><td>35.0</td><td>1</td><td>0</td><td>&quot;113803&quot;</td><td>53.1</td><td>&quot;C123&quot;</td><td>&quot;S&quot;</td></tr><tr><td>0</td><td>3</td><td>&quot;Allen, Mr. William Henry&quot;</td><td>0</td><td>1</td><td>35.0</td><td>0</td><td>0</td><td>&quot;373450&quot;</td><td>8.05</td><td>null</td><td>&quot;S&quot;</td></tr></tbody></table></div>"
      ],
      "text/plain": [
       "shape: (5, 12)\n",
       "┌──────────┬────────┬────────────────────┬────────────┬───┬───────────┬─────────┬───────┬──────────┐\n",
       "│ Survived ┆ Pclass ┆ Name               ┆ Sex:female ┆ … ┆ Ticket    ┆ Fare    ┆ Cabin ┆ Embarked │\n",
       "│ ---      ┆ ---    ┆ ---                ┆ ---        ┆   ┆ ---       ┆ ---     ┆ ---   ┆ ---      │\n",
       "│ i64      ┆ i64    ┆ str                ┆ u8         ┆   ┆ str       ┆ f64     ┆ str   ┆ str      │\n",
       "╞══════════╪════════╪════════════════════╪════════════╪═══╪═══════════╪═════════╪═══════╪══════════╡\n",
       "│ 0        ┆ 3      ┆ Braund, Mr. Owen   ┆ 0          ┆ … ┆ A/5 21171 ┆ 7.25    ┆ null  ┆ S        │\n",
       "│          ┆        ┆ Harris             ┆            ┆   ┆           ┆         ┆       ┆          │\n",
       "│ 1        ┆ 1      ┆ Cumings, Mrs. John ┆ 1          ┆ … ┆ PC 17599  ┆ 71.2833 ┆ C85   ┆ C        │\n",
       "│          ┆        ┆ Bradley (Fl…       ┆            ┆   ┆           ┆         ┆       ┆          │\n",
       "│ 1        ┆ 3      ┆ Heikkinen, Miss.   ┆ 1          ┆ … ┆ STON/O2.  ┆ 7.925   ┆ null  ┆ S        │\n",
       "│          ┆        ┆ Laina              ┆            ┆   ┆ 3101282   ┆         ┆       ┆          │\n",
       "│ 1        ┆ 1      ┆ Futrelle, Mrs.     ┆ 1          ┆ … ┆ 113803    ┆ 53.1    ┆ C123  ┆ S        │\n",
       "│          ┆        ┆ Jacques Heath (…   ┆            ┆   ┆           ┆         ┆       ┆          │\n",
       "│ 0        ┆ 3      ┆ Allen, Mr. William ┆ 0          ┆ … ┆ 373450    ┆ 8.05    ┆ null  ┆ S        │\n",
       "│          ┆        ┆ Henry              ┆            ┆   ┆           ┆         ┆       ┆          │\n",
       "└──────────┴────────┴────────────────────┴────────────┴───┴───────────┴─────────┴───────┴──────────┘"
      ]
     },
     "execution_count": 61,
     "metadata": {},
     "output_type": "execute_result"
    }
   ],
   "source": [
    "# drop the first dummy variable ('female') using the 'iloc' method\n",
    "# add a prefix to identify the source of the dummy variables\n",
    "train.to_dummies([\"Sex\"], separator=\":\")[:, 1:].head()"
   ]
  },
  {
   "cell_type": "code",
   "execution_count": 62,
   "metadata": {},
   "outputs": [
    {
     "data": {
      "text/html": [
       "<div><style>\n",
       ".dataframe > thead > tr,\n",
       ".dataframe > tbody > tr {\n",
       "  text-align: right;\n",
       "  white-space: pre-wrap;\n",
       "}\n",
       "</style>\n",
       "<small>shape: (10, 15)</small><table border=\"1\" class=\"dataframe\"><thead><tr><th>PassengerId</th><th>Survived</th><th>Pclass</th><th>Name</th><th>Sex</th><th>Age</th><th>SibSp</th><th>Parch</th><th>Ticket</th><th>Fare</th><th>Cabin</th><th>Embarked:C</th><th>Embarked:Q</th><th>Embarked:S</th><th>Embarked:null</th></tr><tr><td>i64</td><td>i64</td><td>i64</td><td>str</td><td>str</td><td>f64</td><td>i64</td><td>i64</td><td>str</td><td>f64</td><td>str</td><td>u8</td><td>u8</td><td>u8</td><td>u8</td></tr></thead><tbody><tr><td>1</td><td>0</td><td>3</td><td>&quot;Braund, Mr. Owen Harris&quot;</td><td>&quot;male&quot;</td><td>22.0</td><td>1</td><td>0</td><td>&quot;A/5 21171&quot;</td><td>7.25</td><td>null</td><td>0</td><td>0</td><td>1</td><td>0</td></tr><tr><td>2</td><td>1</td><td>1</td><td>&quot;Cumings, Mrs. John Bradley (Fl…</td><td>&quot;female&quot;</td><td>38.0</td><td>1</td><td>0</td><td>&quot;PC 17599&quot;</td><td>71.2833</td><td>&quot;C85&quot;</td><td>1</td><td>0</td><td>0</td><td>0</td></tr><tr><td>3</td><td>1</td><td>3</td><td>&quot;Heikkinen, Miss. Laina&quot;</td><td>&quot;female&quot;</td><td>26.0</td><td>0</td><td>0</td><td>&quot;STON/O2. 3101282&quot;</td><td>7.925</td><td>null</td><td>0</td><td>0</td><td>1</td><td>0</td></tr><tr><td>4</td><td>1</td><td>1</td><td>&quot;Futrelle, Mrs. Jacques Heath (…</td><td>&quot;female&quot;</td><td>35.0</td><td>1</td><td>0</td><td>&quot;113803&quot;</td><td>53.1</td><td>&quot;C123&quot;</td><td>0</td><td>0</td><td>1</td><td>0</td></tr><tr><td>5</td><td>0</td><td>3</td><td>&quot;Allen, Mr. William Henry&quot;</td><td>&quot;male&quot;</td><td>35.0</td><td>0</td><td>0</td><td>&quot;373450&quot;</td><td>8.05</td><td>null</td><td>0</td><td>0</td><td>1</td><td>0</td></tr><tr><td>6</td><td>0</td><td>3</td><td>&quot;Moran, Mr. James&quot;</td><td>&quot;male&quot;</td><td>null</td><td>0</td><td>0</td><td>&quot;330877&quot;</td><td>8.4583</td><td>null</td><td>0</td><td>1</td><td>0</td><td>0</td></tr><tr><td>7</td><td>0</td><td>1</td><td>&quot;McCarthy, Mr. Timothy J&quot;</td><td>&quot;male&quot;</td><td>54.0</td><td>0</td><td>0</td><td>&quot;17463&quot;</td><td>51.8625</td><td>&quot;E46&quot;</td><td>0</td><td>0</td><td>1</td><td>0</td></tr><tr><td>8</td><td>0</td><td>3</td><td>&quot;Palsson, Master. Gosta Leonard&quot;</td><td>&quot;male&quot;</td><td>2.0</td><td>3</td><td>1</td><td>&quot;349909&quot;</td><td>21.075</td><td>null</td><td>0</td><td>0</td><td>1</td><td>0</td></tr><tr><td>9</td><td>1</td><td>3</td><td>&quot;Johnson, Mrs. Oscar W (Elisabe…</td><td>&quot;female&quot;</td><td>27.0</td><td>0</td><td>2</td><td>&quot;347742&quot;</td><td>11.1333</td><td>null</td><td>0</td><td>0</td><td>1</td><td>0</td></tr><tr><td>10</td><td>1</td><td>2</td><td>&quot;Nasser, Mrs. Nicholas (Adele A…</td><td>&quot;female&quot;</td><td>14.0</td><td>1</td><td>0</td><td>&quot;237736&quot;</td><td>30.0708</td><td>null</td><td>1</td><td>0</td><td>0</td><td>0</td></tr></tbody></table></div>"
      ],
      "text/plain": [
       "shape: (10, 15)\n",
       "┌────────────┬──────────┬────────┬────────────┬───┬────────────┬───────────┬───────────┬───────────┐\n",
       "│ PassengerI ┆ Survived ┆ Pclass ┆ Name       ┆ … ┆ Embarked:C ┆ Embarked: ┆ Embarked: ┆ Embarked: │\n",
       "│ d          ┆ ---      ┆ ---    ┆ ---        ┆   ┆ ---        ┆ Q         ┆ S         ┆ null      │\n",
       "│ ---        ┆ i64      ┆ i64    ┆ str        ┆   ┆ u8         ┆ ---       ┆ ---       ┆ ---       │\n",
       "│ i64        ┆          ┆        ┆            ┆   ┆            ┆ u8        ┆ u8        ┆ u8        │\n",
       "╞════════════╪══════════╪════════╪════════════╪═══╪════════════╪═══════════╪═══════════╪═══════════╡\n",
       "│ 1          ┆ 0        ┆ 3      ┆ Braund,    ┆ … ┆ 0          ┆ 0         ┆ 1         ┆ 0         │\n",
       "│            ┆          ┆        ┆ Mr. Owen   ┆   ┆            ┆           ┆           ┆           │\n",
       "│            ┆          ┆        ┆ Harris     ┆   ┆            ┆           ┆           ┆           │\n",
       "│ 2          ┆ 1        ┆ 1      ┆ Cumings,   ┆ … ┆ 1          ┆ 0         ┆ 0         ┆ 0         │\n",
       "│            ┆          ┆        ┆ Mrs. John  ┆   ┆            ┆           ┆           ┆           │\n",
       "│            ┆          ┆        ┆ Bradley    ┆   ┆            ┆           ┆           ┆           │\n",
       "│            ┆          ┆        ┆ (Fl…       ┆   ┆            ┆           ┆           ┆           │\n",
       "│ 3          ┆ 1        ┆ 3      ┆ Heikkinen, ┆ … ┆ 0          ┆ 0         ┆ 1         ┆ 0         │\n",
       "│            ┆          ┆        ┆ Miss.      ┆   ┆            ┆           ┆           ┆           │\n",
       "│            ┆          ┆        ┆ Laina      ┆   ┆            ┆           ┆           ┆           │\n",
       "│ 4          ┆ 1        ┆ 1      ┆ Futrelle,  ┆ … ┆ 0          ┆ 0         ┆ 1         ┆ 0         │\n",
       "│            ┆          ┆        ┆ Mrs.       ┆   ┆            ┆           ┆           ┆           │\n",
       "│            ┆          ┆        ┆ Jacques    ┆   ┆            ┆           ┆           ┆           │\n",
       "│            ┆          ┆        ┆ Heath (…   ┆   ┆            ┆           ┆           ┆           │\n",
       "│ 5          ┆ 0        ┆ 3      ┆ Allen, Mr. ┆ … ┆ 0          ┆ 0         ┆ 1         ┆ 0         │\n",
       "│            ┆          ┆        ┆ William    ┆   ┆            ┆           ┆           ┆           │\n",
       "│            ┆          ┆        ┆ Henry      ┆   ┆            ┆           ┆           ┆           │\n",
       "│ 6          ┆ 0        ┆ 3      ┆ Moran, Mr. ┆ … ┆ 0          ┆ 1         ┆ 0         ┆ 0         │\n",
       "│            ┆          ┆        ┆ James      ┆   ┆            ┆           ┆           ┆           │\n",
       "│ 7          ┆ 0        ┆ 1      ┆ McCarthy,  ┆ … ┆ 0          ┆ 0         ┆ 1         ┆ 0         │\n",
       "│            ┆          ┆        ┆ Mr.        ┆   ┆            ┆           ┆           ┆           │\n",
       "│            ┆          ┆        ┆ Timothy J  ┆   ┆            ┆           ┆           ┆           │\n",
       "│ 8          ┆ 0        ┆ 3      ┆ Palsson,   ┆ … ┆ 0          ┆ 0         ┆ 1         ┆ 0         │\n",
       "│            ┆          ┆        ┆ Master.    ┆   ┆            ┆           ┆           ┆           │\n",
       "│            ┆          ┆        ┆ Gosta      ┆   ┆            ┆           ┆           ┆           │\n",
       "│            ┆          ┆        ┆ Leonard    ┆   ┆            ┆           ┆           ┆           │\n",
       "│ 9          ┆ 1        ┆ 3      ┆ Johnson,   ┆ … ┆ 0          ┆ 0         ┆ 1         ┆ 0         │\n",
       "│            ┆          ┆        ┆ Mrs. Oscar ┆   ┆            ┆           ┆           ┆           │\n",
       "│            ┆          ┆        ┆ W          ┆   ┆            ┆           ┆           ┆           │\n",
       "│            ┆          ┆        ┆ (Elisabe…  ┆   ┆            ┆           ┆           ┆           │\n",
       "│ 10         ┆ 1        ┆ 2      ┆ Nasser,    ┆ … ┆ 1          ┆ 0         ┆ 0         ┆ 0         │\n",
       "│            ┆          ┆        ┆ Mrs.       ┆   ┆            ┆           ┆           ┆           │\n",
       "│            ┆          ┆        ┆ Nicholas   ┆   ┆            ┆           ┆           ┆           │\n",
       "│            ┆          ┆        ┆ (Adele A…  ┆   ┆            ┆           ┆           ┆           │\n",
       "└────────────┴──────────┴────────┴────────────┴───┴────────────┴───────────┴───────────┴───────────┘"
      ]
     },
     "execution_count": 62,
     "metadata": {},
     "output_type": "execute_result"
    }
   ],
   "source": [
    "# use 'get_dummies' with a feature that has 3 possible values\n",
    "train.to_dummies([\"Embarked\"], separator=\":\").head(10)"
   ]
  },
  {
   "cell_type": "code",
   "execution_count": 63,
   "metadata": {},
   "outputs": [
    {
     "data": {
      "text/html": [
       "<div><style>\n",
       ".dataframe > thead > tr,\n",
       ".dataframe > tbody > tr {\n",
       "  text-align: right;\n",
       "  white-space: pre-wrap;\n",
       "}\n",
       "</style>\n",
       "<small>shape: (5, 16)</small><table border=\"1\" class=\"dataframe\"><thead><tr><th>PassengerId</th><th>Survived</th><th>Pclass</th><th>Name</th><th>Sex_female</th><th>Sex_male</th><th>Age</th><th>SibSp</th><th>Parch</th><th>Ticket</th><th>Fare</th><th>Cabin</th><th>Embarked_C</th><th>Embarked_Q</th><th>Embarked_S</th><th>Embarked_null</th></tr><tr><td>i64</td><td>i64</td><td>i64</td><td>str</td><td>u8</td><td>u8</td><td>f64</td><td>i64</td><td>i64</td><td>str</td><td>f64</td><td>str</td><td>u8</td><td>u8</td><td>u8</td><td>u8</td></tr></thead><tbody><tr><td>1</td><td>0</td><td>3</td><td>&quot;Braund, Mr. Owen Harris&quot;</td><td>0</td><td>1</td><td>22.0</td><td>1</td><td>0</td><td>&quot;A/5 21171&quot;</td><td>7.25</td><td>null</td><td>0</td><td>0</td><td>1</td><td>0</td></tr><tr><td>2</td><td>1</td><td>1</td><td>&quot;Cumings, Mrs. John Bradley (Fl…</td><td>1</td><td>0</td><td>38.0</td><td>1</td><td>0</td><td>&quot;PC 17599&quot;</td><td>71.2833</td><td>&quot;C85&quot;</td><td>1</td><td>0</td><td>0</td><td>0</td></tr><tr><td>3</td><td>1</td><td>3</td><td>&quot;Heikkinen, Miss. Laina&quot;</td><td>1</td><td>0</td><td>26.0</td><td>0</td><td>0</td><td>&quot;STON/O2. 3101282&quot;</td><td>7.925</td><td>null</td><td>0</td><td>0</td><td>1</td><td>0</td></tr><tr><td>4</td><td>1</td><td>1</td><td>&quot;Futrelle, Mrs. Jacques Heath (…</td><td>1</td><td>0</td><td>35.0</td><td>1</td><td>0</td><td>&quot;113803&quot;</td><td>53.1</td><td>&quot;C123&quot;</td><td>0</td><td>0</td><td>1</td><td>0</td></tr><tr><td>5</td><td>0</td><td>3</td><td>&quot;Allen, Mr. William Henry&quot;</td><td>0</td><td>1</td><td>35.0</td><td>0</td><td>0</td><td>&quot;373450&quot;</td><td>8.05</td><td>null</td><td>0</td><td>0</td><td>1</td><td>0</td></tr></tbody></table></div>"
      ],
      "text/plain": [
       "shape: (5, 16)\n",
       "┌────────────┬──────────┬────────┬────────────┬───┬────────────┬───────────┬───────────┬───────────┐\n",
       "│ PassengerI ┆ Survived ┆ Pclass ┆ Name       ┆ … ┆ Embarked_C ┆ Embarked_ ┆ Embarked_ ┆ Embarked_ │\n",
       "│ d          ┆ ---      ┆ ---    ┆ ---        ┆   ┆ ---        ┆ Q         ┆ S         ┆ null      │\n",
       "│ ---        ┆ i64      ┆ i64    ┆ str        ┆   ┆ u8         ┆ ---       ┆ ---       ┆ ---       │\n",
       "│ i64        ┆          ┆        ┆            ┆   ┆            ┆ u8        ┆ u8        ┆ u8        │\n",
       "╞════════════╪══════════╪════════╪════════════╪═══╪════════════╪═══════════╪═══════════╪═══════════╡\n",
       "│ 1          ┆ 0        ┆ 3      ┆ Braund,    ┆ … ┆ 0          ┆ 0         ┆ 1         ┆ 0         │\n",
       "│            ┆          ┆        ┆ Mr. Owen   ┆   ┆            ┆           ┆           ┆           │\n",
       "│            ┆          ┆        ┆ Harris     ┆   ┆            ┆           ┆           ┆           │\n",
       "│ 2          ┆ 1        ┆ 1      ┆ Cumings,   ┆ … ┆ 1          ┆ 0         ┆ 0         ┆ 0         │\n",
       "│            ┆          ┆        ┆ Mrs. John  ┆   ┆            ┆           ┆           ┆           │\n",
       "│            ┆          ┆        ┆ Bradley    ┆   ┆            ┆           ┆           ┆           │\n",
       "│            ┆          ┆        ┆ (Fl…       ┆   ┆            ┆           ┆           ┆           │\n",
       "│ 3          ┆ 1        ┆ 3      ┆ Heikkinen, ┆ … ┆ 0          ┆ 0         ┆ 1         ┆ 0         │\n",
       "│            ┆          ┆        ┆ Miss.      ┆   ┆            ┆           ┆           ┆           │\n",
       "│            ┆          ┆        ┆ Laina      ┆   ┆            ┆           ┆           ┆           │\n",
       "│ 4          ┆ 1        ┆ 1      ┆ Futrelle,  ┆ … ┆ 0          ┆ 0         ┆ 1         ┆ 0         │\n",
       "│            ┆          ┆        ┆ Mrs.       ┆   ┆            ┆           ┆           ┆           │\n",
       "│            ┆          ┆        ┆ Jacques    ┆   ┆            ┆           ┆           ┆           │\n",
       "│            ┆          ┆        ┆ Heath (…   ┆   ┆            ┆           ┆           ┆           │\n",
       "│ 5          ┆ 0        ┆ 3      ┆ Allen, Mr. ┆ … ┆ 0          ┆ 0         ┆ 1         ┆ 0         │\n",
       "│            ┆          ┆        ┆ William    ┆   ┆            ┆           ┆           ┆           │\n",
       "│            ┆          ┆        ┆ Henry      ┆   ┆            ┆           ┆           ┆           │\n",
       "└────────────┴──────────┴────────┴────────────┴───┴────────────┴───────────┴───────────┴───────────┘"
      ]
     },
     "execution_count": 63,
     "metadata": {},
     "output_type": "execute_result"
    }
   ],
   "source": [
    "# pass the DataFrame to 'get_dummies' and specify which columns to dummy (it drops the original columns)\n",
    "train.to_dummies([\"Sex\", \"Embarked\"]).head()"
   ]
  },
  {
   "cell_type": "code",
   "execution_count": 64,
   "metadata": {},
   "outputs": [
    {
     "data": {
      "text/html": [
       "<div><style>\n",
       ".dataframe > thead > tr,\n",
       ".dataframe > tbody > tr {\n",
       "  text-align: right;\n",
       "  white-space: pre-wrap;\n",
       "}\n",
       "</style>\n",
       "<small>shape: (5, 14)</small><table border=\"1\" class=\"dataframe\"><thead><tr><th>PassengerId</th><th>Survived</th><th>Pclass</th><th>Name</th><th>Sex_female</th><th>Age</th><th>SibSp</th><th>Parch</th><th>Ticket</th><th>Fare</th><th>Cabin</th><th>Embarked_C</th><th>Embarked_Q</th><th>Embarked_null</th></tr><tr><td>i64</td><td>i64</td><td>i64</td><td>str</td><td>u8</td><td>f64</td><td>i64</td><td>i64</td><td>str</td><td>f64</td><td>str</td><td>u8</td><td>u8</td><td>u8</td></tr></thead><tbody><tr><td>1</td><td>0</td><td>3</td><td>&quot;Braund, Mr. Owen Harris&quot;</td><td>0</td><td>22.0</td><td>1</td><td>0</td><td>&quot;A/5 21171&quot;</td><td>7.25</td><td>null</td><td>0</td><td>0</td><td>0</td></tr><tr><td>2</td><td>1</td><td>1</td><td>&quot;Cumings, Mrs. John Bradley (Fl…</td><td>1</td><td>38.0</td><td>1</td><td>0</td><td>&quot;PC 17599&quot;</td><td>71.2833</td><td>&quot;C85&quot;</td><td>1</td><td>0</td><td>0</td></tr><tr><td>3</td><td>1</td><td>3</td><td>&quot;Heikkinen, Miss. Laina&quot;</td><td>1</td><td>26.0</td><td>0</td><td>0</td><td>&quot;STON/O2. 3101282&quot;</td><td>7.925</td><td>null</td><td>0</td><td>0</td><td>0</td></tr><tr><td>4</td><td>1</td><td>1</td><td>&quot;Futrelle, Mrs. Jacques Heath (…</td><td>1</td><td>35.0</td><td>1</td><td>0</td><td>&quot;113803&quot;</td><td>53.1</td><td>&quot;C123&quot;</td><td>0</td><td>0</td><td>0</td></tr><tr><td>5</td><td>0</td><td>3</td><td>&quot;Allen, Mr. William Henry&quot;</td><td>0</td><td>35.0</td><td>0</td><td>0</td><td>&quot;373450&quot;</td><td>8.05</td><td>null</td><td>0</td><td>0</td><td>0</td></tr></tbody></table></div>"
      ],
      "text/plain": [
       "shape: (5, 14)\n",
       "┌─────────────┬──────────┬────────┬─────────────┬───┬───────┬────────────┬────────────┬────────────┐\n",
       "│ PassengerId ┆ Survived ┆ Pclass ┆ Name        ┆ … ┆ Cabin ┆ Embarked_C ┆ Embarked_Q ┆ Embarked_n │\n",
       "│ ---         ┆ ---      ┆ ---    ┆ ---         ┆   ┆ ---   ┆ ---        ┆ ---        ┆ ull        │\n",
       "│ i64         ┆ i64      ┆ i64    ┆ str         ┆   ┆ str   ┆ u8         ┆ u8         ┆ ---        │\n",
       "│             ┆          ┆        ┆             ┆   ┆       ┆            ┆            ┆ u8         │\n",
       "╞═════════════╪══════════╪════════╪═════════════╪═══╪═══════╪════════════╪════════════╪════════════╡\n",
       "│ 1           ┆ 0        ┆ 3      ┆ Braund, Mr. ┆ … ┆ null  ┆ 0          ┆ 0          ┆ 0          │\n",
       "│             ┆          ┆        ┆ Owen Harris ┆   ┆       ┆            ┆            ┆            │\n",
       "│ 2           ┆ 1        ┆ 1      ┆ Cumings,    ┆ … ┆ C85   ┆ 1          ┆ 0          ┆ 0          │\n",
       "│             ┆          ┆        ┆ Mrs. John   ┆   ┆       ┆            ┆            ┆            │\n",
       "│             ┆          ┆        ┆ Bradley     ┆   ┆       ┆            ┆            ┆            │\n",
       "│             ┆          ┆        ┆ (Fl…        ┆   ┆       ┆            ┆            ┆            │\n",
       "│ 3           ┆ 1        ┆ 3      ┆ Heikkinen,  ┆ … ┆ null  ┆ 0          ┆ 0          ┆ 0          │\n",
       "│             ┆          ┆        ┆ Miss. Laina ┆   ┆       ┆            ┆            ┆            │\n",
       "│ 4           ┆ 1        ┆ 1      ┆ Futrelle,   ┆ … ┆ C123  ┆ 0          ┆ 0          ┆ 0          │\n",
       "│             ┆          ┆        ┆ Mrs.        ┆   ┆       ┆            ┆            ┆            │\n",
       "│             ┆          ┆        ┆ Jacques     ┆   ┆       ┆            ┆            ┆            │\n",
       "│             ┆          ┆        ┆ Heath (…    ┆   ┆       ┆            ┆            ┆            │\n",
       "│ 5           ┆ 0        ┆ 3      ┆ Allen, Mr.  ┆ … ┆ null  ┆ 0          ┆ 0          ┆ 0          │\n",
       "│             ┆          ┆        ┆ William     ┆   ┆       ┆            ┆            ┆            │\n",
       "│             ┆          ┆        ┆ Henry       ┆   ┆       ┆            ┆            ┆            │\n",
       "└─────────────┴──────────┴────────┴─────────────┴───┴───────┴────────────┴────────────┴────────────┘"
      ]
     },
     "execution_count": 64,
     "metadata": {},
     "output_type": "execute_result"
    }
   ],
   "source": [
    "# use the 'drop_first' parameter (new in pandas 0.18) to drop the first dummy variable for each feature\n",
    "train.to_dummies([\"Sex\", \"Embarked\"], drop_first=True).head()"
   ]
  },
  {
   "attachments": {},
   "cell_type": "markdown",
   "metadata": {},
   "source": [
    "### Cardinal data\n"
   ]
  },
  {
   "cell_type": "code",
   "execution_count": 65,
   "metadata": {},
   "outputs": [
    {
     "data": {
      "text/html": [
       "<div><style>\n",
       ".dataframe > thead > tr,\n",
       ".dataframe > tbody > tr {\n",
       "  text-align: right;\n",
       "  white-space: pre-wrap;\n",
       "}\n",
       "</style>\n",
       "<small>shape: (4, 2)</small><table border=\"1\" class=\"dataframe\"><thead><tr><th>ID</th><th>quality</th></tr><tr><td>i64</td><td>str</td></tr></thead><tbody><tr><td>100</td><td>&quot;good&quot;</td></tr><tr><td>101</td><td>&quot;good&quot;</td></tr><tr><td>102</td><td>&quot;very good&quot;</td></tr><tr><td>103</td><td>&quot;excellent&quot;</td></tr></tbody></table></div>"
      ],
      "text/plain": [
       "shape: (4, 2)\n",
       "┌─────┬───────────┐\n",
       "│ ID  ┆ quality   │\n",
       "│ --- ┆ ---       │\n",
       "│ i64 ┆ str       │\n",
       "╞═════╪═══════════╡\n",
       "│ 100 ┆ good      │\n",
       "│ 101 ┆ good      │\n",
       "│ 102 ┆ very good │\n",
       "│ 103 ┆ excellent │\n",
       "└─────┴───────────┘"
      ]
     },
     "execution_count": 65,
     "metadata": {},
     "output_type": "execute_result"
    }
   ],
   "source": [
    "# create a small DataFrame from a dictionary\n",
    "small = pl.DataFrame({\n",
    "    \"ID\": [100, 101, 102, 103],\n",
    "    \"quality\": [\"good\", \"good\", \"very good\", \"excellent\"],\n",
    "})\n",
    "small.head()"
   ]
  },
  {
   "cell_type": "code",
   "execution_count": 66,
   "metadata": {},
   "outputs": [
    {
     "data": {
      "text/html": [
       "<div><style>\n",
       ".dataframe > thead > tr,\n",
       ".dataframe > tbody > tr {\n",
       "  text-align: right;\n",
       "  white-space: pre-wrap;\n",
       "}\n",
       "</style>\n",
       "<small>shape: (4,)</small><table border=\"1\" class=\"dataframe\"><thead><tr><th>quality</th></tr><tr><td>str</td></tr></thead><tbody><tr><td>&quot;good&quot;</td></tr><tr><td>&quot;good&quot;</td></tr><tr><td>&quot;very good&quot;</td></tr><tr><td>&quot;excellent&quot;</td></tr></tbody></table></div>"
      ],
      "text/plain": [
       "shape: (4,)\n",
       "Series: 'quality' [str]\n",
       "[\n",
       "\t\"good\"\n",
       "\t\"good\"\n",
       "\t\"very good\"\n",
       "\t\"excellent\"\n",
       "]"
      ]
     },
     "execution_count": 66,
     "metadata": {},
     "output_type": "execute_result"
    }
   ],
   "source": [
    "# define a logical ordering for the categories\n",
    "small.with_columns([pl.col(\"quality\").cast(pl.Categorical(\"lexical\"))])\n",
    "small[\"quality\"]"
   ]
  },
  {
   "cell_type": "code",
   "execution_count": 67,
   "metadata": {},
   "outputs": [
    {
     "data": {
      "text/html": [
       "<div><style>\n",
       ".dataframe > thead > tr,\n",
       ".dataframe > tbody > tr {\n",
       "  text-align: right;\n",
       "  white-space: pre-wrap;\n",
       "}\n",
       "</style>\n",
       "<small>shape: (4, 2)</small><table border=\"1\" class=\"dataframe\"><thead><tr><th>ID</th><th>quality</th></tr><tr><td>i64</td><td>str</td></tr></thead><tbody><tr><td>103</td><td>&quot;excellent&quot;</td></tr><tr><td>100</td><td>&quot;good&quot;</td></tr><tr><td>101</td><td>&quot;good&quot;</td></tr><tr><td>102</td><td>&quot;very good&quot;</td></tr></tbody></table></div>"
      ],
      "text/plain": [
       "shape: (4, 2)\n",
       "┌─────┬───────────┐\n",
       "│ ID  ┆ quality   │\n",
       "│ --- ┆ ---       │\n",
       "│ i64 ┆ str       │\n",
       "╞═════╪═══════════╡\n",
       "│ 103 ┆ excellent │\n",
       "│ 100 ┆ good      │\n",
       "│ 101 ┆ good      │\n",
       "│ 102 ┆ very good │\n",
       "└─────┴───────────┘"
      ]
     },
     "execution_count": 67,
     "metadata": {},
     "output_type": "execute_result"
    }
   ],
   "source": [
    "# sort the DataFrame by the 'quality' Series (logical order)\n",
    "small.sort(by=\"quality\")"
   ]
  },
  {
   "cell_type": "code",
   "execution_count": 68,
   "metadata": {},
   "outputs": [
    {
     "data": {
      "text/html": [
       "<div><style>\n",
       ".dataframe > thead > tr,\n",
       ".dataframe > tbody > tr {\n",
       "  text-align: right;\n",
       "  white-space: pre-wrap;\n",
       "}\n",
       "</style>\n",
       "<small>shape: (1, 2)</small><table border=\"1\" class=\"dataframe\"><thead><tr><th>ID</th><th>quality</th></tr><tr><td>i64</td><td>str</td></tr></thead><tbody><tr><td>102</td><td>&quot;very good&quot;</td></tr></tbody></table></div>"
      ],
      "text/plain": [
       "shape: (1, 2)\n",
       "┌─────┬───────────┐\n",
       "│ ID  ┆ quality   │\n",
       "│ --- ┆ ---       │\n",
       "│ i64 ┆ str       │\n",
       "╞═════╪═══════════╡\n",
       "│ 102 ┆ very good │\n",
       "└─────┴───────────┘"
      ]
     },
     "execution_count": 68,
     "metadata": {},
     "output_type": "execute_result"
    }
   ],
   "source": [
    "# comparison operators work with ordered categories\n",
    "small.filter(pl.col(\"quality\") > \"good\")"
   ]
  },
  {
   "attachments": {},
   "cell_type": "markdown",
   "metadata": {},
   "source": [
    "## Sample rows\n"
   ]
  },
  {
   "cell_type": "code",
   "execution_count": 69,
   "metadata": {},
   "outputs": [
    {
     "data": {
      "text/html": [
       "<div><style>\n",
       ".dataframe > thead > tr,\n",
       ".dataframe > tbody > tr {\n",
       "  text-align: right;\n",
       "  white-space: pre-wrap;\n",
       "}\n",
       "</style>\n",
       "<small>shape: (3, 5)</small><table border=\"1\" class=\"dataframe\"><thead><tr><th>City</th><th>Colors Reported</th><th>Shape Reported</th><th>State</th><th>Time</th></tr><tr><td>str</td><td>str</td><td>str</td><td>str</td><td>str</td></tr></thead><tbody><tr><td>&quot;Kennett Square&quot;</td><td>null</td><td>&quot;OTHER&quot;</td><td>&quot;PA&quot;</td><td>&quot;6/1/1975 22:00&quot;</td></tr><tr><td>&quot;Landaff&quot;</td><td>null</td><td>&quot;TRIANGLE&quot;</td><td>&quot;NH&quot;</td><td>&quot;11/1/1986 22:50&quot;</td></tr><tr><td>&quot;Mercedes&quot;</td><td>null</td><td>&quot;OVAL&quot;</td><td>&quot;TX&quot;</td><td>&quot;2/14/1986 8:15&quot;</td></tr></tbody></table></div>"
      ],
      "text/plain": [
       "shape: (3, 5)\n",
       "┌────────────────┬─────────────────┬────────────────┬───────┬─────────────────┐\n",
       "│ City           ┆ Colors Reported ┆ Shape Reported ┆ State ┆ Time            │\n",
       "│ ---            ┆ ---             ┆ ---            ┆ ---   ┆ ---             │\n",
       "│ str            ┆ str             ┆ str            ┆ str   ┆ str             │\n",
       "╞════════════════╪═════════════════╪════════════════╪═══════╪═════════════════╡\n",
       "│ Kennett Square ┆ null            ┆ OTHER          ┆ PA    ┆ 6/1/1975 22:00  │\n",
       "│ Landaff        ┆ null            ┆ TRIANGLE       ┆ NH    ┆ 11/1/1986 22:50 │\n",
       "│ Mercedes       ┆ null            ┆ OVAL           ┆ TX    ┆ 2/14/1986 8:15  │\n",
       "└────────────────┴─────────────────┴────────────────┴───────┴─────────────────┘"
      ]
     },
     "execution_count": 69,
     "metadata": {},
     "output_type": "execute_result"
    }
   ],
   "source": [
    "# use the 'seed' parameter for reproducibility\n",
    "ufo.sample(n=3, seed=42)"
   ]
  },
  {
   "cell_type": "code",
   "execution_count": 70,
   "metadata": {},
   "outputs": [],
   "source": [
    "# sample 75% of the DataFrame's rows without replacement\n",
    "train = ufo.sample(fraction=0.75, seed=99)"
   ]
  }
 ],
 "metadata": {
  "kernelspec": {
   "display_name": "ros",
   "language": "python",
   "name": "python3"
  },
  "language_info": {
   "codemirror_mode": {
    "name": "ipython",
    "version": 3
   },
   "file_extension": ".py",
   "mimetype": "text/x-python",
   "name": "python",
   "nbconvert_exporter": "python",
   "pygments_lexer": "ipython3",
   "version": "3.12.10"
  },
  "orig_nbformat": 4
 },
 "nbformat": 4,
 "nbformat_minor": 2
}
