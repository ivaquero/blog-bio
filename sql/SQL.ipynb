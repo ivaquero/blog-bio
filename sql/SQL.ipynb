{
 "cells": [
  {
   "cell_type": "markdown",
   "id": "0c2c44fc",
   "metadata": {},
   "source": [
    "# MySQL"
   ]
  },
  {
   "cell_type": "code",
   "execution_count": null,
   "id": "845455fa",
   "metadata": {
    "vscode": {
     "languageId": "mysql"
    }
   },
   "outputs": [],
   "source": [
    "%LOAD mysql db=Company user=root password='root'"
   ]
  },
  {
   "cell_type": "code",
   "execution_count": null,
   "id": "4532f232",
   "metadata": {
    "vscode": {
     "languageId": "mysql"
    }
   },
   "outputs": [],
   "source": [
    "-- https://techbeamers.com/sql-query-questions-answers-for-practice/\n",
    "DROP DATABASE Company;\n",
    "\n",
    "CREATE DATABASE Company;"
   ]
  },
  {
   "cell_type": "code",
   "execution_count": null,
   "id": "4078899c",
   "metadata": {
    "vscode": {
     "languageId": "mysql"
    }
   },
   "outputs": [],
   "source": [
    "USE Company;"
   ]
  },
  {
   "cell_type": "code",
   "execution_count": null,
   "id": "eade03a2",
   "metadata": {
    "vscode": {
     "languageId": "mysql"
    }
   },
   "outputs": [],
   "source": [
    "CREATE TABLE Worker (\n",
    "    WORKER_ID INT NOT NULL PRIMARY KEY,\n",
    "    FIRST_NAME CHAR(25),\n",
    "    LAST_NAME CHAR(25),\n",
    "    SALARY INT,\n",
    "    JOINING_DATE DATETIME,\n",
    "    DEPARTMENT CHAR(25)\n",
    ");"
   ]
  },
  {
   "cell_type": "code",
   "execution_count": null,
   "id": "eaa95ac3",
   "metadata": {
    "vscode": {
     "languageId": "mysql"
    }
   },
   "outputs": [],
   "source": [
    "INSERT INTO\n",
    "    Worker (\n",
    "        WORKER_ID,\n",
    "        FIRST_NAME,\n",
    "        LAST_NAME,\n",
    "        SALARY,\n",
    "        JOINING_DATE,\n",
    "        DEPARTMENT\n",
    "    )\n",
    "VALUES\n",
    "    (\n",
    "        1,\n",
    "        'Monika',\n",
    "        'Arora',\n",
    "        100000,\n",
    "        '2021-02-20 09:00:00',\n",
    "        'HR'\n",
    "    ),\n",
    "    (\n",
    "        2,\n",
    "        'Niharika',\n",
    "        'Verma',\n",
    "        80000,\n",
    "        '2021-06-11 09:00:00',\n",
    "        'Admin'\n",
    "    ),\n",
    "    (\n",
    "        3,\n",
    "        'Vishal',\n",
    "        'Singhal',\n",
    "        300000,\n",
    "        '2021-02-20 09:00:00',\n",
    "        'HR'\n",
    "    ),\n",
    "    (\n",
    "        4,\n",
    "        'Amitabh',\n",
    "        'Singh',\n",
    "        500000,\n",
    "        '2021-02-20 09:00:00',\n",
    "        'Admin'\n",
    "    ),\n",
    "    (\n",
    "        5,\n",
    "        'Vivek',\n",
    "        'Bhati',\n",
    "        500000,\n",
    "        '2021-06-11 09:00:00',\n",
    "        'Admin'\n",
    "    ),\n",
    "    (\n",
    "        6,\n",
    "        'Vipul',\n",
    "        'Diwan',\n",
    "        200000,\n",
    "        '2021-06-11 09:00:00',\n",
    "        'Account'\n",
    "    ),\n",
    "    (\n",
    "        7,\n",
    "        'Satish',\n",
    "        'Kumar',\n",
    "        75000,\n",
    "        '2021-01-20 09:00:00',\n",
    "        'Account'\n",
    "    ),\n",
    "    (\n",
    "        8,\n",
    "        'Geetika',\n",
    "        'Chauhan',\n",
    "        90000,\n",
    "        '2021-04-11 09:00:00',\n",
    "        'Admin'\n",
    "    );"
   ]
  },
  {
   "cell_type": "code",
   "execution_count": null,
   "id": "1bea0be5",
   "metadata": {
    "vscode": {
     "languageId": "mysql"
    }
   },
   "outputs": [],
   "source": [
    "CREATE TABLE Bonus (\n",
    "    WORKER_REF_ID INT,\n",
    "    BONUS_AMOUNT INT,\n",
    "    BONUS_DATE DATETIME,\n",
    "    FOREIGN KEY (WORKER_REF_ID) REFERENCES Worker (WORKER_ID) ON DELETE CASCADE\n",
    ");"
   ]
  },
  {
   "cell_type": "code",
   "execution_count": null,
   "id": "2da58ecb",
   "metadata": {
    "vscode": {
     "languageId": "mysql"
    }
   },
   "outputs": [],
   "source": [
    "INSERT INTO\n",
    "    Bonus (WORKER_REF_ID, BONUS_AMOUNT, BONUS_DATE)\n",
    "VALUES\n",
    "    (1, 5000, '2023-02-20'),\n",
    "    (2, 3000, '2023-06-11'),\n",
    "    (3, 4000, '2023-02-20'),\n",
    "    (1, 4500, '2023-02-20'),\n",
    "    (2, 3500, '2023-06-11');"
   ]
  },
  {
   "cell_type": "code",
   "execution_count": null,
   "id": "4912b90c",
   "metadata": {
    "vscode": {
     "languageId": "mysql"
    }
   },
   "outputs": [],
   "source": [
    "CREATE TABLE Title (\n",
    "    WORKER_REF_ID INT,\n",
    "    WORKER_TITLE CHAR(25),\n",
    "    AFFECTED_FROM DATETIME,\n",
    "    FOREIGN KEY (WORKER_REF_ID) REFERENCES Worker (WORKER_ID) ON DELETE CASCADE\n",
    ");"
   ]
  },
  {
   "cell_type": "code",
   "execution_count": null,
   "id": "8f2078e2",
   "metadata": {
    "vscode": {
     "languageId": "mysql"
    }
   },
   "outputs": [],
   "source": [
    "INSERT INTO\n",
    "    Title (WORKER_REF_ID, WORKER_TITLE, AFFECTED_FROM)\n",
    "VALUES\n",
    "    (1, 'Manager', '2023-02-20 00:00:00'),\n",
    "    (2, 'Executive', '2023-06-11 00:00:00'),\n",
    "    (8, 'Executive', '2023-06-11 00:00:00'),\n",
    "    (5, 'Manager', '2023-06-11 00:00:00'),\n",
    "    (4, 'Asst. Manager', '2023-06-11 00:00:00'),\n",
    "    (7, 'Executive', '2023-06-11 00:00:00'),\n",
    "    (6, 'Lead', '2023-06-11 00:00:00'),\n",
    "    (3, 'Lead', '2023-06-11 00:00:00');"
   ]
  },
  {
   "cell_type": "markdown",
   "id": "c63ab7fa",
   "metadata": {},
   "source": [
    "## Queries"
   ]
  },
  {
   "cell_type": "code",
   "execution_count": null,
   "id": "b41a921b",
   "metadata": {
    "vscode": {
     "languageId": "mysql"
    }
   },
   "outputs": [],
   "source": [
    "-- 1. Write SQL Query to Display FIRST_NAME with Alias WORKER_NAME.\n",
    "Select\n",
    "    FIRST_NAME AS WORKER_NAME\n",
    "from\n",
    "    Worker;"
   ]
  },
  {
   "cell_type": "code",
   "execution_count": null,
   "id": "c9c26ab5",
   "metadata": {
    "vscode": {
     "languageId": "mysql"
    }
   },
   "outputs": [],
   "source": [
    "-- 2. Write SQL Query to Display FIRST_NAME in Upper Case from the Worker Table.\n",
    "Select\n",
    "    upper(FIRST_NAME)\n",
    "from\n",
    "    Worker;"
   ]
  }
 ],
 "metadata": {
  "kernelspec": {
   "display_name": "xsql",
   "language": "sqlite",
   "name": "xsql"
  },
  "language_info": {
   "codemirror_mode": "sql",
   "file_extension": "",
   "mimetype": "",
   "name": "sqlite",
   "version": "0.3.0"
  }
 },
 "nbformat": 4,
 "nbformat_minor": 5
}
